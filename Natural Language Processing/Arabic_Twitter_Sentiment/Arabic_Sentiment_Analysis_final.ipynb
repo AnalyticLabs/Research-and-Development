{
 "cells": [
  {
   "cell_type": "code",
   "execution_count": 0,
   "metadata": {
    "colab": {
     "base_uri": "https://localhost:8080/",
     "height": 122
    },
    "colab_type": "code",
    "id": "xrhKLoiMoFXx",
    "outputId": "2454f62a-4678-4e98-e503-dc9586930c5f"
   },
   "outputs": [
    {
     "name": "stdout",
     "output_type": "stream",
     "text": [
      "Go to this URL in a browser: https://accounts.google.com/o/oauth2/auth?client_id=947318989803-6bn6qk8qdgf4n4g3pfee6491hc0brc4i.apps.googleusercontent.com&redirect_uri=urn%3aietf%3awg%3aoauth%3a2.0%3aoob&response_type=code&scope=email%20https%3a%2f%2fwww.googleapis.com%2fauth%2fdocs.test%20https%3a%2f%2fwww.googleapis.com%2fauth%2fdrive%20https%3a%2f%2fwww.googleapis.com%2fauth%2fdrive.photos.readonly%20https%3a%2f%2fwww.googleapis.com%2fauth%2fpeopleapi.readonly\n",
      "\n",
      "Enter your authorization code:\n",
      "··········\n",
      "Mounted at /content/drive\n"
     ]
    }
   ],
   "source": [
    "from google.colab import drive\n",
    "drive.mount('/content/drive')"
   ]
  },
  {
   "cell_type": "code",
   "execution_count": 0,
   "metadata": {
    "colab": {},
    "colab_type": "code",
    "id": "jwD-KY6voNg8"
   },
   "outputs": [],
   "source": [
    "!cp /content/drive/My\\ Drive/Colab\\ Notebooks/3-class.csv 3-class.csv"
   ]
  },
  {
   "cell_type": "code",
   "execution_count": 0,
   "metadata": {
    "colab": {},
    "colab_type": "code",
    "id": "-t34yXZ2ob38"
   },
   "outputs": [],
   "source": [
    "!cp /content/drive/My\\ Drive/Colab\\ Notebooks/list.txt list.txt"
   ]
  },
  {
   "cell_type": "code",
   "execution_count": 0,
   "metadata": {
    "colab": {
     "base_uri": "https://localhost:8080/",
     "height": 204
    },
    "colab_type": "code",
    "id": "Nuz7UmEmouTS",
    "outputId": "c144b2db-5016-438d-dcee-57e8ffb38503"
   },
   "outputs": [
    {
     "data": {
      "text/html": [
       "<div>\n",
       "<style scoped>\n",
       "    .dataframe tbody tr th:only-of-type {\n",
       "        vertical-align: middle;\n",
       "    }\n",
       "\n",
       "    .dataframe tbody tr th {\n",
       "        vertical-align: top;\n",
       "    }\n",
       "\n",
       "    .dataframe thead th {\n",
       "        text-align: right;\n",
       "    }\n",
       "</style>\n",
       "<table border=\"1\" class=\"dataframe\">\n",
       "  <thead>\n",
       "    <tr style=\"text-align: right;\">\n",
       "      <th></th>\n",
       "      <th>Tweet</th>\n",
       "      <th>Polarity</th>\n",
       "    </tr>\n",
       "  </thead>\n",
       "  <tbody>\n",
       "    <tr>\n",
       "      <th>0</th>\n",
       "      <td>ابراهيم_عيسى الوسخ ابن الوسخه كلما حصل حادث ا...</td>\n",
       "      <td>neg</td>\n",
       "    </tr>\n",
       "    <tr>\n",
       "      <th>1</th>\n",
       "      <td>اخطر حروب الارض حرب العقيده حسيبك الله ي اول ...</td>\n",
       "      <td>neg</td>\n",
       "    </tr>\n",
       "    <tr>\n",
       "      <th>2</th>\n",
       "      <td>اصبحت تقدم برامج عبر الجمعيات الخيريه لايصال ...</td>\n",
       "      <td>neg</td>\n",
       "    </tr>\n",
       "    <tr>\n",
       "      <th>3</th>\n",
       "      <td>اعلامنا متمثل في داوودالشريان و روتانا وطقتهم...</td>\n",
       "      <td>neg</td>\n",
       "    </tr>\n",
       "    <tr>\n",
       "      <th>4</th>\n",
       "      <td>الاصرار مرتزقه_برنامج_الاصرار بضاعه هالمترديه...</td>\n",
       "      <td>neg</td>\n",
       "    </tr>\n",
       "  </tbody>\n",
       "</table>\n",
       "</div>"
      ],
      "text/plain": [
       "                                               Tweet Polarity\n",
       "0   ابراهيم_عيسى الوسخ ابن الوسخه كلما حصل حادث ا...      neg\n",
       "1   اخطر حروب الارض حرب العقيده حسيبك الله ي اول ...      neg\n",
       "2   اصبحت تقدم برامج عبر الجمعيات الخيريه لايصال ...      neg\n",
       "3   اعلامنا متمثل في داوودالشريان و روتانا وطقتهم...      neg\n",
       "4   الاصرار مرتزقه_برنامج_الاصرار بضاعه هالمترديه...      neg"
      ]
     },
     "execution_count": 47,
     "metadata": {
      "tags": []
     },
     "output_type": "execute_result"
    }
   ],
   "source": [
    "import pandas as pd\n",
    "import numpy as np\n",
    "import matplotlib.pyplot as plt\n",
    "\n",
    "df = pd.read_csv('3-class.csv')\n",
    "df.head()"
   ]
  },
  {
   "cell_type": "code",
   "execution_count": 0,
   "metadata": {
    "colab": {
     "base_uri": "https://localhost:8080/",
     "height": 136
    },
    "colab_type": "code",
    "id": "FV6oCwqApCqU",
    "outputId": "6b56bebd-f6e1-4e64-eff6-fa8c6293fedf"
   },
   "outputs": [
    {
     "name": "stdout",
     "output_type": "stream",
     "text": [
      "<class 'pandas.core.frame.DataFrame'>\n",
      "RangeIndex: 56674 entries, 0 to 56673\n",
      "Data columns (total 2 columns):\n",
      "Tweet       56674 non-null object\n",
      "Polarity    56674 non-null object\n",
      "dtypes: object(2)\n",
      "memory usage: 885.7+ KB\n"
     ]
    }
   ],
   "source": [
    "df.info()"
   ]
  },
  {
   "cell_type": "code",
   "execution_count": 0,
   "metadata": {
    "colab": {
     "base_uri": "https://localhost:8080/",
     "height": 85
    },
    "colab_type": "code",
    "id": "-00vtx2_pLwD",
    "outputId": "1221f50b-0ff3-4fb7-cd51-46cd0e9e29a2"
   },
   "outputs": [
    {
     "data": {
      "text/plain": [
       "neg     20731\n",
       "neut    18726\n",
       "pos     17217\n",
       "Name: Polarity, dtype: int64"
      ]
     },
     "execution_count": 49,
     "metadata": {
      "tags": []
     },
     "output_type": "execute_result"
    }
   ],
   "source": [
    "df.Polarity.value_counts()"
   ]
  },
  {
   "cell_type": "code",
   "execution_count": 0,
   "metadata": {
    "colab": {},
    "colab_type": "code",
    "id": "6hu1CFuvpV-f"
   },
   "outputs": [],
   "source": [
    "df['Polarity'] = df['Polarity'].map({'neg': 0, 'pos': 1, 'neut': 2})"
   ]
  },
  {
   "cell_type": "code",
   "execution_count": 0,
   "metadata": {
    "colab": {
     "base_uri": "https://localhost:8080/",
     "height": 359
    },
    "colab_type": "code",
    "id": "nRBTZLXup8Wv",
    "outputId": "4956dfed-1ed6-4cbd-b6b6-50668c3a4aed"
   },
   "outputs": [
    {
     "data": {
      "text/html": [
       "<div>\n",
       "<style scoped>\n",
       "    .dataframe tbody tr th:only-of-type {\n",
       "        vertical-align: middle;\n",
       "    }\n",
       "\n",
       "    .dataframe tbody tr th {\n",
       "        vertical-align: top;\n",
       "    }\n",
       "\n",
       "    .dataframe thead th {\n",
       "        text-align: right;\n",
       "    }\n",
       "</style>\n",
       "<table border=\"1\" class=\"dataframe\">\n",
       "  <thead>\n",
       "    <tr style=\"text-align: right;\">\n",
       "      <th></th>\n",
       "      <th>Tweet</th>\n",
       "      <th>Polarity</th>\n",
       "    </tr>\n",
       "  </thead>\n",
       "  <tbody>\n",
       "    <tr>\n",
       "      <th>0</th>\n",
       "      <td>ابراهيم_عيسى الوسخ ابن الوسخه كلما حصل حادث ا...</td>\n",
       "      <td>0</td>\n",
       "    </tr>\n",
       "    <tr>\n",
       "      <th>1</th>\n",
       "      <td>اخطر حروب الارض حرب العقيده حسيبك الله ي اول ...</td>\n",
       "      <td>0</td>\n",
       "    </tr>\n",
       "    <tr>\n",
       "      <th>2</th>\n",
       "      <td>اصبحت تقدم برامج عبر الجمعيات الخيريه لايصال ...</td>\n",
       "      <td>0</td>\n",
       "    </tr>\n",
       "    <tr>\n",
       "      <th>3</th>\n",
       "      <td>اعلامنا متمثل في داوودالشريان و روتانا وطقتهم...</td>\n",
       "      <td>0</td>\n",
       "    </tr>\n",
       "    <tr>\n",
       "      <th>4</th>\n",
       "      <td>الاصرار مرتزقه_برنامج_الاصرار بضاعه هالمترديه...</td>\n",
       "      <td>0</td>\n",
       "    </tr>\n",
       "    <tr>\n",
       "      <th>5</th>\n",
       "      <td>الاعلام اللبناني يهاجم السعوديه منذ مده بكل ق...</td>\n",
       "      <td>0</td>\n",
       "    </tr>\n",
       "    <tr>\n",
       "      <th>6</th>\n",
       "      <td>البرنامج استاجر بعض المشاهير و الهوامير في تو...</td>\n",
       "      <td>0</td>\n",
       "    </tr>\n",
       "    <tr>\n",
       "      <th>7</th>\n",
       "      <td>الحمد لله ما احتاج اتعلم من واحد فاشل اخلاقيا...</td>\n",
       "      <td>0</td>\n",
       "    </tr>\n",
       "    <tr>\n",
       "      <th>8</th>\n",
       "      <td>الخرج بيض الله وجه محافظ الخرج فهذه القناه تص...</td>\n",
       "      <td>0</td>\n",
       "    </tr>\n",
       "    <tr>\n",
       "      <th>9</th>\n",
       "      <td>الرياض السعوديه رسالتي لوزير العمل في حينه عن...</td>\n",
       "      <td>0</td>\n",
       "    </tr>\n",
       "  </tbody>\n",
       "</table>\n",
       "</div>"
      ],
      "text/plain": [
       "                                               Tweet  Polarity\n",
       "0   ابراهيم_عيسى الوسخ ابن الوسخه كلما حصل حادث ا...         0\n",
       "1   اخطر حروب الارض حرب العقيده حسيبك الله ي اول ...         0\n",
       "2   اصبحت تقدم برامج عبر الجمعيات الخيريه لايصال ...         0\n",
       "3   اعلامنا متمثل في داوودالشريان و روتانا وطقتهم...         0\n",
       "4   الاصرار مرتزقه_برنامج_الاصرار بضاعه هالمترديه...         0\n",
       "5   الاعلام اللبناني يهاجم السعوديه منذ مده بكل ق...         0\n",
       "6   البرنامج استاجر بعض المشاهير و الهوامير في تو...         0\n",
       "7   الحمد لله ما احتاج اتعلم من واحد فاشل اخلاقيا...         0\n",
       "8   الخرج بيض الله وجه محافظ الخرج فهذه القناه تص...         0\n",
       "9   الرياض السعوديه رسالتي لوزير العمل في حينه عن...         0"
      ]
     },
     "execution_count": 51,
     "metadata": {
      "tags": []
     },
     "output_type": "execute_result"
    }
   ],
   "source": [
    "df[df.Polarity == 0].head(10)"
   ]
  },
  {
   "cell_type": "code",
   "execution_count": 0,
   "metadata": {
    "colab": {
     "base_uri": "https://localhost:8080/",
     "height": 359
    },
    "colab_type": "code",
    "id": "rLbe70O-p-H8",
    "outputId": "0e856909-9d67-4641-bc02-74089716af71"
   },
   "outputs": [
    {
     "data": {
      "text/html": [
       "<div>\n",
       "<style scoped>\n",
       "    .dataframe tbody tr th:only-of-type {\n",
       "        vertical-align: middle;\n",
       "    }\n",
       "\n",
       "    .dataframe tbody tr th {\n",
       "        vertical-align: top;\n",
       "    }\n",
       "\n",
       "    .dataframe thead th {\n",
       "        text-align: right;\n",
       "    }\n",
       "</style>\n",
       "<table border=\"1\" class=\"dataframe\">\n",
       "  <thead>\n",
       "    <tr style=\"text-align: right;\">\n",
       "      <th></th>\n",
       "      <th>Tweet</th>\n",
       "      <th>Polarity</th>\n",
       "    </tr>\n",
       "  </thead>\n",
       "  <tbody>\n",
       "    <tr>\n",
       "      <th>39457</th>\n",
       "      <td>ssr true اشكر قناه واشكر الاخوان في منتدى توا...</td>\n",
       "      <td>1</td>\n",
       "    </tr>\n",
       "    <tr>\n",
       "      <th>39458</th>\n",
       "      <td>احلام الملكه بانوراما_fm منوره احلام</td>\n",
       "      <td>1</td>\n",
       "    </tr>\n",
       "    <tr>\n",
       "      <th>39459</th>\n",
       "      <td>احلى ديو علا الفارس علي الغفيلي في اسبوع</td>\n",
       "      <td>1</td>\n",
       "    </tr>\n",
       "    <tr>\n",
       "      <th>39460</th>\n",
       "      <td>احلى قعده مع احلى رفقات</td>\n",
       "      <td>1</td>\n",
       "    </tr>\n",
       "    <tr>\n",
       "      <th>39461</th>\n",
       "      <td>احلى قعده مع الاصدقاا</td>\n",
       "      <td>1</td>\n",
       "    </tr>\n",
       "    <tr>\n",
       "      <th>39462</th>\n",
       "      <td>الحمدلله كانت حفله حلوه وناجحه ومنشكر اهل الم...</td>\n",
       "      <td>1</td>\n",
       "    </tr>\n",
       "    <tr>\n",
       "      <th>39463</th>\n",
       "      <td>الكبار برنامج سيساهم في زياده وعي اللاعب السع...</td>\n",
       "      <td>1</td>\n",
       "    </tr>\n",
       "    <tr>\n",
       "      <th>39464</th>\n",
       "      <td>امجد يا شاكر يا قرشي نتمنا ليك التوفيق و انشا...</td>\n",
       "      <td>1</td>\n",
       "    </tr>\n",
       "    <tr>\n",
       "      <th>39465</th>\n",
       "      <td>انا وحبيبتي الفنانه القديره لطيفه من وسط بيرو...</td>\n",
       "      <td>1</td>\n",
       "    </tr>\n",
       "    <tr>\n",
       "      <th>39466</th>\n",
       "      <td>اولا العفو والشكر لكم وجزاكم الله الف خير لكل...</td>\n",
       "      <td>1</td>\n",
       "    </tr>\n",
       "  </tbody>\n",
       "</table>\n",
       "</div>"
      ],
      "text/plain": [
       "                                                   Tweet  Polarity\n",
       "39457   ssr true اشكر قناه واشكر الاخوان في منتدى توا...         1\n",
       "39458              احلام الملكه بانوراما_fm منوره احلام          1\n",
       "39459          احلى ديو علا الفارس علي الغفيلي في اسبوع          1\n",
       "39460                           احلى قعده مع احلى رفقات          1\n",
       "39461                             احلى قعده مع الاصدقاا          1\n",
       "39462   الحمدلله كانت حفله حلوه وناجحه ومنشكر اهل الم...         1\n",
       "39463   الكبار برنامج سيساهم في زياده وعي اللاعب السع...         1\n",
       "39464   امجد يا شاكر يا قرشي نتمنا ليك التوفيق و انشا...         1\n",
       "39465   انا وحبيبتي الفنانه القديره لطيفه من وسط بيرو...         1\n",
       "39466   اولا العفو والشكر لكم وجزاكم الله الف خير لكل...         1"
      ]
     },
     "execution_count": 52,
     "metadata": {
      "tags": []
     },
     "output_type": "execute_result"
    }
   ],
   "source": [
    "df[df.Polarity == 1].head(10)"
   ]
  },
  {
   "cell_type": "code",
   "execution_count": 0,
   "metadata": {
    "colab": {
     "base_uri": "https://localhost:8080/",
     "height": 359
    },
    "colab_type": "code",
    "id": "5L78uHb3rMSP",
    "outputId": "82ebc70b-f35a-40da-e59c-01209205cea3"
   },
   "outputs": [
    {
     "data": {
      "text/html": [
       "<div>\n",
       "<style scoped>\n",
       "    .dataframe tbody tr th:only-of-type {\n",
       "        vertical-align: middle;\n",
       "    }\n",
       "\n",
       "    .dataframe tbody tr th {\n",
       "        vertical-align: top;\n",
       "    }\n",
       "\n",
       "    .dataframe thead th {\n",
       "        text-align: right;\n",
       "    }\n",
       "</style>\n",
       "<table border=\"1\" class=\"dataframe\">\n",
       "  <thead>\n",
       "    <tr style=\"text-align: right;\">\n",
       "      <th></th>\n",
       "      <th>Tweet</th>\n",
       "      <th>Polarity</th>\n",
       "    </tr>\n",
       "  </thead>\n",
       "  <tbody>\n",
       "    <tr>\n",
       "      <th>20731</th>\n",
       "      <td>FM الاان عن هوايه التطعيس في المنطقه و الاهتم...</td>\n",
       "      <td>2</td>\n",
       "    </tr>\n",
       "    <tr>\n",
       "      <th>20732</th>\n",
       "      <td>اقصد برنامج اصرار على قناه تعرض الان</td>\n",
       "      <td>2</td>\n",
       "    </tr>\n",
       "    <tr>\n",
       "      <th>20733</th>\n",
       "      <td>الاستاذ محمد الحميدي ضيف في برنامج الثامنه_مع...</td>\n",
       "      <td>2</td>\n",
       "    </tr>\n",
       "    <tr>\n",
       "      <th>20734</th>\n",
       "      <td>الان في الطائره واجمل مفاجاه من و لوين بتتوقع...</td>\n",
       "      <td>2</td>\n",
       "    </tr>\n",
       "    <tr>\n",
       "      <th>20735</th>\n",
       "      <td>البرنسيسه منال_موسى و سفير الالحان فايز_السعي...</td>\n",
       "      <td>2</td>\n",
       "    </tr>\n",
       "    <tr>\n",
       "      <th>20736</th>\n",
       "      <td>الثلاثااالفنانه نوال_الزغبي ضيفه العلاميه وفا...</td>\n",
       "      <td>2</td>\n",
       "    </tr>\n",
       "    <tr>\n",
       "      <th>20737</th>\n",
       "      <td>الفيلسوف يوسف الثنيان في برنامج مع الكبار على...</td>\n",
       "      <td>2</td>\n",
       "    </tr>\n",
       "    <tr>\n",
       "      <th>20738</th>\n",
       "      <td>اللي له خلق يتابع الساعه 12 30 على mbc برنامج...</td>\n",
       "      <td>2</td>\n",
       "    </tr>\n",
       "    <tr>\n",
       "      <th>20739</th>\n",
       "      <td>الليله الاسطوره يوسف الثنيان عبر برنامج الكبا...</td>\n",
       "      <td>2</td>\n",
       "    </tr>\n",
       "    <tr>\n",
       "      <th>20740</th>\n",
       "      <td>الليله حلقه نوال_الزغبي في المتاهه على شاشه i...</td>\n",
       "      <td>2</td>\n",
       "    </tr>\n",
       "  </tbody>\n",
       "</table>\n",
       "</div>"
      ],
      "text/plain": [
       "                                                   Tweet  Polarity\n",
       "20731   FM الاان عن هوايه التطعيس في المنطقه و الاهتم...         2\n",
       "20732              اقصد برنامج اصرار على قناه تعرض الان          2\n",
       "20733   الاستاذ محمد الحميدي ضيف في برنامج الثامنه_مع...         2\n",
       "20734   الان في الطائره واجمل مفاجاه من و لوين بتتوقع...         2\n",
       "20735   البرنسيسه منال_موسى و سفير الالحان فايز_السعي...         2\n",
       "20736   الثلاثااالفنانه نوال_الزغبي ضيفه العلاميه وفا...         2\n",
       "20737   الفيلسوف يوسف الثنيان في برنامج مع الكبار على...         2\n",
       "20738   اللي له خلق يتابع الساعه 12 30 على mbc برنامج...         2\n",
       "20739   الليله الاسطوره يوسف الثنيان عبر برنامج الكبا...         2\n",
       "20740   الليله حلقه نوال_الزغبي في المتاهه على شاشه i...         2"
      ]
     },
     "execution_count": 53,
     "metadata": {
      "tags": []
     },
     "output_type": "execute_result"
    }
   ],
   "source": [
    "df[df.Polarity == 2].head(10)"
   ]
  },
  {
   "cell_type": "markdown",
   "metadata": {
    "colab_type": "text",
    "id": "nUITGplgrP9n"
   },
   "source": [
    "As can be seen from above, the first 20731 entries are of negative class, then the next 18726 tweets have neutral sentiment and after that the final 17217 entries belong to the positive class."
   ]
  },
  {
   "cell_type": "code",
   "execution_count": 0,
   "metadata": {
    "colab": {
     "base_uri": "https://localhost:8080/",
     "height": 85
    },
    "colab_type": "code",
    "id": "RJXz8NSKr4w5",
    "outputId": "98ea14a4-7325-4834-fd69-87342f69ba99"
   },
   "outputs": [
    {
     "data": {
      "text/plain": [
       "0    20731\n",
       "2    18726\n",
       "1    17217\n",
       "Name: Polarity, dtype: int64"
      ]
     },
     "execution_count": 54,
     "metadata": {
      "tags": []
     },
     "output_type": "execute_result"
    }
   ],
   "source": [
    "df.Polarity.value_counts()"
   ]
  },
  {
   "cell_type": "markdown",
   "metadata": {
    "colab_type": "text",
    "id": "CAPpasJWvpn1"
   },
   "source": [
    "###Data Preparartion"
   ]
  },
  {
   "cell_type": "code",
   "execution_count": 0,
   "metadata": {
    "colab": {},
    "colab_type": "code",
    "id": "aORnf61Bv4m_"
   },
   "outputs": [],
   "source": [
    "df['pre_clean_len'] = [len(t) for t in df.Tweet]"
   ]
  },
  {
   "cell_type": "code",
   "execution_count": 0,
   "metadata": {
    "colab": {
     "base_uri": "https://localhost:8080/",
     "height": 136
    },
    "colab_type": "code",
    "id": "lsKnSDGjwDny",
    "outputId": "70f222fb-7ad4-48c9-8bef-c3287556797d"
   },
   "outputs": [
    {
     "name": "stdout",
     "output_type": "stream",
     "text": [
      "{'dataset.shape': (56674, 3),\n",
      " 'polarity': {'description': 'sentiment class - 0: negative, 1: positive, 2: '\n",
      "                             'neutral',\n",
      "              'type': dtype('int64')},\n",
      " 'pre_clean_len': {'description': 'length of the tweet before cleaning',\n",
      "                   'type': dtype('int64')},\n",
      " 'tweet': {'description': 'tweet text', 'type': dtype('O')}}\n"
     ]
    }
   ],
   "source": [
    "from pprint import pprint\n",
    "data_dict = {\n",
    "    'polarity': {\n",
    "        'type': df.Polarity.dtype,\n",
    "        'description': 'sentiment class - 0: negative, 1: positive, 2: neutral'\n",
    "    },\n",
    "    'tweet': {\n",
    "        'type': df.Tweet.dtype,\n",
    "        'description': 'tweet text'\n",
    "    },\n",
    "    'pre_clean_len': {\n",
    "        'type': df.pre_clean_len.dtype,\n",
    "        'description': 'length of the tweet before cleaning'\n",
    "    },\n",
    "    'dataset.shape': df.shape\n",
    "}\n",
    "\n",
    "pprint(data_dict)"
   ]
  },
  {
   "cell_type": "markdown",
   "metadata": {
    "colab_type": "text",
    "id": "FKOxiSLp42v4"
   },
   "source": [
    "* In some tweets the HTML encodings are not converted to \n",
    "text, so we'll convert the HTML decoding to general text. We can use beautiful soup for decoding the HTML encodings.\n",
    "\n",
    "* We also have to remove the '@' charcter mentions as it is not relevant to us.\n",
    "\n",
    "* We'll also remove the URL links as they contain little significance for our task.\n",
    "\n",
    "* We have to remove hashtag and numbers from the tweets too."
   ]
  },
  {
   "cell_type": "code",
   "execution_count": 0,
   "metadata": {
    "colab": {},
    "colab_type": "code",
    "id": "e6WheXAW5Yem"
   },
   "outputs": [],
   "source": [
    "# Data cleaning function definition\n",
    "\n",
    "from nltk.tokenize import WordPunctTokenizer\n",
    "tok = WordPunctTokenizer()"
   ]
  },
  {
   "cell_type": "code",
   "execution_count": 0,
   "metadata": {
    "colab": {},
    "colab_type": "code",
    "id": "ipySzOTD59xP"
   },
   "outputs": [],
   "source": [
    "import re\n",
    "from bs4 import BeautifulSoup\n",
    "\n",
    "pat1 = r'@[A-Za-z0-9_]+'\n",
    "pat2 = r'https?://[^ ]+'\n",
    "combined_pat = r'|'.join((pat1, pat2))\n",
    "www_pat = r'www.[^ ]+'\n",
    "arabic_num_pat = '[٠١٢٣٤٥٦٧٨٩]'\n",
    "\n",
    "def tweet_cleaner(text):\n",
    "  soup = BeautifulSoup(text, 'lxml')\n",
    "  souped = soup.get_text()\n",
    "  try:\n",
    "        bom_removed = souped.decode(\"utf-8-sig\").replace(u\"\\ufffd\", \"?\")\n",
    "  except:\n",
    "        bom_removed = souped\n",
    "  stripped = re.sub(combined_pat, '', bom_removed)\n",
    "  stripped = re.sub(www_pat, '', stripped)\n",
    "  stripped = re.sub(arabic_num_pat, '', stripped)\n",
    "  words = [x for x in tok.tokenize(stripped) if len(x) > 1]\n",
    "  return (\" \".join(words)).strip()"
   ]
  },
  {
   "cell_type": "code",
   "execution_count": 0,
   "metadata": {
    "colab": {
     "base_uri": "https://localhost:8080/",
     "height": 102
    },
    "colab_type": "code",
    "id": "WlW8s5AVCC38",
    "outputId": "51e064bc-e1db-481d-b950-84f085559bcb"
   },
   "outputs": [
    {
     "name": "stdout",
     "output_type": "stream",
     "text": [
      "Tweets 10000 of 56674 has been processed\n",
      "Tweets 20000 of 56674 has been processed\n",
      "Tweets 30000 of 56674 has been processed\n",
      "Tweets 40000 of 56674 has been processed\n",
      "Tweets 50000 of 56674 has been processed\n"
     ]
    }
   ],
   "source": [
    "clean_tweet_texts = []\n",
    "for i in range(0, len(df)):\n",
    "  if( (i+1)%10000 == 0 ):\n",
    "        print(\"Tweets %d of %d has been processed\"%(i+1,len(df)))                                                                    \n",
    "  clean_tweet_texts.append(tweet_cleaner(df_copy['Tweet'][i]))"
   ]
  },
  {
   "cell_type": "code",
   "execution_count": 0,
   "metadata": {
    "colab": {
     "base_uri": "https://localhost:8080/",
     "height": 207
    },
    "colab_type": "code",
    "id": "xGZHXprAHWmO",
    "outputId": "234d6842-9171-4936-cc10-9d4fdb0aa86f"
   },
   "outputs": [
    {
     "data": {
      "text/plain": [
       "['ابراهيم_عيسي الوسخ ابن الوسخه كلما حصل حادث اتهم السعوديه بالارهاب الكلب كان براتب مليون جنيه من سنوي مصر',\n",
       " 'اخطر حروب الارض حرب العقيده حسيبك الله اول ال راه يم رب عل نا وق ده الع يده وات زا',\n",
       " 'اصبحت تقدم برامج عبر الجمعيات الخيريه لايصال خبثها اين مسوولي الجمعيه من هذا نطالب_خادم_الحرمين_بايقافmbc',\n",
       " 'اعلامنا متمثل في داوودالشريان روتانا وطقتهم كيف ترجي من هالاشكال خير همهم الوحيد في الحياه قياده_المراه_للسياره',\n",
       " 'الاصرار مرتزقه_برنامج_الاصرار بضاعه هالمترديه قناه العهر مزجاه في جميع المجالات',\n",
       " 'الاعلام اللبناني يهاجم السعوديه منذ مده بكل قبيح ومجموعه تدعم الاعلام في لبنان باقامه برامجها الضخمه فيها',\n",
       " 'البرنامج استاجر بعض المشاهير الهوامير في تويتر عشان يبررو لهم ويرقعو لقناه برنامج_اصرار',\n",
       " 'الحمد لله ما احتاج اتعلم من واحد فاشل اخلاقيا همه الشحاذه من علي حساب مواطن_يفضح_برنامج_الاصرار_برعايه_MBC',\n",
       " 'الخرج بيض الله وجه محافظ الخرج فهذه القناه تصب علي المسلمين سيل من المخالفات الشرعيه والمحرمات تدعو الي الرذيله وتشوه صوره الاسلام',\n",
       " 'الرياض السعوديه رسالتي لوزير العمل في حينه عن برنامج_اصرار برنامج حتي بفكرته منسوخ بشكل مبتذل وفاشل']"
      ]
     },
     "execution_count": 94,
     "metadata": {
      "tags": []
     },
     "output_type": "execute_result"
    }
   ],
   "source": [
    "clean_tweet_texts[:10]"
   ]
  },
  {
   "cell_type": "code",
   "execution_count": 0,
   "metadata": {
    "colab": {
     "base_uri": "https://localhost:8080/",
     "height": 34
    },
    "colab_type": "code",
    "id": "yDss3S9uFUEa",
    "outputId": "020ffbb9-7b9f-4177-9134-e8115830a9d6"
   },
   "outputs": [
    {
     "data": {
      "text/plain": [
       "56674"
      ]
     },
     "execution_count": 92,
     "metadata": {
      "tags": []
     },
     "output_type": "execute_result"
    }
   ],
   "source": [
    "len(clean_tweet_texts)"
   ]
  },
  {
   "cell_type": "code",
   "execution_count": 0,
   "metadata": {
    "colab": {},
    "colab_type": "code",
    "id": "zu_LoP3cGlUo"
   },
   "outputs": [],
   "source": [
    "#normalization\n",
    "def normalizeArabic(text):\n",
    "    text = re.sub(\"[إأٱآا]\", \"ا\", text)\n",
    "    text = re.sub(\"ى\", \"ي\", text)\n",
    "    text = re.sub(\"ؤ\", \"و\", text)\n",
    "    text = re.sub(\"ئ\", \"ء\", text)\n",
    "    text = re.sub(\"ة\", \"ه\", text)\n",
    "    return(text)\n",
    "for i in range(len(clean_tweet_texts)):\n",
    "  clean_tweet_texts[i] = normalizeArabic(clean_tweet_texts[i])"
   ]
  },
  {
   "cell_type": "code",
   "execution_count": 0,
   "metadata": {
    "colab": {},
    "colab_type": "code",
    "id": "4xrjnuxlDPqL"
   },
   "outputs": [],
   "source": [
    "clean_df = pd.DataFrame(clean_tweet_texts, columns=['text'])\n",
    "clean_df['target'] = df.Polarity\n",
    "clean_df.to_csv('clean_tweet.csv', encoding='utf-8')"
   ]
  },
  {
   "cell_type": "code",
   "execution_count": 0,
   "metadata": {
    "colab": {},
    "colab_type": "code",
    "id": "H6e4zCP3Sitm"
   },
   "outputs": [],
   "source": [
    "!cp /content/drive/My\\ Drive/clean_tweet.csv /content/"
   ]
  },
  {
   "cell_type": "code",
   "execution_count": 0,
   "metadata": {
    "colab": {},
    "colab_type": "code",
    "id": "n7f5Q3UAShkU"
   },
   "outputs": [],
   "source": [
    "import pandas as pd\n",
    "import numpy as np\n",
    "import matplotlib.pyplot as plt\n",
    "plt.style.use('fivethirtyeight')\n",
    "\n",
    "%matplotlib inline\n",
    "%config InlinBackend.figure_format = 'retina'"
   ]
  },
  {
   "cell_type": "code",
   "execution_count": 0,
   "metadata": {
    "colab": {
     "base_uri": "https://localhost:8080/",
     "height": 204
    },
    "colab_type": "code",
    "id": "7VUwtEhbcqbG",
    "outputId": "93a62609-d1cd-4c6e-b84f-cfbe5d0f8675"
   },
   "outputs": [
    {
     "data": {
      "text/html": [
       "<div>\n",
       "<style scoped>\n",
       "    .dataframe tbody tr th:only-of-type {\n",
       "        vertical-align: middle;\n",
       "    }\n",
       "\n",
       "    .dataframe tbody tr th {\n",
       "        vertical-align: top;\n",
       "    }\n",
       "\n",
       "    .dataframe thead th {\n",
       "        text-align: right;\n",
       "    }\n",
       "</style>\n",
       "<table border=\"1\" class=\"dataframe\">\n",
       "  <thead>\n",
       "    <tr style=\"text-align: right;\">\n",
       "      <th></th>\n",
       "      <th>text</th>\n",
       "      <th>target</th>\n",
       "    </tr>\n",
       "  </thead>\n",
       "  <tbody>\n",
       "    <tr>\n",
       "      <th>0</th>\n",
       "      <td>ابراهيم_عيسي الوسخ ابن الوسخه كلما حصل حادث ات...</td>\n",
       "      <td>0</td>\n",
       "    </tr>\n",
       "    <tr>\n",
       "      <th>1</th>\n",
       "      <td>اخطر حروب الارض حرب العقيده حسيبك الله اول ال ...</td>\n",
       "      <td>0</td>\n",
       "    </tr>\n",
       "    <tr>\n",
       "      <th>2</th>\n",
       "      <td>اصبحت تقدم برامج عبر الجمعيات الخيريه لايصال خ...</td>\n",
       "      <td>0</td>\n",
       "    </tr>\n",
       "    <tr>\n",
       "      <th>3</th>\n",
       "      <td>اعلامنا متمثل في داوودالشريان روتانا وطقتهم كي...</td>\n",
       "      <td>0</td>\n",
       "    </tr>\n",
       "    <tr>\n",
       "      <th>4</th>\n",
       "      <td>الاصرار مرتزقه_برنامج_الاصرار بضاعه هالمترديه ...</td>\n",
       "      <td>0</td>\n",
       "    </tr>\n",
       "  </tbody>\n",
       "</table>\n",
       "</div>"
      ],
      "text/plain": [
       "                                                text  target\n",
       "0  ابراهيم_عيسي الوسخ ابن الوسخه كلما حصل حادث ات...       0\n",
       "1  اخطر حروب الارض حرب العقيده حسيبك الله اول ال ...       0\n",
       "2  اصبحت تقدم برامج عبر الجمعيات الخيريه لايصال خ...       0\n",
       "3  اعلامنا متمثل في داوودالشريان روتانا وطقتهم كي...       0\n",
       "4  الاصرار مرتزقه_برنامج_الاصرار بضاعه هالمترديه ...       0"
      ]
     },
     "execution_count": 8,
     "metadata": {
      "tags": []
     },
     "output_type": "execute_result"
    }
   ],
   "source": [
    "csv = 'clean_tweet.csv'\n",
    "my_df = pd.read_csv(csv, index_col=0)\n",
    "my_df.head()"
   ]
  },
  {
   "cell_type": "code",
   "execution_count": 0,
   "metadata": {
    "colab": {
     "base_uri": "https://localhost:8080/",
     "height": 136
    },
    "colab_type": "code",
    "id": "s_TsqTC8cxRN",
    "outputId": "ae5480be-80ed-42d8-b67f-81d73e00c514"
   },
   "outputs": [
    {
     "name": "stdout",
     "output_type": "stream",
     "text": [
      "<class 'pandas.core.frame.DataFrame'>\n",
      "Int64Index: 56674 entries, 0 to 56673\n",
      "Data columns (total 2 columns):\n",
      "text      56673 non-null object\n",
      "target    56674 non-null int64\n",
      "dtypes: int64(1), object(1)\n",
      "memory usage: 1.3+ MB\n"
     ]
    }
   ],
   "source": [
    "my_df.info()"
   ]
  },
  {
   "cell_type": "code",
   "execution_count": 0,
   "metadata": {
    "colab": {
     "base_uri": "https://localhost:8080/",
     "height": 136
    },
    "colab_type": "code",
    "id": "nMwBZrMZc16e",
    "outputId": "d8ee5eb8-ba33-4e38-b924-b445ae7b37b2"
   },
   "outputs": [
    {
     "name": "stdout",
     "output_type": "stream",
     "text": [
      "<class 'pandas.core.frame.DataFrame'>\n",
      "RangeIndex: 56673 entries, 0 to 56672\n",
      "Data columns (total 2 columns):\n",
      "text      56673 non-null object\n",
      "target    56673 non-null int64\n",
      "dtypes: int64(1), object(1)\n",
      "memory usage: 885.6+ KB\n"
     ]
    }
   ],
   "source": [
    "my_df.dropna(inplace=True)\n",
    "my_df.reset_index(drop=True, inplace=True)\n",
    "my_df.info()"
   ]
  },
  {
   "cell_type": "code",
   "execution_count": 0,
   "metadata": {
    "colab": {},
    "colab_type": "code",
    "id": "3O4IehAzdsrq"
   },
   "outputs": [],
   "source": [
    "x = my_df.text\n",
    "y = my_df.target"
   ]
  },
  {
   "cell_type": "code",
   "execution_count": 0,
   "metadata": {
    "colab": {},
    "colab_type": "code",
    "id": "BfOb-XOoc91b"
   },
   "outputs": [],
   "source": [
    "from sklearn.model_selection import train_test_split\n",
    "SEED = 666\n",
    "x_train, x_validation_and_test, y_train, y_validation_and_test = train_test_split(x, y, test_size=.2, random_state=SEED)\n",
    "x_validation, x_test, y_validation, y_test = train_test_split(x_validation_and_test, y_validation_and_test, test_size=.5, random_state=SEED)"
   ]
  },
  {
   "cell_type": "code",
   "execution_count": 0,
   "metadata": {
    "colab": {
     "base_uri": "https://localhost:8080/",
     "height": 68
    },
    "colab_type": "code",
    "id": "tiQ8oEm0dpfR",
    "outputId": "bebd9537-d7ce-42af-ffbd-20bdb95ddc27"
   },
   "outputs": [
    {
     "name": "stdout",
     "output_type": "stream",
     "text": [
      "Train set has total 45338 entries with 36.59% negative, 30.52% positive, 32.90% neutral\n",
      "Validation set has total 5667 entries with 36.07% negative, 29.93% positive, 34.00% neutral\n",
      "Test set has total 5668 entries with 37.01% negative, 29.73% positive, 33.26% neutral\n"
     ]
    }
   ],
   "source": [
    "print(\"Train set has total {0} entries with {1:.2f}% negative, {2:.2f}% positive, {3:.2f}% neutral\".format(len(x_train),\n",
    "                                                                             (len(x_train[y_train == 0]) / (len(x_train)*1.))*100,\n",
    "                                                                            (len(x_train[y_train == 1]) / (len(x_train)*1.))*100,\n",
    "                                                                            (len(x_train[y_train == 2]) / (len(x_train)*1.))*100))\n",
    "print(\"Validation set has total {0} entries with {1:.2f}% negative, {2:.2f}% positive, {3:.2f}% neutral\".format(len(x_validation),\n",
    "                                                                             (len(x_validation[y_validation == 0]) / (len(x_validation)*1.))*100,\n",
    "                                                                            (len(x_validation[y_validation == 1]) / (len(x_validation)*1.))*100,\n",
    "                                                                            (len(x_validation[y_validation == 2]) / (len(x_validation)*1.))*100))\n",
    "print(\"Test set has total {0} entries with {1:.2f}% negative, {2:.2f}% positive, {3:.2f}% neutral\".format(len(x_test),\n",
    "                                                                             (len(x_test[y_test == 0]) / (len(x_test)*1.))*100,\n",
    "                                                                            (len(x_test[y_test == 1]) / (len(x_test)*1.))*100,\n",
    "                                                                            (len(x_test[y_test == 2]) / (len(x_test)*1.))*100))\n"
   ]
  },
  {
   "cell_type": "code",
   "execution_count": 0,
   "metadata": {
    "colab": {
     "base_uri": "https://localhost:8080/",
     "height": 34
    },
    "colab_type": "code",
    "id": "sr2yuopPkbz0",
    "outputId": "228efa3a-e711-401d-b84f-4fbcfbfdf89f"
   },
   "outputs": [
    {
     "data": {
      "text/plain": [
       "(45338, 3)"
      ]
     },
     "execution_count": 31,
     "metadata": {
      "tags": []
     },
     "output_type": "execute_result"
    }
   ],
   "source": [
    "#converting the labels to categorical data\n",
    "\n",
    "from keras.utils import to_categorical\n",
    "y_train = to_categorical(y_train)\n",
    "y_train.shape"
   ]
  },
  {
   "cell_type": "code",
   "execution_count": 0,
   "metadata": {
    "colab": {},
    "colab_type": "code",
    "id": "PmujBZdFkcL5"
   },
   "outputs": [],
   "source": [
    "y_validation = to_categorical(y_validation)"
   ]
  },
  {
   "cell_type": "code",
   "execution_count": 0,
   "metadata": {
    "colab": {
     "base_uri": "https://localhost:8080/",
     "height": 34
    },
    "colab_type": "code",
    "id": "yW73-Bbjkhpi",
    "outputId": "5e856c8f-513a-4069-8ecc-3d4e524173fc"
   },
   "outputs": [
    {
     "data": {
      "text/plain": [
       "(5667, 3)"
      ]
     },
     "execution_count": 34,
     "metadata": {
      "tags": []
     },
     "output_type": "execute_result"
    }
   ],
   "source": [
    "y_validation.shape"
   ]
  },
  {
   "cell_type": "code",
   "execution_count": 0,
   "metadata": {
    "colab": {},
    "colab_type": "code",
    "id": "BRHL71yBr-46"
   },
   "outputs": [],
   "source": [
    "from tqdm import tqdm\n",
    "tqdm.pandas(desc=\"progress-bar\")\n",
    "import gensim\n",
    "from gensim.models.word2vec import Word2Vec\n",
    "from gensim.models.doc2vec import TaggedDocument\n",
    "import multiprocessing\n",
    "from sklearn import utils"
   ]
  },
  {
   "cell_type": "code",
   "execution_count": 0,
   "metadata": {
    "colab": {},
    "colab_type": "code",
    "id": "oa-qaCelztQa"
   },
   "outputs": [],
   "source": [
    "!cp /content/drive/My\\ Drive/full_uni_cbow_100_twitter.zip /content/"
   ]
  },
  {
   "cell_type": "code",
   "execution_count": 0,
   "metadata": {
    "colab": {},
    "colab_type": "code",
    "id": "WAR74UNqztIU"
   },
   "outputs": [],
   "source": [
    "!cp /content/drive/My\\ Drive/full_uni_sg_100_twitter.zip /content/"
   ]
  },
  {
   "cell_type": "code",
   "execution_count": 0,
   "metadata": {
    "colab": {
     "base_uri": "https://localhost:8080/",
     "height": 153
    },
    "colab_type": "code",
    "id": "r4-VCr5rz_ur",
    "outputId": "bb93b77e-bd87-4d2f-cc47-dfdd904a119a"
   },
   "outputs": [
    {
     "name": "stdout",
     "output_type": "stream",
     "text": [
      "Archive:  full_uni_cbow_100_twitter.zip\n",
      "  inflating: full_uni_cbow_100_twitter.mdl  \n",
      "  inflating: full_uni_cbow_100_twitter.mdl.trainables.syn1neg.npy  \n",
      "  inflating: full_uni_cbow_100_twitter.mdl.wv.vectors.npy  \n",
      "Archive:  full_uni_sg_100_twitter.zip\n",
      "  inflating: full_uni_sg_100_twitter.mdl  \n",
      "  inflating: full_uni_sg_100_twitter.mdl.trainables.syn1neg.npy  \n",
      "  inflating: full_uni_sg_100_twitter.mdl.wv.vectors.npy  \n"
     ]
    }
   ],
   "source": [
    "!unzip full_uni_cbow_100_twitter.zip\n",
    "!unzip full_uni_sg_100_twitter.zip"
   ]
  },
  {
   "cell_type": "code",
   "execution_count": 0,
   "metadata": {
    "colab": {
     "base_uri": "https://localhost:8080/",
     "height": 71
    },
    "colab_type": "code",
    "id": "S5Zp17qHRdVA",
    "outputId": "5912618d-7eab-41ba-9d44-e39344384e55"
   },
   "outputs": [
    {
     "name": "stderr",
     "output_type": "stream",
     "text": [
      "/usr/local/lib/python3.6/dist-packages/smart_open/smart_open_lib.py:402: UserWarning: This function is deprecated, use smart_open.open instead. See the migration notes for details: https://github.com/RaRe-Technologies/smart_open/blob/master/README.rst#migrating-to-the-new-open-function\n",
      "  'See the migration notes for details: %s' % _MIGRATION_NOTES_URL\n"
     ]
    }
   ],
   "source": [
    "from gensim.models import KeyedVectors\n",
    "model_ug_cbow = KeyedVectors.load('full_uni_cbow_100_twitter.mdl')\n",
    "model_ug_sg = KeyedVectors.load('full_uni_cbow_100_twitter.mdl')"
   ]
  },
  {
   "cell_type": "code",
   "execution_count": 0,
   "metadata": {
    "colab": {
     "base_uri": "https://localhost:8080/",
     "height": 34
    },
    "colab_type": "code",
    "id": "u__H4P17RyF0",
    "outputId": "52acec35-cd99-467a-e48f-d404ee227c5d"
   },
   "outputs": [
    {
     "data": {
      "text/plain": [
       "1259756"
      ]
     },
     "execution_count": 18,
     "metadata": {
      "tags": []
     },
     "output_type": "execute_result"
    }
   ],
   "source": [
    "len(model_ug_cbow.wv.vocab.keys())"
   ]
  },
  {
   "cell_type": "code",
   "execution_count": 0,
   "metadata": {
    "colab": {
     "base_uri": "https://localhost:8080/",
     "height": 34
    },
    "colab_type": "code",
    "id": "3wEJVLTRR2A1",
    "outputId": "c39cdfb0-d370-408e-d889-6127ccc43133"
   },
   "outputs": [
    {
     "name": "stdout",
     "output_type": "stream",
     "text": [
      "Found 1259756 word vectors.\n"
     ]
    }
   ],
   "source": [
    "embeddings_index = {}\n",
    "for w in model_ug_cbow.wv.vocab.keys():\n",
    "  embeddings_index[w] = np.append(model_ug_cbow.wv[w], \n",
    "                                  model_ug_sg.wv[w])\n",
    "print(f'Found {len(embeddings_index)} word vectors.')"
   ]
  },
  {
   "cell_type": "code",
   "execution_count": 0,
   "metadata": {
    "colab": {
     "base_uri": "https://localhost:8080/",
     "height": 80
    },
    "colab_type": "code",
    "id": "Swk3yKJjUAvR",
    "outputId": "4eff0e9d-9ed8-4f89-bfd3-c3056112b0f2"
   },
   "outputs": [
    {
     "name": "stderr",
     "output_type": "stream",
     "text": [
      "Using TensorFlow backend.\n"
     ]
    },
    {
     "data": {
      "text/html": [
       "<p style=\"color: red;\">\n",
       "The default version of TensorFlow in Colab will soon switch to TensorFlow 2.x.<br>\n",
       "We recommend you <a href=\"https://www.tensorflow.org/guide/migrate\" target=\"_blank\">upgrade</a> now \n",
       "or ensure your notebook will continue to use TensorFlow 1.x via the <code>%tensorflow_version 1.x</code> magic:\n",
       "<a href=\"https://colab.research.google.com/notebooks/tensorflow_version.ipynb\" target=\"_blank\">more info</a>.</p>\n"
      ],
      "text/plain": [
       "<IPython.core.display.HTML object>"
      ]
     },
     "metadata": {
      "tags": []
     },
     "output_type": "display_data"
    }
   ],
   "source": [
    "from keras.preprocessing.text import Tokenizer\n",
    "from keras.preprocessing.sequence import pad_sequences\n",
    "\n",
    "tokenizer = Tokenizer(num_words=100000)\n",
    "tokenizer.fit_on_texts(x_train)\n",
    "sequences = tokenizer.texts_to_sequences(x_train)"
   ]
  },
  {
   "cell_type": "code",
   "execution_count": 0,
   "metadata": {
    "colab": {
     "base_uri": "https://localhost:8080/",
     "height": 34
    },
    "colab_type": "code",
    "id": "OacbNhkvVVmM",
    "outputId": "014cac7e-25a3-4d44-cea2-cd5113a3d806"
   },
   "outputs": [
    {
     "data": {
      "text/plain": [
       "76792"
      ]
     },
     "execution_count": 21,
     "metadata": {
      "tags": []
     },
     "output_type": "execute_result"
    }
   ],
   "source": [
    "len(tokenizer.word_index)"
   ]
  },
  {
   "cell_type": "code",
   "execution_count": 0,
   "metadata": {
    "colab": {
     "base_uri": "https://localhost:8080/",
     "height": 102
    },
    "colab_type": "code",
    "id": "LN0VBOzHVY0U",
    "outputId": "42339979-eedf-4c7a-adef-e84a05eec2b5"
   },
   "outputs": [
    {
     "name": "stdout",
     "output_type": "stream",
     "text": [
      "لماذا_يا_خوله_العنزي انا ماعلي منها هذي حياتها وبلعنتها بس ليش يطلعونها بالتلفزيون انها واجهه مشرفه وكل الشعب يدري انها عار السعوديه\n",
      "لماذا_يا_خوله_العنزي فالرجاا كل واحد يبلع تبن وينطم والله بيحاسب كل واححد بطلو لقاااااافه\n",
      "الف مبروك زعماا البطوله 57 للتوضيح بطولات الهلال في سنه واحده بجده والثانيه بلندن والثالثه الرياض مدلع جمهوره بكل مكان الهل\n",
      "كلمه للتاريخ فارس عوض لماذا الالغاا الهلال_التعاون التعاون_الهلال\n",
      "تعليق_الدراسه_في_القصيم اتخذ القرار قبل منتصف الليل الامطار تسقط غزاره علي القصيم اي حدث يحدث لا سمح\n"
     ]
    }
   ],
   "source": [
    "for x in x_train[:5]:\n",
    "  print(x)"
   ]
  },
  {
   "cell_type": "code",
   "execution_count": 0,
   "metadata": {
    "colab": {},
    "colab_type": "code",
    "id": "EB5FjwfNVjcc"
   },
   "outputs": [],
   "source": [
    "length = []\n",
    "for x in x_train:\n",
    "  length.append(len(x.split()))"
   ]
  },
  {
   "cell_type": "code",
   "execution_count": 0,
   "metadata": {
    "colab": {
     "base_uri": "https://localhost:8080/",
     "height": 34
    },
    "colab_type": "code",
    "id": "Vfnor6gRVyt8",
    "outputId": "19010f2c-780a-4773-f1d5-7e7e1a16e639"
   },
   "outputs": [
    {
     "data": {
      "text/plain": [
       "29"
      ]
     },
     "execution_count": 27,
     "metadata": {
      "tags": []
     },
     "output_type": "execute_result"
    }
   ],
   "source": [
    "max(length)"
   ]
  },
  {
   "cell_type": "code",
   "execution_count": 0,
   "metadata": {
    "colab": {
     "base_uri": "https://localhost:8080/",
     "height": 34
    },
    "colab_type": "code",
    "id": "CmrbgQobVz_Y",
    "outputId": "ec7d6e30-c215-43b0-fe67-93e75a161ad4"
   },
   "outputs": [
    {
     "name": "stdout",
     "output_type": "stream",
     "text": [
      "Shape of data tensor:  (45338, 35)\n"
     ]
    }
   ],
   "source": [
    "x_train_seq = pad_sequences(sequences, maxlen=35)\n",
    "print('Shape of data tensor: ', x_train_seq.shape)"
   ]
  },
  {
   "cell_type": "code",
   "execution_count": 0,
   "metadata": {
    "colab": {
     "base_uri": "https://localhost:8080/",
     "height": 374
    },
    "colab_type": "code",
    "id": "rR1u0kjKV9OR",
    "outputId": "775998d7-04d2-4099-ba57-c3392ac65da5"
   },
   "outputs": [
    {
     "data": {
      "text/plain": [
       "array([[    0,     0,     0,     0,     0,     0,     0,     0,     0,\n",
       "            0,     0,     0,    69,    16,    91,   100,    83, 13363,\n",
       "          374,   212,  7017, 32579,    58,   225, 32580, 16427,   296,\n",
       "        21592, 32581,   347,   210,  8703,   296,  1868,     6],\n",
       "       [    0,     0,     0,     0,     0,     0,     0,     0,     0,\n",
       "            0,     0,     0,     0,     0,     0,     0,     0,     0,\n",
       "            0,    69,    16,    91,   100, 16428,    22,   161, 32582,\n",
       "         1820, 21593,    51, 32583,    22, 32584, 11338, 32585],\n",
       "       [    0,     0,     0,     0,     0,     0,     0,     0,     0,\n",
       "            0,     0,     0,     0,     0,    29,    30,   577,   243,\n",
       "          214,  7771,   592,     1,     2,   282,   818,  3549,  9832,\n",
       "        21594, 16429,    42,  8704,  2105,   297,   496,  1821],\n",
       "       [    0,     0,     0,     0,     0,     0,     0,     0,     0,\n",
       "            0,     0,     0,     0,     0,     0,     0,     0,     0,\n",
       "            0,     0,     0,     0,     0,     0,     0,   106,  2693,\n",
       "          565,   886,    69,  5459,     1,    15,    15,     1],\n",
       "       [    0,     0,     0,     0,     0,     0,     0,     0,     0,\n",
       "            0,     0,     0,     0,     0,     0,     0,     7,     8,\n",
       "            2,    12, 11339,   797,   103,  8705,  1224,   412,  7018,\n",
       "        13364,     4,    12,   102,  1996,  1664,    18,  5852]],\n",
       "      dtype=int32)"
      ]
     },
     "execution_count": 29,
     "metadata": {
      "tags": []
     },
     "output_type": "execute_result"
    }
   ],
   "source": [
    "x_train_seq[:5]"
   ]
  },
  {
   "cell_type": "code",
   "execution_count": 0,
   "metadata": {
    "colab": {},
    "colab_type": "code",
    "id": "ucqpAKnpWAHg"
   },
   "outputs": [],
   "source": [
    "sequences_val = tokenizer.texts_to_sequences(x_validation)\n",
    "x_val_seq = pad_sequences(sequences_val, maxlen=35)"
   ]
  },
  {
   "cell_type": "code",
   "execution_count": 0,
   "metadata": {
    "colab": {},
    "colab_type": "code",
    "id": "5gHotEe_WLkC"
   },
   "outputs": [],
   "source": [
    "num_words = 100000\n",
    "embedding_matrix = np.zeros((num_words, 200))\n",
    "\n",
    "for word, i in tokenizer.word_index.items():\n",
    "  if i >= num_words:\n",
    "    continue\n",
    "  embedding_vector = embeddings_index.get(word)\n",
    "  if embedding_vector is not None:\n",
    "    embedding_matrix[i] = embedding_vector"
   ]
  },
  {
   "cell_type": "code",
   "execution_count": 0,
   "metadata": {
    "colab": {},
    "colab_type": "code",
    "id": "X55v0rpHYK-D"
   },
   "outputs": [],
   "source": [
    "seed = 3\n",
    "\n",
    "from keras.models import Sequential\n",
    "from keras.layers import Dense, Dropout, Flatten\n",
    "from keras.layers.embeddings import Embedding"
   ]
  },
  {
   "cell_type": "code",
   "execution_count": 0,
   "metadata": {
    "colab": {
     "base_uri": "https://localhost:8080/",
     "height": 34
    },
    "colab_type": "code",
    "id": "ApO3pmblgCAn",
    "outputId": "0d2bc85c-b326-4e79-b031-2f417f4a0bb3"
   },
   "outputs": [
    {
     "data": {
      "text/plain": [
       "(45338, 3)"
      ]
     },
     "execution_count": 33,
     "metadata": {
      "tags": []
     },
     "output_type": "execute_result"
    }
   ],
   "source": [
    "from keras.utils import to_categorical\n",
    "y_train = to_categorical(y_train)\n",
    "y_train.shape"
   ]
  },
  {
   "cell_type": "code",
   "execution_count": 0,
   "metadata": {
    "colab": {},
    "colab_type": "code",
    "id": "V88VQzewgEMh"
   },
   "outputs": [],
   "source": [
    "y_validation = to_categorical(y_validation)"
   ]
  },
  {
   "cell_type": "code",
   "execution_count": 0,
   "metadata": {
    "colab": {},
    "colab_type": "code",
    "id": "6ES4glt2jXZh"
   },
   "outputs": [],
   "source": [
    "!cp /content/full_uni_sg_100_twitter.zip /content/drive/My\\ Drive/full_uni_sg_100_twitter.zip"
   ]
  },
  {
   "cell_type": "code",
   "execution_count": 0,
   "metadata": {
    "colab": {},
    "colab_type": "code",
    "id": "xpby3XPLjpT8"
   },
   "outputs": [],
   "source": [
    "!cp /content/full_uni_cbow_100_twitter.zip /content/drive/My\\ Drive/full_uni_cbow_100_twitter.zip"
   ]
  },
  {
   "cell_type": "code",
   "execution_count": 0,
   "metadata": {
    "colab": {},
    "colab_type": "code",
    "id": "H3n12_TEklMc"
   },
   "outputs": [],
   "source": [
    "sequences_test = tokenizer.texts_to_sequences(x_test)\n",
    "x_test_seq = pad_sequences(sequences_test, maxlen=35)\n",
    "y_test = to_categorical(y_test)"
   ]
  },
  {
   "cell_type": "code",
   "execution_count": 0,
   "metadata": {
    "colab": {},
    "colab_type": "code",
    "id": "1RgLtmcslz62"
   },
   "outputs": [],
   "source": [
    "import keras"
   ]
  },
  {
   "cell_type": "code",
   "execution_count": 0,
   "metadata": {
    "colab": {
     "base_uri": "https://localhost:8080/",
     "height": 564
    },
    "colab_type": "code",
    "id": "n9vYAywmk1sV",
    "outputId": "11f53e76-b0e8-4113-97a7-872b9ef51f5d"
   },
   "outputs": [
    {
     "name": "stdout",
     "output_type": "stream",
     "text": [
      "WARNING:tensorflow:From /usr/local/lib/python3.6/dist-packages/keras/backend/tensorflow_backend.py:148: The name tf.placeholder_with_default is deprecated. Please use tf.compat.v1.placeholder_with_default instead.\n",
      "\n",
      "WARNING:tensorflow:From /usr/local/lib/python3.6/dist-packages/keras/backend/tensorflow_backend.py:3733: calling dropout (from tensorflow.python.ops.nn_ops) with keep_prob is deprecated and will be removed in a future version.\n",
      "Instructions for updating:\n",
      "Please use `rate` instead of `keep_prob`. Rate should be set to `rate = 1 - keep_prob`.\n",
      "Model: \"sequential_6\"\n",
      "_________________________________________________________________\n",
      "Layer (type)                 Output Shape              Param #   \n",
      "=================================================================\n",
      "embedding_6 (Embedding)      (None, 35, 200)           20000000  \n",
      "_________________________________________________________________\n",
      "gru_2 (GRU)                  (None, 256)               350976    \n",
      "_________________________________________________________________\n",
      "dense_9 (Dense)              (None, 3)                 771       \n",
      "=================================================================\n",
      "Total params: 20,351,747\n",
      "Trainable params: 20,351,747\n",
      "Non-trainable params: 0\n",
      "_________________________________________________________________\n",
      "Train on 45338 samples, validate on 5667 samples\n",
      "Epoch 1/5\n",
      "45338/45338 [==============================] - 97s 2ms/step - loss: 0.6504 - acc: 0.7265 - val_loss: 0.5429 - val_acc: 0.7780\n",
      "Epoch 2/5\n",
      "45338/45338 [==============================] - 95s 2ms/step - loss: 0.4932 - acc: 0.8004 - val_loss: 0.5196 - val_acc: 0.7935\n",
      "Epoch 3/5\n",
      "45338/45338 [==============================] - 96s 2ms/step - loss: 0.4082 - acc: 0.8387 - val_loss: 0.5235 - val_acc: 0.7976\n",
      "Epoch 4/5\n",
      "45338/45338 [==============================] - 96s 2ms/step - loss: 0.3307 - acc: 0.8730 - val_loss: 0.5468 - val_acc: 0.7994\n",
      "Epoch 5/5\n",
      "45338/45338 [==============================] - 97s 2ms/step - loss: 0.2673 - acc: 0.8981 - val_loss: 0.5933 - val_acc: 0.7988\n"
     ]
    },
    {
     "data": {
      "text/plain": [
       "<keras.callbacks.History at 0x7f7c5284f828>"
      ]
     },
     "execution_count": 91,
     "metadata": {
      "tags": []
     },
     "output_type": "execute_result"
    }
   ],
   "source": [
    "model_gru = Sequential()\n",
    "e = Embedding(100000, 200, weights=[embedding_matrix], input_length=35\n",
    "              , trainable=True)\n",
    "model_gru.add(e)\n",
    "# model_gru.add(Flatten())\n",
    "# model.add(Dense(256, activation='relu'))\n",
    "model_gru.add(keras.layers.GRU(256, dropout=0.2, recurrent_dropout=0.5))\n",
    "model_gru.add(Dense(3, activation='softmax'))\n",
    "\n",
    "model_gru.compile(loss='categorical_crossentropy', optimizer='adam', metrics=['accuracy'])\n",
    "model_gru.summary()\n",
    "model_gru.fit(x_train_seq, y_train, \n",
    "          validation_data=(x_val_seq, y_validation),\n",
    "          epochs=5, batch_size=32)"
   ]
  },
  {
   "cell_type": "code",
   "execution_count": 0,
   "metadata": {
    "colab": {
     "base_uri": "https://localhost:8080/",
     "height": 459
    },
    "colab_type": "code",
    "id": "_WA0oqNNnJZN",
    "outputId": "6e0d630a-e810-4f3c-e814-fd224f1c637e"
   },
   "outputs": [
    {
     "name": "stdout",
     "output_type": "stream",
     "text": [
      "Model: \"sequential_7\"\n",
      "_________________________________________________________________\n",
      "Layer (type)                 Output Shape              Param #   \n",
      "=================================================================\n",
      "embedding_7 (Embedding)      (None, 35, 200)           20000000  \n",
      "_________________________________________________________________\n",
      "lstm_1 (LSTM)                (None, 256)               467968    \n",
      "_________________________________________________________________\n",
      "dense_10 (Dense)             (None, 3)                 771       \n",
      "=================================================================\n",
      "Total params: 20,468,739\n",
      "Trainable params: 20,468,739\n",
      "Non-trainable params: 0\n",
      "_________________________________________________________________\n",
      "Train on 45338 samples, validate on 5667 samples\n",
      "Epoch 1/5\n",
      "45338/45338 [==============================] - 116s 3ms/step - loss: 0.6200 - acc: 0.7401 - val_loss: 0.5291 - val_acc: 0.7815\n",
      "Epoch 2/5\n",
      "45338/45338 [==============================] - 112s 2ms/step - loss: 0.4703 - acc: 0.8102 - val_loss: 0.5236 - val_acc: 0.7964\n",
      "Epoch 3/5\n",
      "45338/45338 [==============================] - 113s 3ms/step - loss: 0.3769 - acc: 0.8526 - val_loss: 0.5379 - val_acc: 0.7981\n",
      "Epoch 4/5\n",
      "45338/45338 [==============================] - 115s 3ms/step - loss: 0.2957 - acc: 0.8872 - val_loss: 0.5651 - val_acc: 0.7925\n",
      "Epoch 5/5\n",
      "45338/45338 [==============================] - 115s 3ms/step - loss: 0.2295 - acc: 0.9147 - val_loss: 0.6057 - val_acc: 0.7944\n"
     ]
    },
    {
     "data": {
      "text/plain": [
       "<keras.callbacks.History at 0x7f7c51e24dd8>"
      ]
     },
     "execution_count": 92,
     "metadata": {
      "tags": []
     },
     "output_type": "execute_result"
    }
   ],
   "source": [
    "model_lstm = Sequential()\n",
    "e = Embedding(100000, 200, weights=[embedding_matrix], input_length=35\n",
    "              , trainable=True)\n",
    "model_lstm.add(e)\n",
    "# model_lstm.add(Flatten())\n",
    "# model.add(Dense(256, activation='relu'))\n",
    "model_lstm.add(keras.layers.LSTM(256, dropout=0.2, recurrent_dropout=0.5))\n",
    "model_lstm.add(Dense(3, activation='softmax'))\n",
    "\n",
    "model_lstm.compile(loss='categorical_crossentropy', optimizer='adam', metrics=['accuracy'])\n",
    "model_lstm.summary()\n",
    "model_lstm.fit(x_train_seq, y_train, \n",
    "          validation_data=(x_val_seq, y_validation),\n",
    "          epochs=5, batch_size=32)"
   ]
  },
  {
   "cell_type": "code",
   "execution_count": 0,
   "metadata": {
    "colab": {
     "base_uri": "https://localhost:8080/",
     "height": 459
    },
    "colab_type": "code",
    "id": "ZAs0dfY7pM5u",
    "outputId": "eeca00fa-0985-4656-cfba-6ff3d12171a2"
   },
   "outputs": [
    {
     "name": "stdout",
     "output_type": "stream",
     "text": [
      "Model: \"sequential_8\"\n",
      "_________________________________________________________________\n",
      "Layer (type)                 Output Shape              Param #   \n",
      "=================================================================\n",
      "embedding_8 (Embedding)      (None, 35, 200)           20000000  \n",
      "_________________________________________________________________\n",
      "bidirectional_1 (Bidirection (None, 512)               701952    \n",
      "_________________________________________________________________\n",
      "dense_11 (Dense)             (None, 3)                 1539      \n",
      "=================================================================\n",
      "Total params: 20,703,491\n",
      "Trainable params: 20,703,491\n",
      "Non-trainable params: 0\n",
      "_________________________________________________________________\n",
      "Train on 45338 samples, validate on 5667 samples\n",
      "Epoch 1/5\n",
      "45338/45338 [==============================] - 198s 4ms/step - loss: 0.6393 - acc: 0.7289 - val_loss: 0.5424 - val_acc: 0.7792\n",
      "Epoch 2/5\n",
      "45338/45338 [==============================] - 195s 4ms/step - loss: 0.4921 - acc: 0.7999 - val_loss: 0.5207 - val_acc: 0.7923\n",
      "Epoch 3/5\n",
      "45338/45338 [==============================] - 195s 4ms/step - loss: 0.4060 - acc: 0.8403 - val_loss: 0.5342 - val_acc: 0.7904\n",
      "Epoch 4/5\n",
      "45338/45338 [==============================] - 193s 4ms/step - loss: 0.3301 - acc: 0.8720 - val_loss: 0.5543 - val_acc: 0.7987\n",
      "Epoch 5/5\n",
      "45338/45338 [==============================] - 192s 4ms/step - loss: 0.2653 - acc: 0.9005 - val_loss: 0.5941 - val_acc: 0.7976\n"
     ]
    },
    {
     "data": {
      "text/plain": [
       "<keras.callbacks.History at 0x7f7c5078bb38>"
      ]
     },
     "execution_count": 93,
     "metadata": {
      "tags": []
     },
     "output_type": "execute_result"
    }
   ],
   "source": [
    "model_bi_gru = Sequential()\n",
    "e = Embedding(100000, 200, weights=[embedding_matrix], input_length=35\n",
    "              , trainable=True)\n",
    "model_bi_gru.add(e)\n",
    "# model_gru.add(Flatten())\n",
    "# model.add(Dense(256, activation='relu'))\n",
    "model_bi_gru.add(keras.layers.Bidirectional(keras.layers.GRU(256, dropout=0.2, recurrent_dropout=0.5)))\n",
    "model_bi_gru.add(Dense(3, activation='softmax'))\n",
    "\n",
    "model_bi_gru.compile(loss='categorical_crossentropy', optimizer='adam', metrics=['accuracy'])\n",
    "model_bi_gru.summary()\n",
    "model_bi_gru.fit(x_train_seq, y_train, \n",
    "          validation_data=(x_val_seq, y_validation),\n",
    "          epochs=5, batch_size=32)"
   ]
  },
  {
   "cell_type": "code",
   "execution_count": 0,
   "metadata": {
    "colab": {
     "base_uri": "https://localhost:8080/",
     "height": 459
    },
    "colab_type": "code",
    "id": "2JlK_s2useCi",
    "outputId": "d4206831-53c2-4021-8a1d-f95e3e24464f"
   },
   "outputs": [
    {
     "name": "stdout",
     "output_type": "stream",
     "text": [
      "Model: \"sequential_9\"\n",
      "_________________________________________________________________\n",
      "Layer (type)                 Output Shape              Param #   \n",
      "=================================================================\n",
      "embedding_9 (Embedding)      (None, 35, 200)           20000000  \n",
      "_________________________________________________________________\n",
      "bidirectional_2 (Bidirection (None, 512)               935936    \n",
      "_________________________________________________________________\n",
      "dense_12 (Dense)             (None, 3)                 1539      \n",
      "=================================================================\n",
      "Total params: 20,937,475\n",
      "Trainable params: 20,937,475\n",
      "Non-trainable params: 0\n",
      "_________________________________________________________________\n",
      "Train on 45338 samples, validate on 5667 samples\n",
      "Epoch 1/5\n",
      "45338/45338 [==============================] - 239s 5ms/step - loss: 0.6158 - acc: 0.7437 - val_loss: 0.5405 - val_acc: 0.7810\n",
      "Epoch 2/5\n",
      "45338/45338 [==============================] - 231s 5ms/step - loss: 0.4722 - acc: 0.8092 - val_loss: 0.5334 - val_acc: 0.7895\n",
      "Epoch 3/5\n",
      "45338/45338 [==============================] - 227s 5ms/step - loss: 0.3757 - acc: 0.8530 - val_loss: 0.5233 - val_acc: 0.7964\n",
      "Epoch 4/5\n",
      "45338/45338 [==============================] - 227s 5ms/step - loss: 0.2918 - acc: 0.8893 - val_loss: 0.5480 - val_acc: 0.7997\n",
      "Epoch 5/5\n",
      "45338/45338 [==============================] - 233s 5ms/step - loss: 0.2270 - acc: 0.9144 - val_loss: 0.5897 - val_acc: 0.7941\n"
     ]
    },
    {
     "data": {
      "text/plain": [
       "<keras.callbacks.History at 0x7f7c4deca358>"
      ]
     },
     "execution_count": 94,
     "metadata": {
      "tags": []
     },
     "output_type": "execute_result"
    }
   ],
   "source": [
    "model_bi_lstm = Sequential()\n",
    "e = Embedding(100000, 200, weights=[embedding_matrix], input_length=35\n",
    "              , trainable=True)\n",
    "model_bi_lstm.add(e)\n",
    "# model_lstm.add(Flatten())\n",
    "# model.add(Dense(256, activation='relu'))\n",
    "model_bi_lstm.add(keras.layers.Bidirectional(keras.layers.LSTM(256, dropout=0.2, recurrent_dropout=0.5)))\n",
    "model_bi_lstm.add(Dense(3, activation='softmax'))\n",
    "\n",
    "model_bi_lstm.compile(loss='categorical_crossentropy', optimizer='adam', metrics=['accuracy'])\n",
    "model_bi_lstm.summary()\n",
    "model_bi_lstm.fit(x_train_seq, y_train, \n",
    "          validation_data=(x_val_seq, y_validation),\n",
    "          epochs=5, batch_size=32)"
   ]
  },
  {
   "cell_type": "code",
   "execution_count": 0,
   "metadata": {
    "colab": {
     "base_uri": "https://localhost:8080/",
     "height": 51
    },
    "colab_type": "code",
    "id": "1gbcibIMwqb4",
    "outputId": "59e8aa8c-5c6f-4dc8-8cee-7f4d45ef7c2d"
   },
   "outputs": [
    {
     "name": "stdout",
     "output_type": "stream",
     "text": [
      "5668/5668 [==============================] - 4s 645us/step\n"
     ]
    },
    {
     "data": {
      "text/plain": [
       "[0.5768967728927763, 0.7985179957657021]"
      ]
     },
     "execution_count": 95,
     "metadata": {
      "tags": []
     },
     "output_type": "execute_result"
    }
   ],
   "source": [
    "model_gru.evaluate(x_test_seq, y_test)"
   ]
  },
  {
   "cell_type": "code",
   "execution_count": 0,
   "metadata": {
    "colab": {
     "base_uri": "https://localhost:8080/",
     "height": 51
    },
    "colab_type": "code",
    "id": "mp7bd-UB1VQn",
    "outputId": "3bd34030-2d24-4c33-c9d9-7a85da7fcd6b"
   },
   "outputs": [
    {
     "name": "stdout",
     "output_type": "stream",
     "text": [
      "5668/5668 [==============================] - 4s 719us/step\n"
     ]
    },
    {
     "data": {
      "text/plain": [
       "[0.5916291314401337, 0.7928722653493295]"
      ]
     },
     "execution_count": 96,
     "metadata": {
      "tags": []
     },
     "output_type": "execute_result"
    }
   ],
   "source": [
    "model_lstm.evaluate(x_test_seq, y_test)"
   ]
  },
  {
   "cell_type": "code",
   "execution_count": 0,
   "metadata": {
    "colab": {
     "base_uri": "https://localhost:8080/",
     "height": 51
    },
    "colab_type": "code",
    "id": "3TfB0Ni-1ZR6",
    "outputId": "cf171a86-6391-43ad-e52c-c15d7bbf6b5c"
   },
   "outputs": [
    {
     "name": "stdout",
     "output_type": "stream",
     "text": [
      "5668/5668 [==============================] - 7s 1ms/step\n"
     ]
    },
    {
     "data": {
      "text/plain": [
       "[0.5900985422736755, 0.7939308398023994]"
      ]
     },
     "execution_count": 97,
     "metadata": {
      "tags": []
     },
     "output_type": "execute_result"
    }
   ],
   "source": [
    "model_bi_gru.evaluate(x_test_seq, y_test)"
   ]
  },
  {
   "cell_type": "code",
   "execution_count": 0,
   "metadata": {
    "colab": {
     "base_uri": "https://localhost:8080/",
     "height": 51
    },
    "colab_type": "code",
    "id": "Nb3o3JEv1awA",
    "outputId": "6ff32287-7acb-4ff5-e76e-3b1c0925abb4"
   },
   "outputs": [
    {
     "name": "stdout",
     "output_type": "stream",
     "text": [
      "5668/5668 [==============================] - 9s 2ms/step\n"
     ]
    },
    {
     "data": {
      "text/plain": [
       "[0.5953280125273392, 0.7964008468595625]"
      ]
     },
     "execution_count": 98,
     "metadata": {
      "tags": []
     },
     "output_type": "execute_result"
    }
   ],
   "source": [
    "model_bi_lstm.evaluate(x_test_seq, y_test)"
   ]
  },
  {
   "cell_type": "code",
   "execution_count": 0,
   "metadata": {
    "colab": {
     "base_uri": "https://localhost:8080/",
     "height": 493
    },
    "colab_type": "code",
    "id": "Jzu1Snk71ea_",
    "outputId": "ba56cd50-edc7-4928-89a9-84dc78584487"
   },
   "outputs": [
    {
     "name": "stdout",
     "output_type": "stream",
     "text": [
      "Model: \"sequential_10\"\n",
      "_________________________________________________________________\n",
      "Layer (type)                 Output Shape              Param #   \n",
      "=================================================================\n",
      "embedding_10 (Embedding)     (None, 35, 200)           20000000  \n",
      "_________________________________________________________________\n",
      "gru_4 (GRU)                  (None, 35, 64)            50880     \n",
      "_________________________________________________________________\n",
      "gru_5 (GRU)                  (None, 128)               74112     \n",
      "_________________________________________________________________\n",
      "dense_13 (Dense)             (None, 3)                 387       \n",
      "=================================================================\n",
      "Total params: 20,125,379\n",
      "Trainable params: 20,125,379\n",
      "Non-trainable params: 0\n",
      "_________________________________________________________________\n",
      "Train on 45338 samples, validate on 5667 samples\n",
      "Epoch 1/5\n",
      "45338/45338 [==============================] - 171s 4ms/step - loss: 0.6542 - acc: 0.7232 - val_loss: 0.5794 - val_acc: 0.7632\n",
      "Epoch 2/5\n",
      "45338/45338 [==============================] - 168s 4ms/step - loss: 0.4985 - acc: 0.8014 - val_loss: 0.5409 - val_acc: 0.7861\n",
      "Epoch 3/5\n",
      "45338/45338 [==============================] - 170s 4ms/step - loss: 0.4018 - acc: 0.8431 - val_loss: 0.5358 - val_acc: 0.7925\n",
      "Epoch 4/5\n",
      "45338/45338 [==============================] - 170s 4ms/step - loss: 0.3165 - acc: 0.8780 - val_loss: 0.5511 - val_acc: 0.7907\n",
      "Epoch 5/5\n",
      "45338/45338 [==============================] - 169s 4ms/step - loss: 0.2578 - acc: 0.9021 - val_loss: 0.5828 - val_acc: 0.7845\n"
     ]
    },
    {
     "data": {
      "text/plain": [
       "<keras.callbacks.History at 0x7f7c4b859748>"
      ]
     },
     "execution_count": 99,
     "metadata": {
      "tags": []
     },
     "output_type": "execute_result"
    }
   ],
   "source": [
    "model_st_gru = Sequential()\n",
    "e = Embedding(100000, 200, weights=[embedding_matrix], input_length=35\n",
    "              , trainable=True)\n",
    "model_st_gru.add(e)\n",
    "# model_st_gru.add(Flatten())\n",
    "# model.add(Dense(256, activation='relu'))\n",
    "model_st_gru.add(keras.layers.GRU(64, dropout=0.2, recurrent_dropout=0.5, return_sequences=True))\n",
    "model_st_gru.add(keras.layers.GRU(128, dropout=0.2))\n",
    "model_st_gru.add(Dense(3, activation='softmax'))\n",
    "\n",
    "model_st_gru.compile(loss='categorical_crossentropy', optimizer='adam', metrics=['accuracy'])\n",
    "model_st_gru.summary()\n",
    "model_st_gru.fit(x_train_seq, y_train, \n",
    "          validation_data=(x_val_seq, y_validation),\n",
    "          epochs=5, batch_size=32)"
   ]
  },
  {
   "cell_type": "code",
   "execution_count": 0,
   "metadata": {
    "colab": {
     "base_uri": "https://localhost:8080/",
     "height": 51
    },
    "colab_type": "code",
    "id": "tKmviBBe2TtP",
    "outputId": "ba9b5093-31ac-4ac7-c4be-33d41ee094c5"
   },
   "outputs": [
    {
     "name": "stdout",
     "output_type": "stream",
     "text": [
      "5668/5668 [==============================] - 7s 1ms/step\n"
     ]
    },
    {
     "data": {
      "text/plain": [
       "[0.5617684845194147, 0.7949894142554693]"
      ]
     },
     "execution_count": 100,
     "metadata": {
      "tags": []
     },
     "output_type": "execute_result"
    }
   ],
   "source": [
    "model_st_gru.evaluate(x_test_seq, y_test)"
   ]
  },
  {
   "cell_type": "code",
   "execution_count": 0,
   "metadata": {
    "colab": {
     "base_uri": "https://localhost:8080/",
     "height": 493
    },
    "colab_type": "code",
    "id": "dnqmDngK5r6y",
    "outputId": "fd26fc35-e688-496b-9b55-9cb8d0ca493b"
   },
   "outputs": [
    {
     "name": "stdout",
     "output_type": "stream",
     "text": [
      "Model: \"sequential_11\"\n",
      "_________________________________________________________________\n",
      "Layer (type)                 Output Shape              Param #   \n",
      "=================================================================\n",
      "embedding_11 (Embedding)     (None, 35, 200)           20000000  \n",
      "_________________________________________________________________\n",
      "lstm_3 (LSTM)                (None, 35, 64)            67840     \n",
      "_________________________________________________________________\n",
      "lstm_4 (LSTM)                (None, 128)               98816     \n",
      "_________________________________________________________________\n",
      "dense_14 (Dense)             (None, 3)                 387       \n",
      "=================================================================\n",
      "Total params: 20,167,043\n",
      "Trainable params: 20,167,043\n",
      "Non-trainable params: 0\n",
      "_________________________________________________________________\n",
      "Train on 45338 samples, validate on 5667 samples\n",
      "Epoch 1/5\n",
      "45338/45338 [==============================] - 201s 4ms/step - loss: 0.6419 - acc: 0.7311 - val_loss: 0.5509 - val_acc: 0.7759\n",
      "Epoch 2/5\n",
      "45338/45338 [==============================] - 198s 4ms/step - loss: 0.4948 - acc: 0.8015 - val_loss: 0.5095 - val_acc: 0.7925\n",
      "Epoch 3/5\n",
      "45338/45338 [==============================] - 199s 4ms/step - loss: 0.3993 - acc: 0.8453 - val_loss: 0.5181 - val_acc: 0.8032\n",
      "Epoch 4/5\n",
      "45338/45338 [==============================] - 196s 4ms/step - loss: 0.3170 - acc: 0.8791 - val_loss: 0.5315 - val_acc: 0.7990\n",
      "Epoch 5/5\n",
      "45338/45338 [==============================] - 197s 4ms/step - loss: 0.2563 - acc: 0.9037 - val_loss: 0.5611 - val_acc: 0.7941\n"
     ]
    },
    {
     "data": {
      "text/plain": [
       "<keras.callbacks.History at 0x7f7c4990c978>"
      ]
     },
     "execution_count": 101,
     "metadata": {
      "tags": []
     },
     "output_type": "execute_result"
    }
   ],
   "source": [
    "model_st_lstm = Sequential()\n",
    "e = Embedding(100000, 200, weights=[embedding_matrix], input_length=35\n",
    "              , trainable=True)\n",
    "model_st_lstm.add(e)\n",
    "# model_st_gru.add(Flatten())\n",
    "# model.add(Dense(256, activation='relu'))\n",
    "model_st_lstm.add(keras.layers.LSTM(64, dropout=0.2, recurrent_dropout=0.5, return_sequences=True))\n",
    "model_st_lstm.add(keras.layers.LSTM(128, dropout=0.2))\n",
    "model_st_lstm.add(Dense(3, activation='softmax'))\n",
    "\n",
    "model_st_lstm.compile(loss='categorical_crossentropy', optimizer='adam', metrics=['accuracy'])\n",
    "model_st_lstm.summary()\n",
    "model_st_lstm.fit(x_train_seq, y_train, \n",
    "          validation_data=(x_val_seq, y_validation),\n",
    "          epochs=5, batch_size=32)"
   ]
  },
  {
   "cell_type": "code",
   "execution_count": 0,
   "metadata": {
    "colab": {
     "base_uri": "https://localhost:8080/",
     "height": 51
    },
    "colab_type": "code",
    "id": "fqyX-3zC5-MW",
    "outputId": "15ea5b09-fa4b-47bc-ddb3-20e39d27816a"
   },
   "outputs": [
    {
     "name": "stdout",
     "output_type": "stream",
     "text": [
      "5668/5668 [==============================] - 8s 1ms/step\n"
     ]
    },
    {
     "data": {
      "text/plain": [
       "[0.559693810064017, 0.7944601270289343]"
      ]
     },
     "execution_count": 102,
     "metadata": {
      "tags": []
     },
     "output_type": "execute_result"
    }
   ],
   "source": [
    "model_st_lstm.evaluate(x_test_seq, y_test)"
   ]
  },
  {
   "cell_type": "markdown",
   "metadata": {
    "colab_type": "text",
    "id": "COenw2eE3xrs"
   },
   "source": [
    "#### Trying out the models without modifying the pre-trained weights of the embedding matrix."
   ]
  },
  {
   "cell_type": "code",
   "execution_count": 0,
   "metadata": {
    "colab": {},
    "colab_type": "code",
    "id": "VLotKcX902zk"
   },
   "outputs": [],
   "source": [
    "import keras"
   ]
  },
  {
   "cell_type": "code",
   "execution_count": 0,
   "metadata": {
    "colab": {
     "base_uri": "https://localhost:8080/",
     "height": 751
    },
    "colab_type": "code",
    "id": "gd5k_wQpzBce",
    "outputId": "89afc02c-daa6-457e-c5c6-04708463dc10"
   },
   "outputs": [
    {
     "name": "stdout",
     "output_type": "stream",
     "text": [
      "WARNING:tensorflow:From /usr/local/lib/python3.6/dist-packages/keras/backend/tensorflow_backend.py:148: The name tf.placeholder_with_default is deprecated. Please use tf.compat.v1.placeholder_with_default instead.\n",
      "\n",
      "WARNING:tensorflow:From /usr/local/lib/python3.6/dist-packages/keras/backend/tensorflow_backend.py:3733: calling dropout (from tensorflow.python.ops.nn_ops) with keep_prob is deprecated and will be removed in a future version.\n",
      "Instructions for updating:\n",
      "Please use `rate` instead of `keep_prob`. Rate should be set to `rate = 1 - keep_prob`.\n",
      "WARNING:tensorflow:From /usr/local/lib/python3.6/dist-packages/keras/optimizers.py:793: The name tf.train.Optimizer is deprecated. Please use tf.compat.v1.train.Optimizer instead.\n",
      "\n",
      "WARNING:tensorflow:From /usr/local/lib/python3.6/dist-packages/keras/backend/tensorflow_backend.py:3576: The name tf.log is deprecated. Please use tf.math.log instead.\n",
      "\n",
      "Model: \"sequential_2\"\n",
      "_________________________________________________________________\n",
      "Layer (type)                 Output Shape              Param #   \n",
      "=================================================================\n",
      "embedding_2 (Embedding)      (None, 35, 200)           20000000  \n",
      "_________________________________________________________________\n",
      "gru_1 (GRU)                  (None, 256)               350976    \n",
      "_________________________________________________________________\n",
      "dense_1 (Dense)              (None, 3)                 771       \n",
      "=================================================================\n",
      "Total params: 20,351,747\n",
      "Trainable params: 351,747\n",
      "Non-trainable params: 20,000,000\n",
      "_________________________________________________________________\n",
      "WARNING:tensorflow:From /usr/local/lib/python3.6/dist-packages/tensorflow_core/python/ops/math_grad.py:1424: where (from tensorflow.python.ops.array_ops) is deprecated and will be removed in a future version.\n",
      "Instructions for updating:\n",
      "Use tf.where in 2.0, which has the same broadcast rule as np.where\n",
      "WARNING:tensorflow:From /usr/local/lib/python3.6/dist-packages/keras/backend/tensorflow_backend.py:1033: The name tf.assign_add is deprecated. Please use tf.compat.v1.assign_add instead.\n",
      "\n",
      "WARNING:tensorflow:From /usr/local/lib/python3.6/dist-packages/keras/backend/tensorflow_backend.py:1020: The name tf.assign is deprecated. Please use tf.compat.v1.assign instead.\n",
      "\n",
      "Train on 45338 samples, validate on 5667 samples\n",
      "Epoch 1/5\n",
      "45338/45338 [==============================] - 82s 2ms/step - loss: 0.6658 - acc: 0.7208 - val_loss: 0.5739 - val_acc: 0.7646\n",
      "Epoch 2/5\n",
      "45338/45338 [==============================] - 80s 2ms/step - loss: 0.5536 - acc: 0.7736 - val_loss: 0.5517 - val_acc: 0.7743\n",
      "Epoch 3/5\n",
      "45338/45338 [==============================] - 80s 2ms/step - loss: 0.5192 - acc: 0.7876 - val_loss: 0.5419 - val_acc: 0.7752\n",
      "Epoch 4/5\n",
      "45338/45338 [==============================] - 80s 2ms/step - loss: 0.4970 - acc: 0.7979 - val_loss: 0.5469 - val_acc: 0.7773\n",
      "Epoch 5/5\n",
      "45338/45338 [==============================] - 78s 2ms/step - loss: 0.4792 - acc: 0.8059 - val_loss: 0.5390 - val_acc: 0.7808\n"
     ]
    },
    {
     "data": {
      "text/plain": [
       "<keras.callbacks.History at 0x7f26be25fa20>"
      ]
     },
     "execution_count": 37,
     "metadata": {
      "tags": []
     },
     "output_type": "execute_result"
    }
   ],
   "source": [
    "model_gru = Sequential()\n",
    "e = Embedding(100000, 200, weights=[embedding_matrix], input_length=35\n",
    "              , trainable=False)\n",
    "model_gru.add(e)\n",
    "# model_gru.add(Flatten())\n",
    "# model.add(Dense(256, activation='relu'))\n",
    "model_gru.add(keras.layers.GRU(256, dropout=0.2, recurrent_dropout=0.5))\n",
    "model_gru.add(Dense(3, activation='softmax'))\n",
    "\n",
    "model_gru.compile(loss='categorical_crossentropy', optimizer='adam', metrics=['accuracy'])\n",
    "model_gru.summary()\n",
    "model_gru.fit(x_train_seq, y_train, \n",
    "          validation_data=(x_val_seq, y_validation),\n",
    "          epochs=5, batch_size=32)"
   ]
  },
  {
   "cell_type": "code",
   "execution_count": 0,
   "metadata": {
    "colab": {
     "base_uri": "https://localhost:8080/",
     "height": 459
    },
    "colab_type": "code",
    "id": "yFHKaoRy0xGl",
    "outputId": "baab35d7-d09d-4cfa-a323-567fd7ac351c"
   },
   "outputs": [
    {
     "name": "stdout",
     "output_type": "stream",
     "text": [
      "Model: \"sequential_3\"\n",
      "_________________________________________________________________\n",
      "Layer (type)                 Output Shape              Param #   \n",
      "=================================================================\n",
      "embedding_3 (Embedding)      (None, 35, 200)           20000000  \n",
      "_________________________________________________________________\n",
      "lstm_1 (LSTM)                (None, 256)               467968    \n",
      "_________________________________________________________________\n",
      "dense_2 (Dense)              (None, 3)                 771       \n",
      "=================================================================\n",
      "Total params: 20,468,739\n",
      "Trainable params: 468,739\n",
      "Non-trainable params: 20,000,000\n",
      "_________________________________________________________________\n",
      "Train on 45338 samples, validate on 5667 samples\n",
      "Epoch 1/5\n",
      "45338/45338 [==============================] - 96s 2ms/step - loss: 0.6330 - acc: 0.7345 - val_loss: 0.5550 - val_acc: 0.7759\n",
      "Epoch 2/5\n",
      "45338/45338 [==============================] - 94s 2ms/step - loss: 0.5361 - acc: 0.7804 - val_loss: 0.5413 - val_acc: 0.7822\n",
      "Epoch 3/5\n",
      "45338/45338 [==============================] - 93s 2ms/step - loss: 0.4963 - acc: 0.7985 - val_loss: 0.5470 - val_acc: 0.7785\n",
      "Epoch 4/5\n",
      "45338/45338 [==============================] - 96s 2ms/step - loss: 0.4691 - acc: 0.8095 - val_loss: 0.5491 - val_acc: 0.7794\n",
      "Epoch 5/5\n",
      "45338/45338 [==============================] - 96s 2ms/step - loss: 0.4427 - acc: 0.8215 - val_loss: 0.5449 - val_acc: 0.7789\n"
     ]
    },
    {
     "data": {
      "text/plain": [
       "<keras.callbacks.History at 0x7f26bcd0e908>"
      ]
     },
     "execution_count": 38,
     "metadata": {
      "tags": []
     },
     "output_type": "execute_result"
    }
   ],
   "source": [
    "model_lstm = Sequential()\n",
    "e = Embedding(100000, 200, weights=[embedding_matrix], input_length=35\n",
    "              , trainable=False)\n",
    "model_lstm.add(e)\n",
    "# model_lstm.add(Flatten())\n",
    "# model.add(Dense(256, activation='relu'))\n",
    "model_lstm.add(keras.layers.LSTM(256, dropout=0.2, recurrent_dropout=0.5))\n",
    "model_lstm.add(Dense(3, activation='softmax'))\n",
    "\n",
    "model_lstm.compile(loss='categorical_crossentropy', optimizer='adam', metrics=['accuracy'])\n",
    "model_lstm.summary()\n",
    "model_lstm.fit(x_train_seq, y_train, \n",
    "          validation_data=(x_val_seq, y_validation),\n",
    "          epochs=5, batch_size=32)"
   ]
  },
  {
   "cell_type": "code",
   "execution_count": 0,
   "metadata": {
    "colab": {
     "base_uri": "https://localhost:8080/",
     "height": 459
    },
    "colab_type": "code",
    "id": "DHY9vxdN2mE2",
    "outputId": "c5b48593-42cd-48d5-9978-74b5ec178c69"
   },
   "outputs": [
    {
     "name": "stdout",
     "output_type": "stream",
     "text": [
      "Model: \"sequential_4\"\n",
      "_________________________________________________________________\n",
      "Layer (type)                 Output Shape              Param #   \n",
      "=================================================================\n",
      "embedding_4 (Embedding)      (None, 35, 200)           20000000  \n",
      "_________________________________________________________________\n",
      "bidirectional_1 (Bidirection (None, 512)               701952    \n",
      "_________________________________________________________________\n",
      "dense_3 (Dense)              (None, 3)                 1539      \n",
      "=================================================================\n",
      "Total params: 20,703,491\n",
      "Trainable params: 703,491\n",
      "Non-trainable params: 20,000,000\n",
      "_________________________________________________________________\n",
      "Train on 45338 samples, validate on 5667 samples\n",
      "Epoch 1/5\n",
      "45338/45338 [==============================] - 166s 4ms/step - loss: 0.6541 - acc: 0.7242 - val_loss: 0.5593 - val_acc: 0.7715\n",
      "Epoch 2/5\n",
      "45338/45338 [==============================] - 165s 4ms/step - loss: 0.5511 - acc: 0.7734 - val_loss: 0.5421 - val_acc: 0.7750\n",
      "Epoch 3/5\n",
      "45338/45338 [==============================] - 164s 4ms/step - loss: 0.5148 - acc: 0.7891 - val_loss: 0.5461 - val_acc: 0.7810\n",
      "Epoch 4/5\n",
      "45338/45338 [==============================] - 162s 4ms/step - loss: 0.4976 - acc: 0.7969 - val_loss: 0.5374 - val_acc: 0.7858\n",
      "Epoch 5/5\n",
      "45338/45338 [==============================] - 162s 4ms/step - loss: 0.4785 - acc: 0.8045 - val_loss: 0.5498 - val_acc: 0.7845\n"
     ]
    },
    {
     "data": {
      "text/plain": [
       "<keras.callbacks.History at 0x7f26d3fe56a0>"
      ]
     },
     "execution_count": 39,
     "metadata": {
      "tags": []
     },
     "output_type": "execute_result"
    }
   ],
   "source": [
    "model_bi_gru = Sequential()\n",
    "e = Embedding(100000, 200, weights=[embedding_matrix], input_length=35\n",
    "              , trainable=False)\n",
    "model_bi_gru.add(e)\n",
    "# model_gru.add(Flatten())\n",
    "# model.add(Dense(256, activation='relu'))\n",
    "model_bi_gru.add(keras.layers.Bidirectional(keras.layers.GRU(256, dropout=0.2, recurrent_dropout=0.5)))\n",
    "model_bi_gru.add(Dense(3, activation='softmax'))\n",
    "\n",
    "model_bi_gru.compile(loss='categorical_crossentropy', optimizer='adam', metrics=['accuracy'])\n",
    "model_bi_gru.summary()\n",
    "model_bi_gru.fit(x_train_seq, y_train, \n",
    "          validation_data=(x_val_seq, y_validation),\n",
    "          epochs=5, batch_size=32)"
   ]
  },
  {
   "cell_type": "code",
   "execution_count": 0,
   "metadata": {
    "colab": {
     "base_uri": "https://localhost:8080/",
     "height": 459
    },
    "colab_type": "code",
    "id": "-lED9o6a4j5_",
    "outputId": "16f1b88e-697f-4db4-ef36-5c701a7fd5db"
   },
   "outputs": [
    {
     "name": "stdout",
     "output_type": "stream",
     "text": [
      "Model: \"sequential_5\"\n",
      "_________________________________________________________________\n",
      "Layer (type)                 Output Shape              Param #   \n",
      "=================================================================\n",
      "embedding_5 (Embedding)      (None, 35, 200)           20000000  \n",
      "_________________________________________________________________\n",
      "bidirectional_2 (Bidirection (None, 512)               935936    \n",
      "_________________________________________________________________\n",
      "dense_4 (Dense)              (None, 3)                 1539      \n",
      "=================================================================\n",
      "Total params: 20,937,475\n",
      "Trainable params: 937,475\n",
      "Non-trainable params: 20,000,000\n",
      "_________________________________________________________________\n",
      "Train on 45338 samples, validate on 5667 samples\n",
      "Epoch 1/5\n",
      "45338/45338 [==============================] - 201s 4ms/step - loss: 0.6300 - acc: 0.7351 - val_loss: 0.5762 - val_acc: 0.7653\n",
      "Epoch 2/5\n",
      "45338/45338 [==============================] - 199s 4ms/step - loss: 0.5360 - acc: 0.7790 - val_loss: 0.5428 - val_acc: 0.7777\n",
      "Epoch 3/5\n",
      "45338/45338 [==============================] - 200s 4ms/step - loss: 0.4965 - acc: 0.7966 - val_loss: 0.5450 - val_acc: 0.7768\n",
      "Epoch 4/5\n",
      "45338/45338 [==============================] - 197s 4ms/step - loss: 0.4664 - acc: 0.8095 - val_loss: 0.5321 - val_acc: 0.7865\n",
      "Epoch 5/5\n",
      "45338/45338 [==============================] - 201s 4ms/step - loss: 0.4405 - acc: 0.8213 - val_loss: 0.5391 - val_acc: 0.7923\n"
     ]
    },
    {
     "data": {
      "text/plain": [
       "<keras.callbacks.History at 0x7f26d265beb8>"
      ]
     },
     "execution_count": 40,
     "metadata": {
      "tags": []
     },
     "output_type": "execute_result"
    }
   ],
   "source": [
    "model_bi_lstm = Sequential()\n",
    "e = Embedding(100000, 200, weights=[embedding_matrix], input_length=35\n",
    "              , trainable=False)\n",
    "model_bi_lstm.add(e)\n",
    "# model_lstm.add(Flatten())\n",
    "# model.add(Dense(256, activation='relu'))\n",
    "model_bi_lstm.add(keras.layers.Bidirectional(keras.layers.LSTM(256, dropout=0.2, recurrent_dropout=0.5)))\n",
    "model_bi_lstm.add(Dense(3, activation='softmax'))\n",
    "\n",
    "model_bi_lstm.compile(loss='categorical_crossentropy', optimizer='adam', metrics=['accuracy'])\n",
    "model_bi_lstm.summary()\n",
    "model_bi_lstm.fit(x_train_seq, y_train, \n",
    "          validation_data=(x_val_seq, y_validation),\n",
    "          epochs=5, batch_size=32)"
   ]
  },
  {
   "cell_type": "code",
   "execution_count": 0,
   "metadata": {
    "colab": {
     "base_uri": "https://localhost:8080/",
     "height": 493
    },
    "colab_type": "code",
    "id": "XsNaFUbm708h",
    "outputId": "92d96880-2b6d-4ca4-b91f-55f91111db43"
   },
   "outputs": [
    {
     "name": "stdout",
     "output_type": "stream",
     "text": [
      "Model: \"sequential_6\"\n",
      "_________________________________________________________________\n",
      "Layer (type)                 Output Shape              Param #   \n",
      "=================================================================\n",
      "embedding_6 (Embedding)      (None, 35, 200)           20000000  \n",
      "_________________________________________________________________\n",
      "gru_3 (GRU)                  (None, 35, 64)            50880     \n",
      "_________________________________________________________________\n",
      "gru_4 (GRU)                  (None, 128)               74112     \n",
      "_________________________________________________________________\n",
      "dense_5 (Dense)              (None, 3)                 387       \n",
      "=================================================================\n",
      "Total params: 20,125,379\n",
      "Trainable params: 125,379\n",
      "Non-trainable params: 20,000,000\n",
      "_________________________________________________________________\n",
      "Train on 45338 samples, validate on 5667 samples\n",
      "Epoch 1/5\n",
      "45338/45338 [==============================] - 158s 3ms/step - loss: 0.6688 - acc: 0.7154 - val_loss: 0.5699 - val_acc: 0.7639\n",
      "Epoch 2/5\n",
      "45338/45338 [==============================] - 153s 3ms/step - loss: 0.5662 - acc: 0.7647 - val_loss: 0.5555 - val_acc: 0.7777\n",
      "Epoch 3/5\n",
      "45338/45338 [==============================] - 155s 3ms/step - loss: 0.5375 - acc: 0.7774 - val_loss: 0.5403 - val_acc: 0.7824\n",
      "Epoch 4/5\n",
      "45338/45338 [==============================] - 157s 3ms/step - loss: 0.5154 - acc: 0.7864 - val_loss: 0.5342 - val_acc: 0.7835\n",
      "Epoch 5/5\n",
      "45338/45338 [==============================] - 155s 3ms/step - loss: 0.5009 - acc: 0.7939 - val_loss: 0.5351 - val_acc: 0.7854\n"
     ]
    },
    {
     "data": {
      "text/plain": [
       "<keras.callbacks.History at 0x7f26d4421ef0>"
      ]
     },
     "execution_count": 41,
     "metadata": {
      "tags": []
     },
     "output_type": "execute_result"
    }
   ],
   "source": [
    "model_st_gru = Sequential()\n",
    "e = Embedding(100000, 200, weights=[embedding_matrix], input_length=35\n",
    "              , trainable=False)\n",
    "model_st_gru.add(e)\n",
    "# model_st_gru.add(Flatten())\n",
    "# model.add(Dense(256, activation='relu'))\n",
    "model_st_gru.add(keras.layers.GRU(64, dropout=0.2, recurrent_dropout=0.5, return_sequences=True))\n",
    "model_st_gru.add(keras.layers.GRU(128, dropout=0.2))\n",
    "model_st_gru.add(Dense(3, activation='softmax'))\n",
    "\n",
    "model_st_gru.compile(loss='categorical_crossentropy', optimizer='adam', metrics=['accuracy'])\n",
    "model_st_gru.summary()\n",
    "model_st_gru.fit(x_train_seq, y_train, \n",
    "          validation_data=(x_val_seq, y_validation),\n",
    "          epochs=5, batch_size=32)"
   ]
  },
  {
   "cell_type": "code",
   "execution_count": 0,
   "metadata": {
    "colab": {
     "base_uri": "https://localhost:8080/",
     "height": 493
    },
    "colab_type": "code",
    "id": "xHbeVvoSABA8",
    "outputId": "dcbee020-03d0-4b8d-ad4c-7fdf67116af0"
   },
   "outputs": [
    {
     "name": "stdout",
     "output_type": "stream",
     "text": [
      "Model: \"sequential_7\"\n",
      "_________________________________________________________________\n",
      "Layer (type)                 Output Shape              Param #   \n",
      "=================================================================\n",
      "embedding_7 (Embedding)      (None, 35, 200)           20000000  \n",
      "_________________________________________________________________\n",
      "lstm_3 (LSTM)                (None, 35, 64)            67840     \n",
      "_________________________________________________________________\n",
      "lstm_4 (LSTM)                (None, 128)               98816     \n",
      "_________________________________________________________________\n",
      "dense_6 (Dense)              (None, 3)                 387       \n",
      "=================================================================\n",
      "Total params: 20,167,043\n",
      "Trainable params: 167,043\n",
      "Non-trainable params: 20,000,000\n",
      "_________________________________________________________________\n",
      "Train on 45338 samples, validate on 5667 samples\n",
      "Epoch 1/5\n",
      "45338/45338 [==============================] - 191s 4ms/step - loss: 0.6538 - acc: 0.7252 - val_loss: 0.5708 - val_acc: 0.7681\n",
      "Epoch 2/5\n",
      "45338/45338 [==============================] - 190s 4ms/step - loss: 0.5590 - acc: 0.7689 - val_loss: 0.5437 - val_acc: 0.7794\n",
      "Epoch 3/5\n",
      "45338/45338 [==============================] - 191s 4ms/step - loss: 0.5244 - acc: 0.7842 - val_loss: 0.5425 - val_acc: 0.7762\n",
      "Epoch 4/5\n",
      "45338/45338 [==============================] - 192s 4ms/step - loss: 0.4996 - acc: 0.7956 - val_loss: 0.5259 - val_acc: 0.7854\n",
      "Epoch 5/5\n",
      "45338/45338 [==============================] - 193s 4ms/step - loss: 0.4793 - acc: 0.8035 - val_loss: 0.5227 - val_acc: 0.7891\n"
     ]
    },
    {
     "data": {
      "text/plain": [
       "<keras.callbacks.History at 0x7f26d2c0ee48>"
      ]
     },
     "execution_count": 42,
     "metadata": {
      "tags": []
     },
     "output_type": "execute_result"
    }
   ],
   "source": [
    "model_st_lstm = Sequential()\n",
    "e = Embedding(100000, 200, weights=[embedding_matrix], input_length=35\n",
    "              , trainable=False)\n",
    "model_st_lstm.add(e)\n",
    "# model_st_gru.add(Flatten())\n",
    "# model.add(Dense(256, activation='relu'))\n",
    "model_st_lstm.add(keras.layers.LSTM(64, dropout=0.2, recurrent_dropout=0.5, return_sequences=True))\n",
    "model_st_lstm.add(keras.layers.LSTM(128, dropout=0.2))\n",
    "model_st_lstm.add(Dense(3, activation='softmax'))\n",
    "\n",
    "model_st_lstm.compile(loss='categorical_crossentropy', optimizer='adam', metrics=['accuracy'])\n",
    "model_st_lstm.summary()\n",
    "model_st_lstm.fit(x_train_seq, y_train, \n",
    "          validation_data=(x_val_seq, y_validation),\n",
    "          epochs=5, batch_size=32)"
   ]
  },
  {
   "cell_type": "code",
   "execution_count": 0,
   "metadata": {
    "colab": {},
    "colab_type": "code",
    "id": "NtWVx9-MDLK6"
   },
   "outputs": [],
   "source": [
    "sequences_test = tokenizer.texts_to_sequences(x_test)\n",
    "x_test_seq = pad_sequences(sequences_test, maxlen=35)\n",
    "y_test = to_categorical(y_test)"
   ]
  },
  {
   "cell_type": "code",
   "execution_count": 0,
   "metadata": {
    "colab": {
     "base_uri": "https://localhost:8080/",
     "height": 51
    },
    "colab_type": "code",
    "id": "7eAx-2whHTgA",
    "outputId": "ba8f0326-8402-4c48-91b6-bc14503c483c"
   },
   "outputs": [
    {
     "name": "stdout",
     "output_type": "stream",
     "text": [
      "5668/5668 [==============================] - 4s 733us/step\n"
     ]
    },
    {
     "data": {
      "text/plain": [
       "[0.5331313439297188, 0.7870501058574453]"
      ]
     },
     "execution_count": 44,
     "metadata": {
      "tags": []
     },
     "output_type": "execute_result"
    }
   ],
   "source": [
    "model_gru.evaluate(x_test_seq, y_test)"
   ]
  },
  {
   "cell_type": "code",
   "execution_count": 0,
   "metadata": {
    "colab": {
     "base_uri": "https://localhost:8080/",
     "height": 51
    },
    "colab_type": "code",
    "id": "bN0KbjlgHXP3",
    "outputId": "23937dc4-8d3d-42b7-d95a-b09ed7ff6f0b"
   },
   "outputs": [
    {
     "name": "stdout",
     "output_type": "stream",
     "text": [
      "5668/5668 [==============================] - 4s 764us/step\n"
     ]
    },
    {
     "data": {
      "text/plain": [
       "[0.5280382797889669, 0.7858151023288638]"
      ]
     },
     "execution_count": 45,
     "metadata": {
      "tags": []
     },
     "output_type": "execute_result"
    }
   ],
   "source": [
    "model_lstm.evaluate(x_test_seq, y_test)"
   ]
  },
  {
   "cell_type": "code",
   "execution_count": 0,
   "metadata": {
    "colab": {
     "base_uri": "https://localhost:8080/",
     "height": 51
    },
    "colab_type": "code",
    "id": "nm79G9LYHbsN",
    "outputId": "049a97af-7842-4557-ec83-8058affff9f9"
   },
   "outputs": [
    {
     "name": "stdout",
     "output_type": "stream",
     "text": [
      "5668/5668 [==============================] - 8s 1ms/step\n"
     ]
    },
    {
     "data": {
      "text/plain": [
       "[0.5287905923270304, 0.7881086803105152]"
      ]
     },
     "execution_count": 46,
     "metadata": {
      "tags": []
     },
     "output_type": "execute_result"
    }
   ],
   "source": [
    "model_bi_gru.evaluate(x_test_seq, y_test)"
   ]
  },
  {
   "cell_type": "code",
   "execution_count": 0,
   "metadata": {
    "colab": {
     "base_uri": "https://localhost:8080/",
     "height": 51
    },
    "colab_type": "code",
    "id": "1FfXEm0MHiv5",
    "outputId": "ed3527ca-8f1a-4513-99e7-328b2d5c7f7d"
   },
   "outputs": [
    {
     "name": "stdout",
     "output_type": "stream",
     "text": [
      "5668/5668 [==============================] - 9s 2ms/step\n"
     ]
    },
    {
     "data": {
      "text/plain": [
       "[0.5275574734115062, 0.791637261820748]"
      ]
     },
     "execution_count": 47,
     "metadata": {
      "tags": []
     },
     "output_type": "execute_result"
    }
   ],
   "source": [
    "model_bi_lstm.evaluate(x_test_seq, y_test)"
   ]
  },
  {
   "cell_type": "code",
   "execution_count": 0,
   "metadata": {
    "colab": {
     "base_uri": "https://localhost:8080/",
     "height": 51
    },
    "colab_type": "code",
    "id": "R9SwttwTHpOI",
    "outputId": "dded8d96-8e27-4502-9781-e1f42940d21c"
   },
   "outputs": [
    {
     "name": "stdout",
     "output_type": "stream",
     "text": [
      "5668/5668 [==============================] - 8s 1ms/step\n"
     ]
    },
    {
     "data": {
      "text/plain": [
       "[0.5173088391439631, 0.7868736767819337]"
      ]
     },
     "execution_count": 48,
     "metadata": {
      "tags": []
     },
     "output_type": "execute_result"
    }
   ],
   "source": [
    "model_st_gru.evaluate(x_test_seq, y_test)"
   ]
  },
  {
   "cell_type": "code",
   "execution_count": 0,
   "metadata": {
    "colab": {
     "base_uri": "https://localhost:8080/",
     "height": 51
    },
    "colab_type": "code",
    "id": "9xMDHdh1HwpX",
    "outputId": "ed8b619c-bbf9-4844-f929-73bfc72afb01"
   },
   "outputs": [
    {
     "name": "stdout",
     "output_type": "stream",
     "text": [
      "5668/5668 [==============================] - 9s 2ms/step\n"
     ]
    },
    {
     "data": {
      "text/plain": [
       "[0.5148168973882348, 0.7935779816513762]"
      ]
     },
     "execution_count": 49,
     "metadata": {
      "tags": []
     },
     "output_type": "execute_result"
    }
   ],
   "source": [
    "model_st_lstm.evaluate(x_test_seq, y_test)"
   ]
  },
  {
   "cell_type": "code",
   "execution_count": 0,
   "metadata": {
    "colab": {},
    "colab_type": "code",
    "id": "8dsDAda0H1ie"
   },
   "outputs": [],
   "source": []
  }
 ],
 "metadata": {
  "accelerator": "GPU",
  "colab": {
   "collapsed_sections": [],
   "name": "Arabic Sentiment Analysis.ipynb",
   "provenance": []
  },
  "kernelspec": {
   "display_name": "Python 3",
   "language": "python",
   "name": "python3"
  },
  "language_info": {
   "codemirror_mode": {
    "name": "ipython",
    "version": 3
   },
   "file_extension": ".py",
   "mimetype": "text/x-python",
   "name": "python",
   "nbconvert_exporter": "python",
   "pygments_lexer": "ipython3",
   "version": "3.6.6"
  }
 },
 "nbformat": 4,
 "nbformat_minor": 1
}
