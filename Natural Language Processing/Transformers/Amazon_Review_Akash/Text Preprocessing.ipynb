{
 "cells": [
  {
   "cell_type": "code",
   "execution_count": 1,
   "metadata": {},
   "outputs": [],
   "source": [
    "import pandas as pd\n",
    "import string\n",
    "from nltk.stem import WordNetLemmatizer\n",
    "from nltk.tokenize import word_tokenize\n",
    "from nltk.stem import PorterStemmer\n",
    "from nltk.tokenize import word_tokenize"
   ]
  },
  {
   "cell_type": "code",
   "execution_count": 2,
   "metadata": {},
   "outputs": [],
   "source": [
    "data = pd.read_csv('data.csv')"
   ]
  },
  {
   "cell_type": "code",
   "execution_count": 3,
   "metadata": {},
   "outputs": [],
   "source": [
    "def review_clean(df):\n",
    "    temp_df = df.copy()\n",
    "    # Remove hyperlinks\n",
    "    temp_df.loc[:, \"Review_text\"] = temp_df.loc[:, \"Review_text\"].replace('https?:\\/\\/.*\\/\\w*', '', regex=True)\n",
    "    # Remove citations\n",
    "    temp_df.loc[:, \"Review_text\"] = temp_df.loc[:, \"Review_text\"].replace('\\@\\w*', '', regex=True)\n",
    "    # Remove tickers\n",
    "    temp_df.loc[:, \"Review_text\"] = temp_df.loc[:, \"Review_text\"].replace('\\$\\w*', '', regex=True)\n",
    "    # Remove punctuation\n",
    "    temp_df.loc[:, \"Review_text\"] = temp_df.loc[:, \"Review_text\"].replace('[' + string.punctuation + ']+', '', regex=True)\n",
    "    # Remove quotes\n",
    "    temp_df.loc[:, \"Review_text\"] = temp_df.loc[:, \"Review_text\"].replace('\\&*[amp]*\\;|gt+', '', regex=True)\n",
    "    # Remove RT\n",
    "    temp_df.loc[:, \"Review_text\"] = temp_df.loc[:, \"Review_text\"].replace('RT', '', regex=True)\n",
    "    # Remove linebreak, tab, return\n",
    "    temp_df.loc[:, \"Review_text\"] = temp_df.loc[:, \"Review_text\"].replace('[\\n\\t\\r]+', ' ', regex=True)\n",
    "    # Remove via with blank\n",
    "    temp_df.loc[:, \"Review_text\"] = temp_df.loc[:, \"Review_text\"].replace('via+\\s', '', regex=True)\n",
    "    # Remove multiple whitespace\n",
    "    temp_df.loc[:, \"Review_text\"] = temp_df.loc[:, \"Review_text\"].replace('\\s+\\s+', ' ', regex=True)\n",
    "    # Remove multiple whitespace\n",
    "    temp_df.loc[:, \"Review_text\"] = temp_df.loc[:, \"Review_text\"].replace('\\s+\\s+', ' ', regex=True)\n",
    "    # Remove HashTags \n",
    "    temp_df.loc[:, \"Review_text\"] = temp_df.loc[:, \"Review_text\"].replace('\\#+[\\w_]+[\\w\\'_\\-]*[\\w_]+', ' ', regex=True)\n",
    "    # Remove Smileys\n",
    "    temp_df.loc[:, \"Review_text\"] = temp_df.loc[:, \"Review_text\"].replace('[:=]+(|o|O| )+[D\\)\\]]+[\\(\\[]+[pP]+[doO/\\\\]+[\\(\\[]+(\\^_\\^|)', ' ', regex=True)\n",
    "    # Remove empty rows\n",
    "    temp_df = temp_df.dropna()\n",
    "    return temp_df"
   ]
  },
  {
   "cell_type": "code",
   "execution_count": 4,
   "metadata": {},
   "outputs": [],
   "source": [
    "def stemming(input_str):\n",
    "    stemmer= PorterStemmer()\n",
    "    input_str=word_tokenize(input_str)\n",
    "    return ' '.join([stemmer.stem(word) for word in input_str])"
   ]
  },
  {
   "cell_type": "code",
   "execution_count": 5,
   "metadata": {},
   "outputs": [],
   "source": [
    "def lemmatization(input_str):\n",
    "    lemmatizer=WordNetLemmatizer()\n",
    "    input_str=word_tokenize(input_str)\n",
    "    return ' '.join([lemmatizer.lemmatize(word) for word in input_str])"
   ]
  },
  {
   "cell_type": "code",
   "execution_count": 6,
   "metadata": {},
   "outputs": [],
   "source": [
    "data = review_clean(data)\n",
    "data.Review_text = data.Review_text.apply(lambda x: lemmatization(x))\n",
    "data.Review_text = data.Review_text.apply(lambda x: stemming(x))"
   ]
  },
  {
   "cell_type": "code",
   "execution_count": 7,
   "metadata": {},
   "outputs": [
    {
     "data": {
      "text/html": [
       "<div>\n",
       "<style scoped>\n",
       "    .dataframe tbody tr th:only-of-type {\n",
       "        vertical-align: middle;\n",
       "    }\n",
       "\n",
       "    .dataframe tbody tr th {\n",
       "        vertical-align: top;\n",
       "    }\n",
       "\n",
       "    .dataframe thead th {\n",
       "        text-align: right;\n",
       "    }\n",
       "</style>\n",
       "<table border=\"1\" class=\"dataframe\">\n",
       "  <thead>\n",
       "    <tr style=\"text-align: right;\">\n",
       "      <th></th>\n",
       "      <th>Unique_ID</th>\n",
       "      <th>Category</th>\n",
       "      <th>Review_Header</th>\n",
       "      <th>Review_text</th>\n",
       "      <th>Rating</th>\n",
       "      <th>Author</th>\n",
       "      <th>Posted Date</th>\n",
       "      <th>Own_Rating</th>\n",
       "    </tr>\n",
       "  </thead>\n",
       "  <tbody>\n",
       "    <tr>\n",
       "      <th>0</th>\n",
       "      <td>136040</td>\n",
       "      <td>smartTv</td>\n",
       "      <td>Nice one</td>\n",
       "      <td>I like it</td>\n",
       "      <td>5.0</td>\n",
       "      <td>KARTHIK VADLAMUDI</td>\n",
       "      <td>11 May 2019</td>\n",
       "      <td>Positive</td>\n",
       "    </tr>\n",
       "    <tr>\n",
       "      <th>1</th>\n",
       "      <td>134236</td>\n",
       "      <td>mobile</td>\n",
       "      <td>Huge battery life with amazing display</td>\n",
       "      <td>I bought the phone on amazon and been use my s...</td>\n",
       "      <td>5.0</td>\n",
       "      <td>Kush</td>\n",
       "      <td>08 Oct 2019</td>\n",
       "      <td>Positive</td>\n",
       "    </tr>\n",
       "    <tr>\n",
       "      <th>2</th>\n",
       "      <td>113945</td>\n",
       "      <td>books</td>\n",
       "      <td>Four Stars</td>\n",
       "      <td>awesom book at reason price must buy</td>\n",
       "      <td>4.0</td>\n",
       "      <td>Amrin</td>\n",
       "      <td>10 Jul 2017</td>\n",
       "      <td>Positive</td>\n",
       "    </tr>\n",
       "    <tr>\n",
       "      <th>3</th>\n",
       "      <td>168076</td>\n",
       "      <td>smartTv</td>\n",
       "      <td>Nice quality</td>\n",
       "      <td>good</td>\n",
       "      <td>5.0</td>\n",
       "      <td>prabhakar</td>\n",
       "      <td>27 Jun 2019</td>\n",
       "      <td>Positive</td>\n",
       "    </tr>\n",
       "    <tr>\n",
       "      <th>4</th>\n",
       "      <td>157302</td>\n",
       "      <td>books</td>\n",
       "      <td>Nice book</td>\n",
       "      <td>the book is finenot badcontain nice concept an...</td>\n",
       "      <td>3.0</td>\n",
       "      <td>JAI HIND ~ Swap</td>\n",
       "      <td>02 Nov 2018</td>\n",
       "      <td>Neutral</td>\n",
       "    </tr>\n",
       "  </tbody>\n",
       "</table>\n",
       "</div>"
      ],
      "text/plain": [
       "   Unique_ID Category                           Review_Header  \\\n",
       "0     136040  smartTv                                Nice one   \n",
       "1     134236   mobile  Huge battery life with amazing display   \n",
       "2     113945    books                              Four Stars   \n",
       "3     168076  smartTv                            Nice quality   \n",
       "4     157302    books                               Nice book   \n",
       "\n",
       "                                         Review_text  Rating  \\\n",
       "0                                          I like it     5.0   \n",
       "1  I bought the phone on amazon and been use my s...     5.0   \n",
       "2               awesom book at reason price must buy     4.0   \n",
       "3                                               good     5.0   \n",
       "4  the book is finenot badcontain nice concept an...     3.0   \n",
       "\n",
       "              Author  Posted Date Own_Rating  \n",
       "0  KARTHIK VADLAMUDI  11 May 2019   Positive  \n",
       "1               Kush  08 Oct 2019   Positive  \n",
       "2              Amrin  10 Jul 2017   Positive  \n",
       "3          prabhakar  27 Jun 2019   Positive  \n",
       "4    JAI HIND ~ Swap  02 Nov 2018    Neutral  "
      ]
     },
     "execution_count": 7,
     "metadata": {},
     "output_type": "execute_result"
    }
   ],
   "source": [
    "data.head()"
   ]
  },
  {
   "cell_type": "code",
   "execution_count": 9,
   "metadata": {},
   "outputs": [],
   "source": [
    "data.to_csv('processed_data.csv',index=False)"
   ]
  }
 ],
 "metadata": {
  "kernelspec": {
   "display_name": "Python 3",
   "language": "python",
   "name": "python3"
  },
  "language_info": {
   "codemirror_mode": {
    "name": "ipython",
    "version": 3
   },
   "file_extension": ".py",
   "mimetype": "text/x-python",
   "name": "python",
   "nbconvert_exporter": "python",
   "pygments_lexer": "ipython3",
   "version": "3.7.3"
  }
 },
 "nbformat": 4,
 "nbformat_minor": 2
}
