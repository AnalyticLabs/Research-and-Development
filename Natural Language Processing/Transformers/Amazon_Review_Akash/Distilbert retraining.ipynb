{
 "cells": [
  {
   "cell_type": "code",
   "execution_count": 1,
   "metadata": {
    "colab": {
     "base_uri": "https://localhost:8080/",
     "height": 80
    },
    "colab_type": "code",
    "executionInfo": {
     "elapsed": 5413,
     "status": "ok",
     "timestamp": 1575196733162,
     "user": {
      "displayName": "arpana alka",
      "photoUrl": "",
      "userId": "00941466105270682854"
     },
     "user_tz": -330
    },
    "id": "2PnbgZhXfv2O",
    "outputId": "71354c02-d18d-4b92-b676-30d71f25d3b9"
   },
   "outputs": [
    {
     "data": {
      "text/html": [
       "<p style=\"color: red;\">\n",
       "The default version of TensorFlow in Colab will soon switch to TensorFlow 2.x.<br>\n",
       "We recommend you <a href=\"https://www.tensorflow.org/guide/migrate\" target=\"_blank\">upgrade</a> now \n",
       "or ensure your notebook will continue to use TensorFlow 1.x via the <code>%tensorflow_version 1.x</code> magic:\n",
       "<a href=\"https://colab.research.google.com/notebooks/tensorflow_version.ipynb\" target=\"_blank\">more info</a>.</p>\n"
      ],
      "text/plain": [
       "<IPython.core.display.HTML object>"
      ]
     },
     "metadata": {
      "tags": []
     },
     "output_type": "display_data"
    },
    {
     "name": "stdout",
     "output_type": "stream",
     "text": [
      "Found GPU at: /device:GPU:0\n"
     ]
    }
   ],
   "source": [
    "import tensorflow as tf\n",
    "\n",
    "device_name = tf.test.gpu_device_name()\n",
    "if device_name != '/device:GPU:0':\n",
    "  raise SystemError('GPU device not found')\n",
    "print('Found GPU at: {}'.format(device_name))"
   ]
  },
  {
   "cell_type": "code",
   "execution_count": 2,
   "metadata": {
    "colab": {
     "base_uri": "https://localhost:8080/",
     "height": 612
    },
    "colab_type": "code",
    "executionInfo": {
     "elapsed": 14067,
     "status": "ok",
     "timestamp": 1575196749671,
     "user": {
      "displayName": "arpana alka",
      "photoUrl": "",
      "userId": "00941466105270682854"
     },
     "user_tz": -330
    },
    "id": "Z8KUQgNNFMcF",
    "outputId": "a0cedea2-c204-414d-b503-975cc14f9441"
   },
   "outputs": [
    {
     "name": "stdout",
     "output_type": "stream",
     "text": [
      "Collecting transformers\n",
      "\u001b[?25l  Downloading https://files.pythonhosted.org/packages/ec/e7/0a1babead1b79afabb654fbec0a052e0d833ba4205a6dfd98b1aeda9c82e/transformers-2.2.0-py3-none-any.whl (360kB)\n",
      "\r",
      "\u001b[K     |█                               | 10kB 15.9MB/s eta 0:00:01\r",
      "\u001b[K     |█▉                              | 20kB 1.7MB/s eta 0:00:01\r",
      "\u001b[K     |██▊                             | 30kB 2.5MB/s eta 0:00:01\r",
      "\u001b[K     |███▋                            | 40kB 1.6MB/s eta 0:00:01\r",
      "\u001b[K     |████▌                           | 51kB 2.0MB/s eta 0:00:01\r",
      "\u001b[K     |█████▌                          | 61kB 2.4MB/s eta 0:00:01\r",
      "\u001b[K     |██████▍                         | 71kB 2.8MB/s eta 0:00:01\r",
      "\u001b[K     |███████▎                        | 81kB 3.1MB/s eta 0:00:01\r",
      "\u001b[K     |████████▏                       | 92kB 3.5MB/s eta 0:00:01\r",
      "\u001b[K     |█████████                       | 102kB 2.7MB/s eta 0:00:01\r",
      "\u001b[K     |██████████                      | 112kB 2.7MB/s eta 0:00:01\r",
      "\u001b[K     |███████████                     | 122kB 2.7MB/s eta 0:00:01\r",
      "\u001b[K     |███████████▉                    | 133kB 2.7MB/s eta 0:00:01\r",
      "\u001b[K     |████████████▊                   | 143kB 2.7MB/s eta 0:00:01\r",
      "\u001b[K     |█████████████▋                  | 153kB 2.7MB/s eta 0:00:01\r",
      "\u001b[K     |██████████████▌                 | 163kB 2.7MB/s eta 0:00:01\r",
      "\u001b[K     |███████████████▌                | 174kB 2.7MB/s eta 0:00:01\r",
      "\u001b[K     |████████████████▍               | 184kB 2.7MB/s eta 0:00:01\r",
      "\u001b[K     |█████████████████▎              | 194kB 2.7MB/s eta 0:00:01\r",
      "\u001b[K     |██████████████████▏             | 204kB 2.7MB/s eta 0:00:01\r",
      "\u001b[K     |███████████████████             | 215kB 2.7MB/s eta 0:00:01\r",
      "\u001b[K     |████████████████████            | 225kB 2.7MB/s eta 0:00:01\r",
      "\u001b[K     |█████████████████████           | 235kB 2.7MB/s eta 0:00:01\r",
      "\u001b[K     |█████████████████████▉          | 245kB 2.7MB/s eta 0:00:01\r",
      "\u001b[K     |██████████████████████▊         | 256kB 2.7MB/s eta 0:00:01\r",
      "\u001b[K     |███████████████████████▋        | 266kB 2.7MB/s eta 0:00:01\r",
      "\u001b[K     |████████████████████████▌       | 276kB 2.7MB/s eta 0:00:01\r",
      "\u001b[K     |█████████████████████████▍      | 286kB 2.7MB/s eta 0:00:01\r",
      "\u001b[K     |██████████████████████████▍     | 296kB 2.7MB/s eta 0:00:01\r",
      "\u001b[K     |███████████████████████████▎    | 307kB 2.7MB/s eta 0:00:01\r",
      "\u001b[K     |████████████████████████████▏   | 317kB 2.7MB/s eta 0:00:01\r",
      "\u001b[K     |█████████████████████████████   | 327kB 2.7MB/s eta 0:00:01\r",
      "\u001b[K     |██████████████████████████████  | 337kB 2.7MB/s eta 0:00:01\r",
      "\u001b[K     |███████████████████████████████ | 348kB 2.7MB/s eta 0:00:01\r",
      "\u001b[K     |███████████████████████████████▉| 358kB 2.7MB/s eta 0:00:01\r",
      "\u001b[K     |████████████████████████████████| 368kB 2.7MB/s \n",
      "\u001b[?25hCollecting sentencepiece\n",
      "\u001b[?25l  Downloading https://files.pythonhosted.org/packages/14/3d/efb655a670b98f62ec32d66954e1109f403db4d937c50d779a75b9763a29/sentencepiece-0.1.83-cp36-cp36m-manylinux1_x86_64.whl (1.0MB)\n",
      "\r",
      "\u001b[K     |▎                               | 10kB 31.2MB/s eta 0:00:01\r",
      "\u001b[K     |▋                               | 20kB 40.0MB/s eta 0:00:01\r",
      "\u001b[K     |█                               | 30kB 49.1MB/s eta 0:00:01\r",
      "\u001b[K     |█▎                              | 40kB 55.1MB/s eta 0:00:01\r",
      "\u001b[K     |█▋                              | 51kB 58.2MB/s eta 0:00:01\r",
      "\u001b[K     |██                              | 61kB 61.7MB/s eta 0:00:01\r",
      "\u001b[K     |██▏                             | 71kB 63.9MB/s eta 0:00:01\r",
      "\u001b[K     |██▌                             | 81kB 65.7MB/s eta 0:00:01\r",
      "\u001b[K     |██▉                             | 92kB 66.6MB/s eta 0:00:01\r",
      "\u001b[K     |███▏                            | 102kB 68.4MB/s eta 0:00:01\r",
      "\u001b[K     |███▌                            | 112kB 68.4MB/s eta 0:00:01\r",
      "\u001b[K     |███▉                            | 122kB 68.4MB/s eta 0:00:01\r",
      "\u001b[K     |████                            | 133kB 68.4MB/s eta 0:00:01\r",
      "\u001b[K     |████▍                           | 143kB 68.4MB/s eta 0:00:01\r",
      "\u001b[K     |████▊                           | 153kB 68.4MB/s eta 0:00:01\r",
      "\u001b[K     |█████                           | 163kB 68.4MB/s eta 0:00:01\r",
      "\u001b[K     |█████▍                          | 174kB 68.4MB/s eta 0:00:01\r",
      "\u001b[K     |█████▊                          | 184kB 68.4MB/s eta 0:00:01\r",
      "\u001b[K     |██████                          | 194kB 68.4MB/s eta 0:00:01\r",
      "\u001b[K     |██████▎                         | 204kB 68.4MB/s eta 0:00:01\r",
      "\u001b[K     |██████▋                         | 215kB 68.4MB/s eta 0:00:01\r",
      "\u001b[K     |███████                         | 225kB 68.4MB/s eta 0:00:01\r",
      "\u001b[K     |███████▎                        | 235kB 68.4MB/s eta 0:00:01\r",
      "\u001b[K     |███████▋                        | 245kB 68.4MB/s eta 0:00:01\r",
      "\u001b[K     |███████▉                        | 256kB 68.4MB/s eta 0:00:01\r",
      "\u001b[K     |████████▏                       | 266kB 68.4MB/s eta 0:00:01\r",
      "\u001b[K     |████████▌                       | 276kB 68.4MB/s eta 0:00:01\r",
      "\u001b[K     |████████▉                       | 286kB 68.4MB/s eta 0:00:01\r",
      "\u001b[K     |█████████▏                      | 296kB 68.4MB/s eta 0:00:01\r",
      "\u001b[K     |█████████▌                      | 307kB 68.4MB/s eta 0:00:01\r",
      "\u001b[K     |█████████▊                      | 317kB 68.4MB/s eta 0:00:01\r",
      "\u001b[K     |██████████                      | 327kB 68.4MB/s eta 0:00:01\r",
      "\u001b[K     |██████████▍                     | 337kB 68.4MB/s eta 0:00:01\r",
      "\u001b[K     |██████████▊                     | 348kB 68.4MB/s eta 0:00:01\r",
      "\u001b[K     |███████████                     | 358kB 68.4MB/s eta 0:00:01\r",
      "\u001b[K     |███████████▍                    | 368kB 68.4MB/s eta 0:00:01\r",
      "\u001b[K     |███████████▋                    | 378kB 68.4MB/s eta 0:00:01\r",
      "\u001b[K     |████████████                    | 389kB 68.4MB/s eta 0:00:01\r",
      "\u001b[K     |████████████▎                   | 399kB 68.4MB/s eta 0:00:01\r",
      "\u001b[K     |████████████▋                   | 409kB 68.4MB/s eta 0:00:01\r",
      "\u001b[K     |█████████████                   | 419kB 68.4MB/s eta 0:00:01\r",
      "\u001b[K     |█████████████▎                  | 430kB 68.4MB/s eta 0:00:01\r",
      "\u001b[K     |█████████████▌                  | 440kB 68.4MB/s eta 0:00:01\r",
      "\u001b[K     |█████████████▉                  | 450kB 68.4MB/s eta 0:00:01\r",
      "\u001b[K     |██████████████▏                 | 460kB 68.4MB/s eta 0:00:01\r",
      "\u001b[K     |██████████████▌                 | 471kB 68.4MB/s eta 0:00:01\r",
      "\u001b[K     |██████████████▉                 | 481kB 68.4MB/s eta 0:00:01\r",
      "\u001b[K     |███████████████▏                | 491kB 68.4MB/s eta 0:00:01\r",
      "\u001b[K     |███████████████▍                | 501kB 68.4MB/s eta 0:00:01\r",
      "\u001b[K     |███████████████▊                | 512kB 68.4MB/s eta 0:00:01\r",
      "\u001b[K     |████████████████                | 522kB 68.4MB/s eta 0:00:01\r",
      "\u001b[K     |████████████████▍               | 532kB 68.4MB/s eta 0:00:01\r",
      "\u001b[K     |████████████████▊               | 542kB 68.4MB/s eta 0:00:01\r",
      "\u001b[K     |█████████████████               | 552kB 68.4MB/s eta 0:00:01\r",
      "\u001b[K     |█████████████████▎              | 563kB 68.4MB/s eta 0:00:01\r",
      "\u001b[K     |█████████████████▋              | 573kB 68.4MB/s eta 0:00:01\r",
      "\u001b[K     |██████████████████              | 583kB 68.4MB/s eta 0:00:01\r",
      "\u001b[K     |██████████████████▎             | 593kB 68.4MB/s eta 0:00:01\r",
      "\u001b[K     |██████████████████▋             | 604kB 68.4MB/s eta 0:00:01\r",
      "\u001b[K     |███████████████████             | 614kB 68.4MB/s eta 0:00:01\r",
      "\u001b[K     |███████████████████▏            | 624kB 68.4MB/s eta 0:00:01\r",
      "\u001b[K     |███████████████████▌            | 634kB 68.4MB/s eta 0:00:01\r",
      "\u001b[K     |███████████████████▉            | 645kB 68.4MB/s eta 0:00:01\r",
      "\u001b[K     |████████████████████▏           | 655kB 68.4MB/s eta 0:00:01\r",
      "\u001b[K     |████████████████████▌           | 665kB 68.4MB/s eta 0:00:01\r",
      "\u001b[K     |████████████████████▉           | 675kB 68.4MB/s eta 0:00:01\r",
      "\u001b[K     |█████████████████████▏          | 686kB 68.4MB/s eta 0:00:01\r",
      "\u001b[K     |█████████████████████▍          | 696kB 68.4MB/s eta 0:00:01\r",
      "\u001b[K     |█████████████████████▊          | 706kB 68.4MB/s eta 0:00:01\r",
      "\u001b[K     |██████████████████████          | 716kB 68.4MB/s eta 0:00:01\r",
      "\u001b[K     |██████████████████████▍         | 727kB 68.4MB/s eta 0:00:01\r",
      "\u001b[K     |██████████████████████▊         | 737kB 68.4MB/s eta 0:00:01\r",
      "\u001b[K     |███████████████████████         | 747kB 68.4MB/s eta 0:00:01\r",
      "\u001b[K     |███████████████████████▎        | 757kB 68.4MB/s eta 0:00:01\r",
      "\u001b[K     |███████████████████████▋        | 768kB 68.4MB/s eta 0:00:01\r",
      "\u001b[K     |████████████████████████        | 778kB 68.4MB/s eta 0:00:01\r",
      "\u001b[K     |████████████████████████▎       | 788kB 68.4MB/s eta 0:00:01\r",
      "\u001b[K     |████████████████████████▋       | 798kB 68.4MB/s eta 0:00:01\r",
      "\u001b[K     |█████████████████████████       | 808kB 68.4MB/s eta 0:00:01\r",
      "\u001b[K     |█████████████████████████▏      | 819kB 68.4MB/s eta 0:00:01\r",
      "\u001b[K     |█████████████████████████▌      | 829kB 68.4MB/s eta 0:00:01\r",
      "\u001b[K     |█████████████████████████▉      | 839kB 68.4MB/s eta 0:00:01\r",
      "\u001b[K     |██████████████████████████▏     | 849kB 68.4MB/s eta 0:00:01\r",
      "\u001b[K     |██████████████████████████▌     | 860kB 68.4MB/s eta 0:00:01\r",
      "\u001b[K     |██████████████████████████▉     | 870kB 68.4MB/s eta 0:00:01\r",
      "\u001b[K     |███████████████████████████     | 880kB 68.4MB/s eta 0:00:01\r",
      "\u001b[K     |███████████████████████████▍    | 890kB 68.4MB/s eta 0:00:01\r",
      "\u001b[K     |███████████████████████████▊    | 901kB 68.4MB/s eta 0:00:01\r",
      "\u001b[K     |████████████████████████████    | 911kB 68.4MB/s eta 0:00:01\r",
      "\u001b[K     |████████████████████████████▍   | 921kB 68.4MB/s eta 0:00:01\r",
      "\u001b[K     |████████████████████████████▊   | 931kB 68.4MB/s eta 0:00:01\r",
      "\u001b[K     |█████████████████████████████   | 942kB 68.4MB/s eta 0:00:01\r",
      "\u001b[K     |█████████████████████████████▎  | 952kB 68.4MB/s eta 0:00:01\r",
      "\u001b[K     |█████████████████████████████▋  | 962kB 68.4MB/s eta 0:00:01\r",
      "\u001b[K     |██████████████████████████████  | 972kB 68.4MB/s eta 0:00:01\r",
      "\u001b[K     |██████████████████████████████▎ | 983kB 68.4MB/s eta 0:00:01\r",
      "\u001b[K     |██████████████████████████████▋ | 993kB 68.4MB/s eta 0:00:01\r",
      "\u001b[K     |██████████████████████████████▉ | 1.0MB 68.4MB/s eta 0:00:01\r",
      "\u001b[K     |███████████████████████████████▏| 1.0MB 68.4MB/s eta 0:00:01\r",
      "\u001b[K     |███████████████████████████████▌| 1.0MB 68.4MB/s eta 0:00:01\r",
      "\u001b[K     |███████████████████████████████▉| 1.0MB 68.4MB/s eta 0:00:01\r",
      "\u001b[K     |████████████████████████████████| 1.0MB 68.4MB/s \n",
      "\u001b[?25hRequirement already satisfied: requests in /usr/local/lib/python3.6/dist-packages (from transformers) (2.21.0)\n",
      "Collecting sacremoses\n",
      "\u001b[?25l  Downloading https://files.pythonhosted.org/packages/1f/8e/ed5364a06a9ba720fddd9820155cc57300d28f5f43a6fd7b7e817177e642/sacremoses-0.0.35.tar.gz (859kB)\n",
      "\r",
      "\u001b[K     |▍                               | 10kB 23.6MB/s eta 0:00:01\r",
      "\u001b[K     |▊                               | 20kB 30.8MB/s eta 0:00:01\r",
      "\u001b[K     |█▏                              | 30kB 37.4MB/s eta 0:00:01\r",
      "\u001b[K     |█▌                              | 40kB 42.0MB/s eta 0:00:01\r",
      "\u001b[K     |██                              | 51kB 42.5MB/s eta 0:00:01\r",
      "\u001b[K     |██▎                             | 61kB 45.0MB/s eta 0:00:01\r",
      "\u001b[K     |██▊                             | 71kB 42.6MB/s eta 0:00:01\r",
      "\u001b[K     |███                             | 81kB 44.9MB/s eta 0:00:01\r",
      "\u001b[K     |███▍                            | 92kB 45.7MB/s eta 0:00:01\r",
      "\u001b[K     |███▉                            | 102kB 47.1MB/s eta 0:00:01\r",
      "\u001b[K     |████▏                           | 112kB 47.1MB/s eta 0:00:01\r",
      "\u001b[K     |████▋                           | 122kB 47.1MB/s eta 0:00:01\r",
      "\u001b[K     |█████                           | 133kB 47.1MB/s eta 0:00:01\r",
      "\u001b[K     |█████▍                          | 143kB 47.1MB/s eta 0:00:01\r",
      "\u001b[K     |█████▊                          | 153kB 47.1MB/s eta 0:00:01\r",
      "\u001b[K     |██████                          | 163kB 47.1MB/s eta 0:00:01\r",
      "\u001b[K     |██████▌                         | 174kB 47.1MB/s eta 0:00:01\r",
      "\u001b[K     |██████▉                         | 184kB 47.1MB/s eta 0:00:01\r",
      "\u001b[K     |███████▎                        | 194kB 47.1MB/s eta 0:00:01\r",
      "\u001b[K     |███████▋                        | 204kB 47.1MB/s eta 0:00:01\r",
      "\u001b[K     |████████                        | 215kB 47.1MB/s eta 0:00:01\r",
      "\u001b[K     |████████▍                       | 225kB 47.1MB/s eta 0:00:01\r",
      "\u001b[K     |████████▊                       | 235kB 47.1MB/s eta 0:00:01\r",
      "\u001b[K     |█████████▏                      | 245kB 47.1MB/s eta 0:00:01\r",
      "\u001b[K     |█████████▌                      | 256kB 47.1MB/s eta 0:00:01\r",
      "\u001b[K     |██████████                      | 266kB 47.1MB/s eta 0:00:01\r",
      "\u001b[K     |██████████▎                     | 276kB 47.1MB/s eta 0:00:01\r",
      "\u001b[K     |██████████▊                     | 286kB 47.1MB/s eta 0:00:01\r",
      "\u001b[K     |███████████                     | 296kB 47.1MB/s eta 0:00:01\r",
      "\u001b[K     |███████████▍                    | 307kB 47.1MB/s eta 0:00:01\r",
      "\u001b[K     |███████████▉                    | 317kB 47.1MB/s eta 0:00:01\r",
      "\u001b[K     |████████████▏                   | 327kB 47.1MB/s eta 0:00:01\r",
      "\u001b[K     |████████████▋                   | 337kB 47.1MB/s eta 0:00:01\r",
      "\u001b[K     |█████████████                   | 348kB 47.1MB/s eta 0:00:01\r",
      "\u001b[K     |█████████████▍                  | 358kB 47.1MB/s eta 0:00:01\r",
      "\u001b[K     |█████████████▊                  | 368kB 47.1MB/s eta 0:00:01\r",
      "\u001b[K     |██████████████                  | 378kB 47.1MB/s eta 0:00:01\r",
      "\u001b[K     |██████████████▌                 | 389kB 47.1MB/s eta 0:00:01\r",
      "\u001b[K     |██████████████▉                 | 399kB 47.1MB/s eta 0:00:01\r",
      "\u001b[K     |███████████████▎                | 409kB 47.1MB/s eta 0:00:01\r",
      "\u001b[K     |███████████████▋                | 419kB 47.1MB/s eta 0:00:01\r",
      "\u001b[K     |████████████████                | 430kB 47.1MB/s eta 0:00:01\r",
      "\u001b[K     |████████████████▍               | 440kB 47.1MB/s eta 0:00:01\r",
      "\u001b[K     |████████████████▊               | 450kB 47.1MB/s eta 0:00:01\r",
      "\u001b[K     |█████████████████▏              | 460kB 47.1MB/s eta 0:00:01\r",
      "\u001b[K     |█████████████████▌              | 471kB 47.1MB/s eta 0:00:01\r",
      "\u001b[K     |██████████████████              | 481kB 47.1MB/s eta 0:00:01\r",
      "\u001b[K     |██████████████████▎             | 491kB 47.1MB/s eta 0:00:01\r",
      "\u001b[K     |██████████████████▊             | 501kB 47.1MB/s eta 0:00:01\r",
      "\u001b[K     |███████████████████             | 512kB 47.1MB/s eta 0:00:01\r",
      "\u001b[K     |███████████████████▍            | 522kB 47.1MB/s eta 0:00:01\r",
      "\u001b[K     |███████████████████▉            | 532kB 47.1MB/s eta 0:00:01\r",
      "\u001b[K     |████████████████████▏           | 542kB 47.1MB/s eta 0:00:01\r",
      "\u001b[K     |████████████████████▋           | 552kB 47.1MB/s eta 0:00:01\r",
      "\u001b[K     |█████████████████████           | 563kB 47.1MB/s eta 0:00:01\r",
      "\u001b[K     |█████████████████████▍          | 573kB 47.1MB/s eta 0:00:01\r",
      "\u001b[K     |█████████████████████▊          | 583kB 47.1MB/s eta 0:00:01\r",
      "\u001b[K     |██████████████████████          | 593kB 47.1MB/s eta 0:00:01\r",
      "\u001b[K     |██████████████████████▌         | 604kB 47.1MB/s eta 0:00:01\r",
      "\u001b[K     |██████████████████████▉         | 614kB 47.1MB/s eta 0:00:01\r",
      "\u001b[K     |███████████████████████▎        | 624kB 47.1MB/s eta 0:00:01\r",
      "\u001b[K     |███████████████████████▋        | 634kB 47.1MB/s eta 0:00:01\r",
      "\u001b[K     |████████████████████████        | 645kB 47.1MB/s eta 0:00:01\r",
      "\u001b[K     |████████████████████████▍       | 655kB 47.1MB/s eta 0:00:01\r",
      "\u001b[K     |████████████████████████▊       | 665kB 47.1MB/s eta 0:00:01\r",
      "\u001b[K     |█████████████████████████▏      | 675kB 47.1MB/s eta 0:00:01\r",
      "\u001b[K     |█████████████████████████▌      | 686kB 47.1MB/s eta 0:00:01\r",
      "\u001b[K     |██████████████████████████      | 696kB 47.1MB/s eta 0:00:01\r",
      "\u001b[K     |██████████████████████████▎     | 706kB 47.1MB/s eta 0:00:01\r",
      "\u001b[K     |██████████████████████████▊     | 716kB 47.1MB/s eta 0:00:01\r",
      "\u001b[K     |███████████████████████████     | 727kB 47.1MB/s eta 0:00:01\r",
      "\u001b[K     |███████████████████████████▍    | 737kB 47.1MB/s eta 0:00:01\r",
      "\u001b[K     |███████████████████████████▉    | 747kB 47.1MB/s eta 0:00:01\r",
      "\u001b[K     |████████████████████████████▏   | 757kB 47.1MB/s eta 0:00:01\r",
      "\u001b[K     |████████████████████████████▋   | 768kB 47.1MB/s eta 0:00:01\r",
      "\u001b[K     |█████████████████████████████   | 778kB 47.1MB/s eta 0:00:01\r",
      "\u001b[K     |█████████████████████████████▍  | 788kB 47.1MB/s eta 0:00:01\r",
      "\u001b[K     |█████████████████████████████▊  | 798kB 47.1MB/s eta 0:00:01\r",
      "\u001b[K     |██████████████████████████████  | 808kB 47.1MB/s eta 0:00:01\r",
      "\u001b[K     |██████████████████████████████▌ | 819kB 47.1MB/s eta 0:00:01\r",
      "\u001b[K     |██████████████████████████████▉ | 829kB 47.1MB/s eta 0:00:01\r",
      "\u001b[K     |███████████████████████████████▎| 839kB 47.1MB/s eta 0:00:01\r",
      "\u001b[K     |███████████████████████████████▋| 849kB 47.1MB/s eta 0:00:01\r",
      "\u001b[K     |████████████████████████████████| 860kB 47.1MB/s \n",
      "\u001b[?25hRequirement already satisfied: boto3 in /usr/local/lib/python3.6/dist-packages (from transformers) (1.10.18)\n",
      "Requirement already satisfied: tqdm in /usr/local/lib/python3.6/dist-packages (from transformers) (4.28.1)\n",
      "Collecting regex\n",
      "\u001b[?25l  Downloading https://files.pythonhosted.org/packages/e3/8e/cbf2295643d7265e7883326fb4654e643bfc93b3a8a8274d8010a39d8804/regex-2019.11.1-cp36-cp36m-manylinux1_x86_64.whl (643kB)\n",
      "\u001b[K     |████████████████████████████████| 645kB 44.1MB/s \n",
      "\u001b[?25hRequirement already satisfied: numpy in /usr/local/lib/python3.6/dist-packages (from transformers) (1.17.4)\n",
      "Requirement already satisfied: chardet<3.1.0,>=3.0.2 in /usr/local/lib/python3.6/dist-packages (from requests->transformers) (3.0.4)\n",
      "Requirement already satisfied: idna<2.9,>=2.5 in /usr/local/lib/python3.6/dist-packages (from requests->transformers) (2.8)\n",
      "Requirement already satisfied: certifi>=2017.4.17 in /usr/local/lib/python3.6/dist-packages (from requests->transformers) (2019.9.11)\n",
      "Requirement already satisfied: urllib3<1.25,>=1.21.1 in /usr/local/lib/python3.6/dist-packages (from requests->transformers) (1.24.3)\n",
      "Requirement already satisfied: six in /usr/local/lib/python3.6/dist-packages (from sacremoses->transformers) (1.12.0)\n",
      "Requirement already satisfied: click in /usr/local/lib/python3.6/dist-packages (from sacremoses->transformers) (7.0)\n",
      "Requirement already satisfied: joblib in /usr/local/lib/python3.6/dist-packages (from sacremoses->transformers) (0.14.0)\n",
      "Requirement already satisfied: s3transfer<0.3.0,>=0.2.0 in /usr/local/lib/python3.6/dist-packages (from boto3->transformers) (0.2.1)\n",
      "Requirement already satisfied: jmespath<1.0.0,>=0.7.1 in /usr/local/lib/python3.6/dist-packages (from boto3->transformers) (0.9.4)\n",
      "Requirement already satisfied: botocore<1.14.0,>=1.13.18 in /usr/local/lib/python3.6/dist-packages (from boto3->transformers) (1.13.18)\n",
      "Requirement already satisfied: docutils<0.16,>=0.10 in /usr/local/lib/python3.6/dist-packages (from botocore<1.14.0,>=1.13.18->boto3->transformers) (0.15.2)\n",
      "Requirement already satisfied: python-dateutil<2.8.1,>=2.1; python_version >= \"2.7\" in /usr/local/lib/python3.6/dist-packages (from botocore<1.14.0,>=1.13.18->boto3->transformers) (2.6.1)\n",
      "Building wheels for collected packages: sacremoses\n",
      "  Building wheel for sacremoses (setup.py) ... \u001b[?25l\u001b[?25hdone\n",
      "  Created wheel for sacremoses: filename=sacremoses-0.0.35-cp36-none-any.whl size=883999 sha256=ee266b896c9dd71195ad91603017be2317ad68525a899b5b28b21865606d3f95\n",
      "  Stored in directory: /root/.cache/pip/wheels/63/2a/db/63e2909042c634ef551d0d9ac825b2b0b32dede4a6d87ddc94\n",
      "Successfully built sacremoses\n",
      "Installing collected packages: sentencepiece, sacremoses, regex, transformers\n",
      "Successfully installed regex-2019.11.1 sacremoses-0.0.35 sentencepiece-0.1.83 transformers-2.2.0\n"
     ]
    }
   ],
   "source": [
    "pip install transformers"
   ]
  },
  {
   "cell_type": "code",
   "execution_count": 3,
   "metadata": {
    "colab": {
     "base_uri": "https://localhost:8080/",
     "height": 34
    },
    "colab_type": "code",
    "executionInfo": {
     "elapsed": 4120,
     "status": "ok",
     "timestamp": 1575196750248,
     "user": {
      "displayName": "arpana alka",
      "photoUrl": "",
      "userId": "00941466105270682854"
     },
     "user_tz": -330
    },
    "id": "ecEdcodnf7Qq",
    "outputId": "46c3ac7c-7b67-4e99-ffc8-0b769f80fe7b"
   },
   "outputs": [
    {
     "name": "stderr",
     "output_type": "stream",
     "text": [
      "Using TensorFlow backend.\n"
     ]
    }
   ],
   "source": [
    "import torch\n",
    "from torch.utils.data import TensorDataset, DataLoader, RandomSampler, SequentialSampler\n",
    "from keras.preprocessing.sequence import pad_sequences\n",
    "from sklearn.model_selection import train_test_split\n",
    "from transformers import DistilBertTokenizer, DistilBertConfig\n",
    "from transformers import AdamW, DistilBertForSequenceClassification\n",
    "from tqdm import tqdm, trange\n",
    "import pandas as pd\n",
    "import io\n",
    "import numpy as np\n",
    "import matplotlib.pyplot as plt\n",
    "% matplotlib inline"
   ]
  },
  {
   "cell_type": "code",
   "execution_count": 4,
   "metadata": {
    "colab": {
     "base_uri": "https://localhost:8080/",
     "height": 34
    },
    "colab_type": "code",
    "executionInfo": {
     "elapsed": 2311,
     "status": "ok",
     "timestamp": 1575196756655,
     "user": {
      "displayName": "arpana alka",
      "photoUrl": "",
      "userId": "00941466105270682854"
     },
     "user_tz": -330
    },
    "id": "aIv90vTvf-bk",
    "outputId": "adca8ae6-a9f9-4bd4-9b2c-e56a4ed76cf6"
   },
   "outputs": [
    {
     "data": {
      "text/plain": [
       "'Tesla P100-PCIE-16GB'"
      ]
     },
     "execution_count": 4,
     "metadata": {
      "tags": []
     },
     "output_type": "execute_result"
    }
   ],
   "source": [
    "device = torch.device(\"cuda\" if torch.cuda.is_available() else \"cpu\")\n",
    "n_gpu = torch.cuda.device_count()\n",
    "torch.cuda.get_device_name(0)"
   ]
  },
  {
   "cell_type": "code",
   "execution_count": 0,
   "metadata": {
    "colab": {
     "base_uri": "https://localhost:8080/",
     "height": 74,
     "resources": {
      "http://localhost:8080/nbextensions/google.colab/files.js": {
       "data": "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",
       "headers": [
        [
         "content-type",
         "application/javascript"
        ]
       ],
       "ok": true,
       "status": 200,
       "status_text": ""
      }
     }
    },
    "colab_type": "code",
    "executionInfo": {
     "elapsed": 269032,
     "status": "ok",
     "timestamp": 1575130588928,
     "user": {
      "displayName": "arpana alka",
      "photoUrl": "",
      "userId": "00941466105270682854"
     },
     "user_tz": -330
    },
    "id": "FJMi8LN7gACF",
    "outputId": "467d46e9-3363-458b-bf2d-575a3a7958a6"
   },
   "outputs": [
    {
     "data": {
      "text/html": [
       "\n",
       "     <input type=\"file\" id=\"files-d52440bc-de09-478c-8a68-d1358f102170\" name=\"files[]\" multiple disabled />\n",
       "     <output id=\"result-d52440bc-de09-478c-8a68-d1358f102170\">\n",
       "      Upload widget is only available when the cell has been executed in the\n",
       "      current browser session. Please rerun this cell to enable.\n",
       "      </output>\n",
       "      <script src=\"/nbextensions/google.colab/files.js\"></script> "
      ],
      "text/plain": [
       "<IPython.core.display.HTML object>"
      ]
     },
     "metadata": {
      "tags": []
     },
     "output_type": "display_data"
    },
    {
     "name": "stdout",
     "output_type": "stream",
     "text": [
      "Saving data.csv to data.csv\n"
     ]
    }
   ],
   "source": [
    "# Upload the train file from your local drive\n",
    "# from google.colab import files\n",
    "# uploaded = files.upload()"
   ]
  },
  {
   "cell_type": "code",
   "execution_count": 5,
   "metadata": {
    "colab": {
     "base_uri": "https://localhost:8080/",
     "height": 139
    },
    "colab_type": "code",
    "executionInfo": {
     "elapsed": 30761,
     "status": "ok",
     "timestamp": 1575196789317,
     "user": {
      "displayName": "arpana alka",
      "photoUrl": "",
      "userId": "00941466105270682854"
     },
     "user_tz": -330
    },
    "id": "J5IqwI79e8pS",
    "outputId": "9a91c28e-c66a-49bb-b675-16831242bb9a"
   },
   "outputs": [
    {
     "name": "stdout",
     "output_type": "stream",
     "text": [
      "Go to this URL in a browser: https://accounts.google.com/o/oauth2/auth?client_id=947318989803-6bn6qk8qdgf4n4g3pfee6491hc0brc4i.apps.googleusercontent.com&redirect_uri=urn%3aietf%3awg%3aoauth%3a2.0%3aoob&response_type=code&scope=email%20https%3a%2f%2fwww.googleapis.com%2fauth%2fdocs.test%20https%3a%2f%2fwww.googleapis.com%2fauth%2fdrive%20https%3a%2f%2fwww.googleapis.com%2fauth%2fdrive.photos.readonly%20https%3a%2f%2fwww.googleapis.com%2fauth%2fpeopleapi.readonly\n",
      "\n",
      "Enter your authorization code:\n",
      "··········\n",
      "Mounted at /gdrive/\n",
      "/gdrive\n"
     ]
    }
   ],
   "source": [
    "from google.colab import drive\n",
    "drive.mount('/gdrive/')\n",
    "%cd /gdrive"
   ]
  },
  {
   "cell_type": "code",
   "execution_count": 0,
   "metadata": {
    "colab": {},
    "colab_type": "code",
    "id": "RP4r9t9EgDhQ"
   },
   "outputs": [],
   "source": [
    "# data = pd.read_csv('data.csv')\n",
    "data = pd.read_csv('My Drive/Colab Notebooks/data.csv')"
   ]
  },
  {
   "cell_type": "code",
   "execution_count": 7,
   "metadata": {
    "colab": {
     "base_uri": "https://localhost:8080/",
     "height": 359
    },
    "colab_type": "code",
    "executionInfo": {
     "elapsed": 1304,
     "status": "ok",
     "timestamp": 1575196808184,
     "user": {
      "displayName": "arpana alka",
      "photoUrl": "",
      "userId": "00941466105270682854"
     },
     "user_tz": -330
    },
    "id": "pzzlopIEihAR",
    "outputId": "60817ebf-83e9-47bf-cf73-1c2cc886909f"
   },
   "outputs": [
    {
     "data": {
      "text/html": [
       "<div>\n",
       "<style scoped>\n",
       "    .dataframe tbody tr th:only-of-type {\n",
       "        vertical-align: middle;\n",
       "    }\n",
       "\n",
       "    .dataframe tbody tr th {\n",
       "        vertical-align: top;\n",
       "    }\n",
       "\n",
       "    .dataframe thead th {\n",
       "        text-align: right;\n",
       "    }\n",
       "</style>\n",
       "<table border=\"1\" class=\"dataframe\">\n",
       "  <thead>\n",
       "    <tr style=\"text-align: right;\">\n",
       "      <th></th>\n",
       "      <th>label</th>\n",
       "      <th>sentence</th>\n",
       "    </tr>\n",
       "  </thead>\n",
       "  <tbody>\n",
       "    <tr>\n",
       "      <th>60437</th>\n",
       "      <td>4</td>\n",
       "      <td>Originality confirm by APPLE Most reliable ele...</td>\n",
       "    </tr>\n",
       "    <tr>\n",
       "      <th>16015</th>\n",
       "      <td>4</td>\n",
       "      <td>jio tv,netflix not supported.kindly improve in...</td>\n",
       "    </tr>\n",
       "    <tr>\n",
       "      <th>28787</th>\n",
       "      <td>0</td>\n",
       "      <td>Performance is not good as configuration</td>\n",
       "    </tr>\n",
       "    <tr>\n",
       "      <th>48506</th>\n",
       "      <td>4</td>\n",
       "      <td>Front camera is awesome, realme gives you a pr...</td>\n",
       "    </tr>\n",
       "    <tr>\n",
       "      <th>32508</th>\n",
       "      <td>0</td>\n",
       "      <td>Performance Very worst,Touch is not working an...</td>\n",
       "    </tr>\n",
       "    <tr>\n",
       "      <th>26344</th>\n",
       "      <td>4</td>\n",
       "      <td>It's perfect</td>\n",
       "    </tr>\n",
       "    <tr>\n",
       "      <th>55160</th>\n",
       "      <td>0</td>\n",
       "      <td>1. Battery life is not as good as 6000 mah. It...</td>\n",
       "    </tr>\n",
       "    <tr>\n",
       "      <th>20439</th>\n",
       "      <td>4</td>\n",
       "      <td>Excellent Finishing...Fast Charging...weightle...</td>\n",
       "    </tr>\n",
       "    <tr>\n",
       "      <th>22740</th>\n",
       "      <td>3</td>\n",
       "      <td>First of all for all of those who will take my...</td>\n",
       "    </tr>\n",
       "    <tr>\n",
       "      <th>27570</th>\n",
       "      <td>4</td>\n",
       "      <td>Wonderful .. I love it</td>\n",
       "    </tr>\n",
       "  </tbody>\n",
       "</table>\n",
       "</div>"
      ],
      "text/plain": [
       "       label                                           sentence\n",
       "60437      4  Originality confirm by APPLE Most reliable ele...\n",
       "16015      4  jio tv,netflix not supported.kindly improve in...\n",
       "28787      0           Performance is not good as configuration\n",
       "48506      4  Front camera is awesome, realme gives you a pr...\n",
       "32508      0  Performance Very worst,Touch is not working an...\n",
       "26344      4                                       It's perfect\n",
       "55160      0  1. Battery life is not as good as 6000 mah. It...\n",
       "20439      4  Excellent Finishing...Fast Charging...weightle...\n",
       "22740      3  First of all for all of those who will take my...\n",
       "27570      4                             Wonderful .. I love it"
      ]
     },
     "execution_count": 7,
     "metadata": {
      "tags": []
     },
     "output_type": "execute_result"
    }
   ],
   "source": [
    "df = data[['Rating','Review_text']].rename(columns={'Rating': 'label', 'Review_text': 'sentence'})\n",
    "df.label = df.label.astype(int)\n",
    "df.label = df.label - 1\n",
    "df = df.dropna()\n",
    "\n",
    "# df = df.head(1000)\n",
    "df.sample(10)"
   ]
  },
  {
   "cell_type": "markdown",
   "metadata": {
    "colab_type": "text",
    "id": "SNmg8bZBuYXO"
   },
   "source": [
    "## Hyperparameters values as below\n",
    "1. MAX_LEN = 128\n",
    "2. learning_rate = 2e-5\n",
    "3. batch_size = 32\n",
    "4. epochs = 2\n",
    "\n",
    "##### Select a batch size for training. For fine-tuning on a specific task, recommend batch size is 16 or 32\n",
    "##### Number of training epochs (recommend between 2 and 4)"
   ]
  },
  {
   "cell_type": "code",
   "execution_count": 0,
   "metadata": {
    "colab": {},
    "colab_type": "code",
    "id": "DiO6sbA8uwIb"
   },
   "outputs": [],
   "source": [
    "MAX_LEN = 128\n",
    "learning_rate = 2e-5\n",
    "batch_size = 32\n",
    "epochs = 2"
   ]
  },
  {
   "cell_type": "code",
   "execution_count": 9,
   "metadata": {
    "colab": {
     "base_uri": "https://localhost:8080/",
     "height": 153
    },
    "colab_type": "code",
    "executionInfo": {
     "elapsed": 104854,
     "status": "ok",
     "timestamp": 1575176847040,
     "user": {
      "displayName": "arpana alka",
      "photoUrl": "",
      "userId": "00941466105270682854"
     },
     "user_tz": -330
    },
    "id": "hn7wy-tBoaCM",
    "outputId": "dd78baba-1896-4db8-c304-d415fc2e7f11"
   },
   "outputs": [
    {
     "name": "stderr",
     "output_type": "stream",
     "text": [
      "100%|██████████| 231508/231508 [00:00<00:00, 425656.91B/s]\n"
     ]
    },
    {
     "name": "stdout",
     "output_type": "stream",
     "text": [
      "Tokenize the first sentence:\n",
      "['[CLS]', 'i', 'liked', 'it', '[SEP]']\n",
      "total sentences are: 58322\n",
      "Tokenize the first sentence:\n",
      "['[CLS]', 'i', 'liked', 'it', '[SEP]']\n"
     ]
    },
    {
     "name": "stderr",
     "output_type": "stream",
     "text": [
      "100%|██████████| 492/492 [00:00<00:00, 120890.31B/s]\n",
      "100%|██████████| 267967963/267967963 [00:24<00:00, 10962329.94B/s]\n"
     ]
    }
   ],
   "source": [
    "# Create sentence and label lists\n",
    "sentences_actual = df.sentence.values\n",
    "\n",
    "# We need to add special tokens at the beginning and end of each sentence for BERT to work properly\n",
    "sentences_actual = [\"[CLS] \" + sentences_actual + \" [SEP]\" for sentences_actual in sentences_actual]\n",
    "labels_actual = df.label.values\n",
    "\n",
    "tokenizer = DistilBertTokenizer.from_pretrained('distilbert-base-uncased', do_lower_case=True)\n",
    "tokenized_texts = [tokenizer.tokenize(sent) for sent in sentences_actual]\n",
    "print (\"Tokenize the first sentence:\")\n",
    "print (tokenized_texts[0])\n",
    "\n",
    "index = []\n",
    "for i,x in enumerate(tokenized_texts):\n",
    "    if len(x)<MAX_LEN:\n",
    "        index.append(i)\n",
    "sentences = []\n",
    "labels=[]\n",
    "for i in index:\n",
    "   sentences.append(sentences_actual[i]) \n",
    "   labels.append(labels_actual[i])\n",
    "print('total sentences are:',len(sentences))\n",
    "\n",
    "tokenizer = DistilBertTokenizer.from_pretrained('distilbert-base-uncased', do_lower_case=True)\n",
    "tokenized_texts = [tokenizer.tokenize(sent) for sent in sentences]\n",
    "print (\"Tokenize the first sentence:\")\n",
    "print (tokenized_texts[0])\n",
    "\n",
    "input_ids = [tokenizer.convert_tokens_to_ids(x) for x in tokenized_texts]\n",
    "# Pad our input tokens\n",
    "input_ids = pad_sequences(input_ids, maxlen=MAX_LEN, dtype=\"long\", truncating=\"post\", padding=\"post\")\n",
    "\n",
    "# Create attention masks\n",
    "attention_masks = []\n",
    "# Create a mask of 1s for each token followed by 0s for padding\n",
    "for seq in input_ids:\n",
    "  seq_mask = [float(i>0) for i in seq]\n",
    "  attention_masks.append(seq_mask)\n",
    "\n",
    "# Use train_test_split to split our data into train and validation sets for training\n",
    "train_inputs, validation_inputs, train_labels, validation_labels = train_test_split(input_ids, labels, \n",
    "                                                            random_state=2018, test_size=0.1)\n",
    "train_masks, validation_masks, _, _ = train_test_split(attention_masks, input_ids,\n",
    "                                             random_state=2018, test_size=0.1)\n",
    "\n",
    "# Convert all of our data into torch tensors, the required datatype for our model\n",
    "train_inputs = torch.tensor(train_inputs)\n",
    "validation_inputs = torch.tensor(validation_inputs)\n",
    "train_labels = torch.tensor(train_labels)\n",
    "validation_labels = torch.tensor(validation_labels)\n",
    "train_masks = torch.tensor(train_masks)\n",
    "validation_masks = torch.tensor(validation_masks)\n",
    "\n",
    "# Create an iterator of our data with torch DataLoader. This helps save on memory during training because, unlike a for loop, \n",
    "# with an iterator the entire dataset does not need to be loaded into memory\n",
    "\n",
    "train_data = TensorDataset(train_inputs, train_masks, train_labels)\n",
    "train_sampler = RandomSampler(train_data)\n",
    "train_dataloader = DataLoader(train_data, sampler=train_sampler, batch_size=batch_size)\n",
    "\n",
    "validation_data = TensorDataset(validation_inputs, validation_masks, validation_labels)\n",
    "validation_sampler = SequentialSampler(validation_data)\n",
    "validation_dataloader = DataLoader(validation_data, sampler=validation_sampler, batch_size=batch_size)\n",
    "\n",
    "\n",
    "# Load BertForSequenceClassification, the pretrained BERT model with a single linear classification layer on top. \n",
    "model = DistilBertForSequenceClassification.from_pretrained(\"distilbert-base-uncased\", num_labels=5)\n",
    "model.cuda()\n",
    "\n",
    "param_optimizer = list(model.named_parameters())\n",
    "no_decay = ['bias', 'gamma', 'beta']\n",
    "optimizer_grouped_parameters = [\n",
    "    {'params': [p for n, p in param_optimizer if not any(nd in n for nd in no_decay)],\n",
    "     'weight_decay_rate': 0.01},\n",
    "    {'params': [p for n, p in param_optimizer if any(nd in n for nd in no_decay)],\n",
    "     'weight_decay_rate': 0.0}\n",
    "]\n",
    "\n",
    "\n",
    "# This variable contains all of the hyperparemeter information our training loop needs\n",
    "optimizer = AdamW(optimizer_grouped_parameters,\n",
    "                     lr=learning_rate,\n",
    "                     )\n",
    "\n",
    "\n",
    "# Function to calculate the accuracy of our predictions vs labels\n",
    "def flat_accuracy(preds, labels):\n",
    "    pred_flat = np.argmax(preds, axis=1).flatten()\n",
    "    labels_flat = labels.flatten()\n",
    "    return np.sum(pred_flat == labels_flat) / len(labels_flat)"
   ]
  },
  {
   "cell_type": "code",
   "execution_count": 10,
   "metadata": {
    "colab": {
     "base_uri": "https://localhost:8080/",
     "height": 598
    },
    "colab_type": "code",
    "executionInfo": {
     "elapsed": 2342202,
     "status": "ok",
     "timestamp": 1575179089449,
     "user": {
      "displayName": "arpana alka",
      "photoUrl": "",
      "userId": "00941466105270682854"
     },
     "user_tz": -330
    },
    "id": "EVKDWGvYp3T4",
    "outputId": "17d89205-ab2f-4b65-a099-0454e982fdf4"
   },
   "outputs": [
    {
     "name": "stderr",
     "output_type": "stream",
     "text": [
      "\r",
      "Epoch:   0%|          | 0/2 [00:00<?, ?it/s]"
     ]
    },
    {
     "name": "stdout",
     "output_type": "stream",
     "text": [
      "Train loss: 0.8464226722717285\n"
     ]
    },
    {
     "name": "stderr",
     "output_type": "stream",
     "text": [
      "\r",
      "Epoch:  50%|█████     | 1/2 [18:42<18:42, 1122.59s/it]"
     ]
    },
    {
     "name": "stdout",
     "output_type": "stream",
     "text": [
      "Validation Accuracy: 0.684672890103218\n",
      "Train loss: 0.7657676339149475\n"
     ]
    },
    {
     "name": "stderr",
     "output_type": "stream",
     "text": [
      "\r",
      "Epoch: 100%|██████████| 2/2 [37:22<00:00, 1121.64s/it]"
     ]
    },
    {
     "name": "stdout",
     "output_type": "stream",
     "text": [
      "Validation Accuracy: 0.6843313600485732\n"
     ]
    },
    {
     "name": "stderr",
     "output_type": "stream",
     "text": [
      "\n"
     ]
    },
    {
     "data": {
      "image/png": "[encoded data removed]",
      "text/plain": [
       "<Figure size 1080x576 with 1 Axes>"
      ]
     },
     "metadata": {
      "tags": []
     },
     "output_type": "display_data"
    }
   ],
   "source": [
    "# Store our loss and accuracy for plotting\n",
    "train_loss_set = []\n",
    "\n",
    "# trange is a tqdm wrapper around the normal python range\n",
    "for _ in trange(epochs, desc=\"Epoch\"):\n",
    "  # Training\n",
    "  \n",
    "  # Set our model to training mode (as opposed to evaluation mode)\n",
    "  model.train()\n",
    "  \n",
    "  # Tracking variables\n",
    "  tr_loss = 0\n",
    "  nb_tr_examples, nb_tr_steps = 0, 0\n",
    "  \n",
    "  # Train the data for one epoch\n",
    "  for step, batch in enumerate(train_dataloader):\n",
    "    # Add batch to GPU\n",
    "    batch = tuple(t.to(device) for t in batch)\n",
    "    # Unpack the inputs from our dataloader\n",
    "    b_input_ids, b_input_mask, b_labels = batch\n",
    "    # Clear out the gradients (by default they accumulate)\n",
    "    optimizer.zero_grad()\n",
    "    # Forward pass\n",
    "    loss = model(b_input_ids,  attention_mask=b_input_mask, labels=b_labels)\n",
    "\n",
    "    train_loss_set.append(loss[0])    \n",
    "    # # Backward pass\n",
    "    loss[0].backward()\n",
    "    # Update parameters and take a step using the computed gradient\n",
    "    optimizer.step()\n",
    "    \n",
    "    \n",
    "    # Update tracking variables\n",
    "    tr_loss += loss[0]\n",
    "    nb_tr_examples += b_input_ids.size(0)\n",
    "    nb_tr_steps += 1\n",
    "\n",
    "  print(\"Train loss: {}\".format(tr_loss/nb_tr_steps))\n",
    "    \n",
    "    \n",
    "  # Validation\n",
    "\n",
    "  # Put model in evaluation mode to evaluate loss on the validation set\n",
    "  model.eval()\n",
    "\n",
    "  # Tracking variables \n",
    "  eval_loss, eval_accuracy = 0, 0\n",
    "  nb_eval_steps, nb_eval_examples = 0, 0\n",
    "\n",
    "  # Evaluate data for one epoch\n",
    "  for batch in validation_dataloader:\n",
    "    # Add batch to GPU\n",
    "    batch = tuple(t.to(device) for t in batch)\n",
    "    # Unpack the inputs from our dataloader\n",
    "    b_input_ids, b_input_mask, b_labels = batch\n",
    "    # Telling the model not to compute or store gradients, saving memory and speeding up validation\n",
    "    with torch.no_grad():\n",
    "      # Forward pass, calculate logit predictions\n",
    "      logits = model(b_input_ids,  attention_mask=b_input_mask)[0]\n",
    "     \n",
    "    # Move logits and labels to CPU\n",
    "    logits = logits.detach().cpu().numpy()\n",
    "    label_ids = b_labels.to('cpu').numpy()\n",
    "\n",
    "    tmp_eval_accuracy = flat_accuracy(logits, label_ids)\n",
    "    \n",
    "    eval_accuracy += tmp_eval_accuracy\n",
    "    nb_eval_steps += 1\n",
    "\n",
    "  print(\"Validation Accuracy: {}\".format(eval_accuracy/nb_eval_steps))\n",
    "\n",
    "plt.figure(figsize=(15,8))\n",
    "plt.title(\"Training loss\")\n",
    "plt.xlabel(\"Batch\")\n",
    "plt.ylabel(\"Loss\")\n",
    "plt.plot(train_loss_set)\n",
    "plt.show()"
   ]
  },
  {
   "cell_type": "markdown",
   "metadata": {
    "colab_type": "text",
    "id": "8Ef8id-1v10c"
   },
   "source": [
    "## Hyperparameters values as below\n",
    "1. MAX_LEN = 128\n",
    "2. learning_rate = 2e-5\n",
    "3. batch_size = 16\n",
    "4. epochs = 3"
   ]
  },
  {
   "cell_type": "code",
   "execution_count": 0,
   "metadata": {
    "colab": {},
    "colab_type": "code",
    "id": "UVNhVXXkvndk"
   },
   "outputs": [],
   "source": [
    "MAX_LEN = 128\n",
    "learning_rate = 2e-5\n",
    "batch_size = 16\n",
    "epochs = 3\n"
   ]
  },
  {
   "cell_type": "code",
   "execution_count": 9,
   "metadata": {
    "colab": {
     "base_uri": "https://localhost:8080/",
     "height": 153
    },
    "colab_type": "code",
    "executionInfo": {
     "elapsed": 91609,
     "status": "ok",
     "timestamp": 1575196911432,
     "user": {
      "displayName": "arpana alka",
      "photoUrl": "",
      "userId": "00941466105270682854"
     },
     "user_tz": -330
    },
    "id": "7vjGUbKFwG7T",
    "outputId": "25658ecc-4038-4aa1-e8cf-04d61a8346d0"
   },
   "outputs": [
    {
     "name": "stderr",
     "output_type": "stream",
     "text": [
      "100%|██████████| 231508/231508 [00:00<00:00, 433388.78B/s]\n"
     ]
    },
    {
     "name": "stdout",
     "output_type": "stream",
     "text": [
      "Tokenize the first sentence:\n",
      "['[CLS]', 'i', 'liked', 'it', '[SEP]']\n",
      "total sentences are: 58322\n",
      "Tokenize the first sentence:\n",
      "['[CLS]', 'i', 'liked', 'it', '[SEP]']\n"
     ]
    },
    {
     "name": "stderr",
     "output_type": "stream",
     "text": [
      "100%|██████████| 492/492 [00:00<00:00, 134418.81B/s]\n",
      "100%|██████████| 267967963/267967963 [00:23<00:00, 11508185.85B/s]\n"
     ]
    }
   ],
   "source": [
    "# Create sentence and label lists\n",
    "sentences_actual = df.sentence.values\n",
    "\n",
    "# We need to add special tokens at the beginning and end of each sentence for BERT to work properly\n",
    "sentences_actual = [\"[CLS] \" + sentences_actual + \" [SEP]\" for sentences_actual in sentences_actual]\n",
    "labels_actual = df.label.values\n",
    "\n",
    "tokenizer = DistilBertTokenizer.from_pretrained('distilbert-base-uncased', do_lower_case=True)\n",
    "tokenized_texts = [tokenizer.tokenize(sent) for sent in sentences_actual]\n",
    "print (\"Tokenize the first sentence:\")\n",
    "print (tokenized_texts[0])\n",
    "\n",
    "index = []\n",
    "for i,x in enumerate(tokenized_texts):\n",
    "    if len(x)<MAX_LEN:\n",
    "        index.append(i)\n",
    "sentences = []\n",
    "labels=[]\n",
    "for i in index:\n",
    "   sentences.append(sentences_actual[i]) \n",
    "   labels.append(labels_actual[i])\n",
    "print('total sentences are:',len(sentences))\n",
    "\n",
    "tokenizer = DistilBertTokenizer.from_pretrained('distilbert-base-uncased', do_lower_case=True)\n",
    "tokenized_texts = [tokenizer.tokenize(sent) for sent in sentences]\n",
    "print (\"Tokenize the first sentence:\")\n",
    "print (tokenized_texts[0])\n",
    "\n",
    "input_ids = [tokenizer.convert_tokens_to_ids(x) for x in tokenized_texts]\n",
    "# Pad our input tokens\n",
    "input_ids = pad_sequences(input_ids, maxlen=MAX_LEN, dtype=\"long\", truncating=\"post\", padding=\"post\")\n",
    "\n",
    "# Create attention masks\n",
    "attention_masks = []\n",
    "# Create a mask of 1s for each token followed by 0s for padding\n",
    "for seq in input_ids:\n",
    "  seq_mask = [float(i>0) for i in seq]\n",
    "  attention_masks.append(seq_mask)\n",
    "\n",
    "# Use train_test_split to split our data into train and validation sets for training\n",
    "train_inputs, validation_inputs, train_labels, validation_labels = train_test_split(input_ids, labels, \n",
    "                                                            random_state=2018, test_size=0.1)\n",
    "train_masks, validation_masks, _, _ = train_test_split(attention_masks, input_ids,\n",
    "                                             random_state=2018, test_size=0.1)\n",
    "\n",
    "# Convert all of our data into torch tensors, the required datatype for our model\n",
    "train_inputs = torch.tensor(train_inputs)\n",
    "validation_inputs = torch.tensor(validation_inputs)\n",
    "train_labels = torch.tensor(train_labels)\n",
    "validation_labels = torch.tensor(validation_labels)\n",
    "train_masks = torch.tensor(train_masks)\n",
    "validation_masks = torch.tensor(validation_masks)\n",
    "\n",
    "# Create an iterator of our data with torch DataLoader. This helps save on memory during training because, unlike a for loop, \n",
    "# with an iterator the entire dataset does not need to be loaded into memory\n",
    "\n",
    "train_data = TensorDataset(train_inputs, train_masks, train_labels)\n",
    "train_sampler = RandomSampler(train_data)\n",
    "train_dataloader = DataLoader(train_data, sampler=train_sampler, batch_size=batch_size)\n",
    "\n",
    "validation_data = TensorDataset(validation_inputs, validation_masks, validation_labels)\n",
    "validation_sampler = SequentialSampler(validation_data)\n",
    "validation_dataloader = DataLoader(validation_data, sampler=validation_sampler, batch_size=batch_size)\n",
    "\n",
    "\n",
    "# Load BertForSequenceClassification, the pretrained BERT model with a single linear classification layer on top. \n",
    "model = DistilBertForSequenceClassification.from_pretrained(\"distilbert-base-uncased\", num_labels=5)\n",
    "model.cuda()\n",
    "\n",
    "param_optimizer = list(model.named_parameters())\n",
    "no_decay = ['bias', 'gamma', 'beta']\n",
    "optimizer_grouped_parameters = [\n",
    "    {'params': [p for n, p in param_optimizer if not any(nd in n for nd in no_decay)],\n",
    "     'weight_decay_rate': 0.01},\n",
    "    {'params': [p for n, p in param_optimizer if any(nd in n for nd in no_decay)],\n",
    "     'weight_decay_rate': 0.0}\n",
    "]\n",
    "\n",
    "\n",
    "# This variable contains all of the hyperparemeter information our training loop needs\n",
    "optimizer = AdamW(optimizer_grouped_parameters,\n",
    "                     lr=learning_rate,\n",
    "                     )\n",
    "\n",
    "\n",
    "# Function to calculate the accuracy of our predictions vs labels\n",
    "def flat_accuracy(preds, labels):\n",
    "    pred_flat = np.argmax(preds, axis=1).flatten()\n",
    "    labels_flat = labels.flatten()\n",
    "    return np.sum(pred_flat == labels_flat) / len(labels_flat)"
   ]
  },
  {
   "cell_type": "code",
   "execution_count": 10,
   "metadata": {
    "colab": {
     "base_uri": "https://localhost:8080/",
     "height": 632
    },
    "colab_type": "code",
    "executionInfo": {
     "elapsed": 1168069,
     "status": "ok",
     "timestamp": 1575198168174,
     "user": {
      "displayName": "arpana alka",
      "photoUrl": "",
      "userId": "00941466105270682854"
     },
     "user_tz": -330
    },
    "id": "Vo3jkWlHwN0t",
    "outputId": "8efc19e0-823c-419c-ba31-3c60fa4da794"
   },
   "outputs": [
    {
     "name": "stderr",
     "output_type": "stream",
     "text": [
      "\r",
      "Epoch:   0%|          | 0/3 [00:00<?, ?it/s]"
     ]
    },
    {
     "name": "stdout",
     "output_type": "stream",
     "text": [
      "Train loss: 0.8430401682853699\n"
     ]
    },
    {
     "name": "stderr",
     "output_type": "stream",
     "text": [
      "\r",
      "Epoch:  33%|███▎      | 1/3 [06:28<12:57, 388.65s/it]"
     ]
    },
    {
     "name": "stdout",
     "output_type": "stream",
     "text": [
      "Validation Accuracy: 0.6886035007610349\n",
      "Train loss: 0.7635254859924316\n"
     ]
    },
    {
     "name": "stderr",
     "output_type": "stream",
     "text": [
      "\r",
      "Epoch:  67%|██████▋   | 2/3 [12:57<06:28, 388.57s/it]"
     ]
    },
    {
     "name": "stdout",
     "output_type": "stream",
     "text": [
      "Validation Accuracy: 0.6875380517503805\n",
      "Train loss: 0.6919463872909546\n"
     ]
    },
    {
     "name": "stderr",
     "output_type": "stream",
     "text": [
      "\r",
      "Epoch: 100%|██████████| 3/3 [19:25<00:00, 388.58s/it]"
     ]
    },
    {
     "name": "stdout",
     "output_type": "stream",
     "text": [
      "Validation Accuracy: 0.6884322678843227\n"
     ]
    },
    {
     "name": "stderr",
     "output_type": "stream",
     "text": [
      "\n"
     ]
    },
    {
     "data": {
      "image/png": "[encoded data removed]",
      "text/plain": [
       "<Figure size 1080x576 with 1 Axes>"
      ]
     },
     "metadata": {
      "tags": []
     },
     "output_type": "display_data"
    }
   ],
   "source": [
    "# Store our loss and accuracy for plotting\n",
    "train_loss_set = []\n",
    "\n",
    "# trange is a tqdm wrapper around the normal python range\n",
    "for _ in trange(epochs, desc=\"Epoch\"):\n",
    "  # Training\n",
    "  \n",
    "  # Set our model to training mode (as opposed to evaluation mode)\n",
    "  model.train()\n",
    "  \n",
    "  # Tracking variables\n",
    "  tr_loss = 0\n",
    "  nb_tr_examples, nb_tr_steps = 0, 0\n",
    "  \n",
    "  # Train the data for one epoch\n",
    "  for step, batch in enumerate(train_dataloader):\n",
    "    # Add batch to GPU\n",
    "    batch = tuple(t.to(device) for t in batch)\n",
    "    # Unpack the inputs from our dataloader\n",
    "    b_input_ids, b_input_mask, b_labels = batch\n",
    "    # Clear out the gradients (by default they accumulate)\n",
    "    optimizer.zero_grad()\n",
    "    # Forward pass\n",
    "    loss = model(b_input_ids,  attention_mask=b_input_mask, labels=b_labels)\n",
    "\n",
    "    train_loss_set.append(loss[0])    \n",
    "    # # Backward pass\n",
    "    loss[0].backward()\n",
    "    # Update parameters and take a step using the computed gradient\n",
    "    optimizer.step()\n",
    "    \n",
    "    \n",
    "    # Update tracking variables\n",
    "    tr_loss += loss[0]\n",
    "    nb_tr_examples += b_input_ids.size(0)\n",
    "    nb_tr_steps += 1\n",
    "\n",
    "  print(\"Train loss: {}\".format(tr_loss/nb_tr_steps))\n",
    "    \n",
    "    \n",
    "  # Validation\n",
    "\n",
    "  # Put model in evaluation mode to evaluate loss on the validation set\n",
    "  model.eval()\n",
    "\n",
    "  # Tracking variables \n",
    "  eval_loss, eval_accuracy = 0, 0\n",
    "  nb_eval_steps, nb_eval_examples = 0, 0\n",
    "\n",
    "  # Evaluate data for one epoch\n",
    "  for batch in validation_dataloader:\n",
    "    # Add batch to GPU\n",
    "    batch = tuple(t.to(device) for t in batch)\n",
    "    # Unpack the inputs from our dataloader\n",
    "    b_input_ids, b_input_mask, b_labels = batch\n",
    "    # Telling the model not to compute or store gradients, saving memory and speeding up validation\n",
    "    with torch.no_grad():\n",
    "      # Forward pass, calculate logit predictions\n",
    "      logits = model(b_input_ids, attention_mask=b_input_mask)[0]\n",
    "    \n",
    "    # Move logits and labels to CPU\n",
    "    logits = logits.detach().cpu().numpy()\n",
    "    label_ids = b_labels.to('cpu').numpy()\n",
    "\n",
    "    tmp_eval_accuracy = flat_accuracy(logits, label_ids)\n",
    "    \n",
    "    eval_accuracy += tmp_eval_accuracy\n",
    "    nb_eval_steps += 1\n",
    "\n",
    "  print(\"Validation Accuracy: {}\".format(eval_accuracy/nb_eval_steps))\n",
    "\n",
    "plt.figure(figsize=(15,8))\n",
    "plt.title(\"Training loss\")\n",
    "plt.xlabel(\"Batch\")\n",
    "plt.ylabel(\"Loss\")\n",
    "plt.plot(train_loss_set)\n",
    "plt.show()"
   ]
  },
  {
   "cell_type": "code",
   "execution_count": 0,
   "metadata": {
    "colab": {},
    "colab_type": "code",
    "id": "G7MwOv3LzUem"
   },
   "outputs": [],
   "source": []
  }
 ],
 "metadata": {
  "accelerator": "GPU",
  "colab": {
   "collapsed_sections": [],
   "name": "Distilbert retraining.ipynb",
   "provenance": [
    {
     "file_id": "1VvbuWCmHHnOsgwm-1_g_Yw1YuLQ7tw4i",
     "timestamp": 1575125326509
    }
   ]
  },
  "kernelspec": {
   "display_name": "Python 3",
   "language": "python",
   "name": "python3"
  },
  "language_info": {
   "codemirror_mode": {
    "name": "ipython",
    "version": 3
   },
   "file_extension": ".py",
   "mimetype": "text/x-python",
   "name": "python",
   "nbconvert_exporter": "python",
   "pygments_lexer": "ipython3",
   "version": "3.7.3"
  }
 },
 "nbformat": 4,
 "nbformat_minor": 1
}
