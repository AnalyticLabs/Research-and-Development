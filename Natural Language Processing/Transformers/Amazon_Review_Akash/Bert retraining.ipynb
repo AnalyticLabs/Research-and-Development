{
 "cells": [
  {
   "cell_type": "code",
   "execution_count": 1,
   "metadata": {
    "colab": {
     "base_uri": "https://localhost:8080/",
     "height": 80
    },
    "colab_type": "code",
    "executionInfo": {
     "elapsed": 4634,
     "status": "ok",
     "timestamp": 1575144403152,
     "user": {
      "displayName": "arpana alka",
      "photoUrl": "",
      "userId": "00941466105270682854"
     },
     "user_tz": -330
    },
    "id": "2PnbgZhXfv2O",
    "outputId": "cdaa430b-95e8-47d3-92f8-e351d6947fca"
   },
   "outputs": [
    {
     "data": {
      "text/html": [
       "<p style=\"color: red;\">\n",
       "The default version of TensorFlow in Colab will soon switch to TensorFlow 2.x.<br>\n",
       "We recommend you <a href=\"https://www.tensorflow.org/guide/migrate\" target=\"_blank\">upgrade</a> now \n",
       "or ensure your notebook will continue to use TensorFlow 1.x via the <code>%tensorflow_version 1.x</code> magic:\n",
       "<a href=\"https://colab.research.google.com/notebooks/tensorflow_version.ipynb\" target=\"_blank\">more info</a>.</p>\n"
      ],
      "text/plain": [
       "<IPython.core.display.HTML object>"
      ]
     },
     "metadata": {
      "tags": []
     },
     "output_type": "display_data"
    },
    {
     "name": "stdout",
     "output_type": "stream",
     "text": [
      "Found GPU at: /device:GPU:0\n"
     ]
    }
   ],
   "source": [
    "import tensorflow as tf\n",
    "\n",
    "device_name = tf.test.gpu_device_name()\n",
    "if device_name != '/device:GPU:0':\n",
    "  raise SystemError('GPU device not found')\n",
    "print('Found GPU at: {}'.format(device_name))"
   ]
  },
  {
   "cell_type": "code",
   "execution_count": 2,
   "metadata": {
    "colab": {
     "base_uri": "https://localhost:8080/",
     "height": 612
    },
    "colab_type": "code",
    "executionInfo": {
     "elapsed": 10870,
     "status": "ok",
     "timestamp": 1575144415679,
     "user": {
      "displayName": "arpana alka",
      "photoUrl": "",
      "userId": "00941466105270682854"
     },
     "user_tz": -330
    },
    "id": "Z8KUQgNNFMcF",
    "outputId": "f085f9e3-8fd8-4b75-955d-5fb65cb874e8"
   },
   "outputs": [
    {
     "name": "stdout",
     "output_type": "stream",
     "text": [
      "Collecting transformers\n",
      "\u001b[?25l  Downloading https://files.pythonhosted.org/packages/ec/e7/0a1babead1b79afabb654fbec0a052e0d833ba4205a6dfd98b1aeda9c82e/transformers-2.2.0-py3-none-any.whl (360kB)\n",
      "\r",
      "\u001b[K     |█                               | 10kB 25.8MB/s eta 0:00:01\r",
      "\u001b[K     |█▉                              | 20kB 5.1MB/s eta 0:00:01\r",
      "\u001b[K     |██▊                             | 30kB 7.3MB/s eta 0:00:01\r",
      "\u001b[K     |███▋                            | 40kB 5.3MB/s eta 0:00:01\r",
      "\u001b[K     |████▌                           | 51kB 6.5MB/s eta 0:00:01\r",
      "\u001b[K     |█████▌                          | 61kB 7.7MB/s eta 0:00:01\r",
      "\u001b[K     |██████▍                         | 71kB 8.8MB/s eta 0:00:01\r",
      "\u001b[K     |███████▎                        | 81kB 9.9MB/s eta 0:00:01\r",
      "\u001b[K     |████████▏                       | 92kB 8.0MB/s eta 0:00:01\r",
      "\u001b[K     |█████████                       | 102kB 8.8MB/s eta 0:00:01\r",
      "\u001b[K     |██████████                      | 112kB 8.8MB/s eta 0:00:01\r",
      "\u001b[K     |███████████                     | 122kB 8.8MB/s eta 0:00:01\r",
      "\u001b[K     |███████████▉                    | 133kB 8.8MB/s eta 0:00:01\r",
      "\u001b[K     |████████████▊                   | 143kB 8.8MB/s eta 0:00:01\r",
      "\u001b[K     |█████████████▋                  | 153kB 8.8MB/s eta 0:00:01\r",
      "\u001b[K     |██████████████▌                 | 163kB 8.8MB/s eta 0:00:01\r",
      "\u001b[K     |███████████████▌                | 174kB 8.8MB/s eta 0:00:01\r",
      "\u001b[K     |████████████████▍               | 184kB 8.8MB/s eta 0:00:01\r",
      "\u001b[K     |█████████████████▎              | 194kB 8.8MB/s eta 0:00:01\r",
      "\u001b[K     |██████████████████▏             | 204kB 8.8MB/s eta 0:00:01\r",
      "\u001b[K     |███████████████████             | 215kB 8.8MB/s eta 0:00:01\r",
      "\u001b[K     |████████████████████            | 225kB 8.8MB/s eta 0:00:01\r",
      "\u001b[K     |█████████████████████           | 235kB 8.8MB/s eta 0:00:01\r",
      "\u001b[K     |█████████████████████▉          | 245kB 8.8MB/s eta 0:00:01\r",
      "\u001b[K     |██████████████████████▊         | 256kB 8.8MB/s eta 0:00:01\r",
      "\u001b[K     |███████████████████████▋        | 266kB 8.8MB/s eta 0:00:01\r",
      "\u001b[K     |████████████████████████▌       | 276kB 8.8MB/s eta 0:00:01\r",
      "\u001b[K     |█████████████████████████▍      | 286kB 8.8MB/s eta 0:00:01\r",
      "\u001b[K     |██████████████████████████▍     | 296kB 8.8MB/s eta 0:00:01\r",
      "\u001b[K     |███████████████████████████▎    | 307kB 8.8MB/s eta 0:00:01\r",
      "\u001b[K     |████████████████████████████▏   | 317kB 8.8MB/s eta 0:00:01\r",
      "\u001b[K     |█████████████████████████████   | 327kB 8.8MB/s eta 0:00:01\r",
      "\u001b[K     |██████████████████████████████  | 337kB 8.8MB/s eta 0:00:01\r",
      "\u001b[K     |███████████████████████████████ | 348kB 8.8MB/s eta 0:00:01\r",
      "\u001b[K     |███████████████████████████████▉| 358kB 8.8MB/s eta 0:00:01\r",
      "\u001b[K     |████████████████████████████████| 368kB 8.8MB/s \n",
      "\u001b[?25hCollecting regex\n",
      "\u001b[?25l  Downloading https://files.pythonhosted.org/packages/e3/8e/cbf2295643d7265e7883326fb4654e643bfc93b3a8a8274d8010a39d8804/regex-2019.11.1-cp36-cp36m-manylinux1_x86_64.whl (643kB)\n",
      "\r",
      "\u001b[K     |▌                               | 10kB 27.8MB/s eta 0:00:01\r",
      "\u001b[K     |█                               | 20kB 35.8MB/s eta 0:00:01\r",
      "\u001b[K     |█▌                              | 30kB 43.0MB/s eta 0:00:01\r",
      "\u001b[K     |██                              | 40kB 47.9MB/s eta 0:00:01\r",
      "\u001b[K     |██▌                             | 51kB 51.2MB/s eta 0:00:01\r",
      "\u001b[K     |███                             | 61kB 54.8MB/s eta 0:00:01\r",
      "\u001b[K     |███▋                            | 71kB 56.4MB/s eta 0:00:01\r",
      "\u001b[K     |████                            | 81kB 57.6MB/s eta 0:00:01\r",
      "\u001b[K     |████▋                           | 92kB 59.8MB/s eta 0:00:01\r",
      "\u001b[K     |█████                           | 102kB 61.1MB/s eta 0:00:01\r",
      "\u001b[K     |█████▋                          | 112kB 61.1MB/s eta 0:00:01\r",
      "\u001b[K     |██████                          | 122kB 61.1MB/s eta 0:00:01\r",
      "\u001b[K     |██████▋                         | 133kB 61.1MB/s eta 0:00:01\r",
      "\u001b[K     |███████▏                        | 143kB 61.1MB/s eta 0:00:01\r",
      "\u001b[K     |███████▋                        | 153kB 61.1MB/s eta 0:00:01\r",
      "\u001b[K     |████████▏                       | 163kB 61.1MB/s eta 0:00:01\r",
      "\u001b[K     |████████▋                       | 174kB 61.1MB/s eta 0:00:01\r",
      "\u001b[K     |█████████▏                      | 184kB 61.1MB/s eta 0:00:01\r",
      "\u001b[K     |█████████▊                      | 194kB 61.1MB/s eta 0:00:01\r",
      "\u001b[K     |██████████▏                     | 204kB 61.1MB/s eta 0:00:01\r",
      "\u001b[K     |██████████▊                     | 215kB 61.1MB/s eta 0:00:01\r",
      "\u001b[K     |███████████▏                    | 225kB 61.1MB/s eta 0:00:01\r",
      "\u001b[K     |███████████▊                    | 235kB 61.1MB/s eta 0:00:01\r",
      "\u001b[K     |████████████▏                   | 245kB 61.1MB/s eta 0:00:01\r",
      "\u001b[K     |████████████▊                   | 256kB 61.1MB/s eta 0:00:01\r",
      "\u001b[K     |█████████████▎                  | 266kB 61.1MB/s eta 0:00:01\r",
      "\u001b[K     |█████████████▊                  | 276kB 61.1MB/s eta 0:00:01\r",
      "\u001b[K     |██████████████▎                 | 286kB 61.1MB/s eta 0:00:01\r",
      "\u001b[K     |██████████████▊                 | 296kB 61.1MB/s eta 0:00:01\r",
      "\u001b[K     |███████████████▎                | 307kB 61.1MB/s eta 0:00:01\r",
      "\u001b[K     |███████████████▉                | 317kB 61.1MB/s eta 0:00:01\r",
      "\u001b[K     |████████████████▎               | 327kB 61.1MB/s eta 0:00:01\r",
      "\u001b[K     |████████████████▉               | 337kB 61.1MB/s eta 0:00:01\r",
      "\u001b[K     |█████████████████▎              | 348kB 61.1MB/s eta 0:00:01\r",
      "\u001b[K     |█████████████████▉              | 358kB 61.1MB/s eta 0:00:01\r",
      "\u001b[K     |██████████████████▎             | 368kB 61.1MB/s eta 0:00:01\r",
      "\u001b[K     |██████████████████▉             | 378kB 61.1MB/s eta 0:00:01\r",
      "\u001b[K     |███████████████████▍            | 389kB 61.1MB/s eta 0:00:01\r",
      "\u001b[K     |███████████████████▉            | 399kB 61.1MB/s eta 0:00:01\r",
      "\u001b[K     |████████████████████▍           | 409kB 61.1MB/s eta 0:00:01\r",
      "\u001b[K     |████████████████████▉           | 419kB 61.1MB/s eta 0:00:01\r",
      "\u001b[K     |█████████████████████▍          | 430kB 61.1MB/s eta 0:00:01\r",
      "\u001b[K     |██████████████████████          | 440kB 61.1MB/s eta 0:00:01\r",
      "\u001b[K     |██████████████████████▍         | 450kB 61.1MB/s eta 0:00:01\r",
      "\u001b[K     |███████████████████████         | 460kB 61.1MB/s eta 0:00:01\r",
      "\u001b[K     |███████████████████████▍        | 471kB 61.1MB/s eta 0:00:01\r",
      "\u001b[K     |████████████████████████        | 481kB 61.1MB/s eta 0:00:01\r",
      "\u001b[K     |████████████████████████▍       | 491kB 61.1MB/s eta 0:00:01\r",
      "\u001b[K     |█████████████████████████       | 501kB 61.1MB/s eta 0:00:01\r",
      "\u001b[K     |█████████████████████████▌      | 512kB 61.1MB/s eta 0:00:01\r",
      "\u001b[K     |██████████████████████████      | 522kB 61.1MB/s eta 0:00:01\r",
      "\u001b[K     |██████████████████████████▌     | 532kB 61.1MB/s eta 0:00:01\r",
      "\u001b[K     |███████████████████████████     | 542kB 61.1MB/s eta 0:00:01\r",
      "\u001b[K     |███████████████████████████▌    | 552kB 61.1MB/s eta 0:00:01\r",
      "\u001b[K     |████████████████████████████    | 563kB 61.1MB/s eta 0:00:01\r",
      "\u001b[K     |████████████████████████████▌   | 573kB 61.1MB/s eta 0:00:01\r",
      "\u001b[K     |█████████████████████████████   | 583kB 61.1MB/s eta 0:00:01\r",
      "\u001b[K     |█████████████████████████████▌  | 593kB 61.1MB/s eta 0:00:01\r",
      "\u001b[K     |██████████████████████████████  | 604kB 61.1MB/s eta 0:00:01\r",
      "\u001b[K     |██████████████████████████████▌ | 614kB 61.1MB/s eta 0:00:01\r",
      "\u001b[K     |███████████████████████████████ | 624kB 61.1MB/s eta 0:00:01\r",
      "\u001b[K     |███████████████████████████████▋| 634kB 61.1MB/s eta 0:00:01\r",
      "\u001b[K     |████████████████████████████████| 645kB 61.1MB/s \n",
      "\u001b[?25hRequirement already satisfied: boto3 in /usr/local/lib/python3.6/dist-packages (from transformers) (1.10.18)\n",
      "Requirement already satisfied: tqdm in /usr/local/lib/python3.6/dist-packages (from transformers) (4.28.1)\n",
      "Collecting sacremoses\n",
      "\u001b[?25l  Downloading https://files.pythonhosted.org/packages/1f/8e/ed5364a06a9ba720fddd9820155cc57300d28f5f43a6fd7b7e817177e642/sacremoses-0.0.35.tar.gz (859kB)\n",
      "\u001b[K     |████████████████████████████████| 860kB 52.4MB/s \n",
      "\u001b[?25hCollecting sentencepiece\n",
      "\u001b[?25l  Downloading https://files.pythonhosted.org/packages/14/3d/efb655a670b98f62ec32d66954e1109f403db4d937c50d779a75b9763a29/sentencepiece-0.1.83-cp36-cp36m-manylinux1_x86_64.whl (1.0MB)\n",
      "\u001b[K     |████████████████████████████████| 1.0MB 57.6MB/s \n",
      "\u001b[?25hRequirement already satisfied: requests in /usr/local/lib/python3.6/dist-packages (from transformers) (2.21.0)\n",
      "Requirement already satisfied: numpy in /usr/local/lib/python3.6/dist-packages (from transformers) (1.17.4)\n",
      "Requirement already satisfied: s3transfer<0.3.0,>=0.2.0 in /usr/local/lib/python3.6/dist-packages (from boto3->transformers) (0.2.1)\n",
      "Requirement already satisfied: jmespath<1.0.0,>=0.7.1 in /usr/local/lib/python3.6/dist-packages (from boto3->transformers) (0.9.4)\n",
      "Requirement already satisfied: botocore<1.14.0,>=1.13.18 in /usr/local/lib/python3.6/dist-packages (from boto3->transformers) (1.13.18)\n",
      "Requirement already satisfied: six in /usr/local/lib/python3.6/dist-packages (from sacremoses->transformers) (1.12.0)\n",
      "Requirement already satisfied: click in /usr/local/lib/python3.6/dist-packages (from sacremoses->transformers) (7.0)\n",
      "Requirement already satisfied: joblib in /usr/local/lib/python3.6/dist-packages (from sacremoses->transformers) (0.14.0)\n",
      "Requirement already satisfied: chardet<3.1.0,>=3.0.2 in /usr/local/lib/python3.6/dist-packages (from requests->transformers) (3.0.4)\n",
      "Requirement already satisfied: idna<2.9,>=2.5 in /usr/local/lib/python3.6/dist-packages (from requests->transformers) (2.8)\n",
      "Requirement already satisfied: certifi>=2017.4.17 in /usr/local/lib/python3.6/dist-packages (from requests->transformers) (2019.9.11)\n",
      "Requirement already satisfied: urllib3<1.25,>=1.21.1 in /usr/local/lib/python3.6/dist-packages (from requests->transformers) (1.24.3)\n",
      "Requirement already satisfied: docutils<0.16,>=0.10 in /usr/local/lib/python3.6/dist-packages (from botocore<1.14.0,>=1.13.18->boto3->transformers) (0.15.2)\n",
      "Requirement already satisfied: python-dateutil<2.8.1,>=2.1; python_version >= \"2.7\" in /usr/local/lib/python3.6/dist-packages (from botocore<1.14.0,>=1.13.18->boto3->transformers) (2.6.1)\n",
      "Building wheels for collected packages: sacremoses\n",
      "  Building wheel for sacremoses (setup.py) ... \u001b[?25l\u001b[?25hdone\n",
      "  Created wheel for sacremoses: filename=sacremoses-0.0.35-cp36-none-any.whl size=883999 sha256=546037e1182a716612d35735df8c2c7a85852698ca693cd849c50461fc01ec81\n",
      "  Stored in directory: /root/.cache/pip/wheels/63/2a/db/63e2909042c634ef551d0d9ac825b2b0b32dede4a6d87ddc94\n",
      "Successfully built sacremoses\n",
      "Installing collected packages: regex, sacremoses, sentencepiece, transformers\n",
      "Successfully installed regex-2019.11.1 sacremoses-0.0.35 sentencepiece-0.1.83 transformers-2.2.0\n"
     ]
    }
   ],
   "source": [
    "pip install transformers"
   ]
  },
  {
   "cell_type": "code",
   "execution_count": 3,
   "metadata": {
    "colab": {
     "base_uri": "https://localhost:8080/",
     "height": 34
    },
    "colab_type": "code",
    "executionInfo": {
     "elapsed": 3911,
     "status": "ok",
     "timestamp": 1575144422747,
     "user": {
      "displayName": "arpana alka",
      "photoUrl": "",
      "userId": "00941466105270682854"
     },
     "user_tz": -330
    },
    "id": "ecEdcodnf7Qq",
    "outputId": "569364ab-0eb2-461a-9445-faced5aeb84c"
   },
   "outputs": [
    {
     "name": "stderr",
     "output_type": "stream",
     "text": [
      "Using TensorFlow backend.\n"
     ]
    }
   ],
   "source": [
    "import torch\n",
    "from torch.utils.data import TensorDataset, DataLoader, RandomSampler, SequentialSampler\n",
    "from keras.preprocessing.sequence import pad_sequences\n",
    "from sklearn.model_selection import train_test_split\n",
    "from transformers import BertTokenizer, BertConfig\n",
    "from transformers import AdamW, BertForSequenceClassification\n",
    "from tqdm import tqdm, trange\n",
    "import pandas as pd\n",
    "import io\n",
    "import numpy as np\n",
    "import matplotlib.pyplot as plt\n",
    "% matplotlib inline"
   ]
  },
  {
   "cell_type": "code",
   "execution_count": 4,
   "metadata": {
    "colab": {
     "base_uri": "https://localhost:8080/",
     "height": 34
    },
    "colab_type": "code",
    "executionInfo": {
     "elapsed": 1238,
     "status": "ok",
     "timestamp": 1575144425666,
     "user": {
      "displayName": "arpana alka",
      "photoUrl": "",
      "userId": "00941466105270682854"
     },
     "user_tz": -330
    },
    "id": "aIv90vTvf-bk",
    "outputId": "3b0d8d89-e74f-4991-cb53-ef26c97e2abd"
   },
   "outputs": [
    {
     "data": {
      "text/plain": [
       "'Tesla P100-PCIE-16GB'"
      ]
     },
     "execution_count": 4,
     "metadata": {
      "tags": []
     },
     "output_type": "execute_result"
    }
   ],
   "source": [
    "device = torch.device(\"cuda\" if torch.cuda.is_available() else \"cpu\")\n",
    "n_gpu = torch.cuda.device_count()\n",
    "torch.cuda.get_device_name(0)"
   ]
  },
  {
   "cell_type": "code",
   "execution_count": 0,
   "metadata": {
    "colab": {},
    "colab_type": "code",
    "id": "FJMi8LN7gACF"
   },
   "outputs": [],
   "source": [
    "# Upload the train file from your local drive\n",
    "# from google.colab import files\n",
    "# uploaded = files.upload()"
   ]
  },
  {
   "cell_type": "code",
   "execution_count": 6,
   "metadata": {
    "colab": {
     "base_uri": "https://localhost:8080/",
     "height": 139
    },
    "colab_type": "code",
    "executionInfo": {
     "elapsed": 22996,
     "status": "ok",
     "timestamp": 1575144452440,
     "user": {
      "displayName": "arpana alka",
      "photoUrl": "",
      "userId": "00941466105270682854"
     },
     "user_tz": -330
    },
    "id": "J5IqwI79e8pS",
    "outputId": "7f19ec95-092a-41dd-dec7-c73f6eeaa3c1"
   },
   "outputs": [
    {
     "name": "stdout",
     "output_type": "stream",
     "text": [
      "Go to this URL in a browser: https://accounts.google.com/o/oauth2/auth?client_id=947318989803-6bn6qk8qdgf4n4g3pfee6491hc0brc4i.apps.googleusercontent.com&redirect_uri=urn%3aietf%3awg%3aoauth%3a2.0%3aoob&response_type=code&scope=email%20https%3a%2f%2fwww.googleapis.com%2fauth%2fdocs.test%20https%3a%2f%2fwww.googleapis.com%2fauth%2fdrive%20https%3a%2f%2fwww.googleapis.com%2fauth%2fdrive.photos.readonly%20https%3a%2f%2fwww.googleapis.com%2fauth%2fpeopleapi.readonly\n",
      "\n",
      "Enter your authorization code:\n",
      "··········\n",
      "Mounted at /gdrive/\n",
      "/gdrive\n"
     ]
    }
   ],
   "source": [
    "from google.colab import drive\n",
    "drive.mount('/gdrive/')\n",
    "%cd /gdrive"
   ]
  },
  {
   "cell_type": "code",
   "execution_count": 0,
   "metadata": {
    "colab": {},
    "colab_type": "code",
    "id": "RP4r9t9EgDhQ"
   },
   "outputs": [],
   "source": [
    "# data = pd.read_csv('data.csv')\n",
    "data = pd.read_csv('My Drive/Colab Notebooks/data.csv')"
   ]
  },
  {
   "cell_type": "code",
   "execution_count": 8,
   "metadata": {
    "colab": {
     "base_uri": "https://localhost:8080/",
     "height": 359
    },
    "colab_type": "code",
    "executionInfo": {
     "elapsed": 1872,
     "status": "ok",
     "timestamp": 1575144463523,
     "user": {
      "displayName": "arpana alka",
      "photoUrl": "",
      "userId": "00941466105270682854"
     },
     "user_tz": -330
    },
    "id": "pzzlopIEihAR",
    "outputId": "3cf1f468-64e9-4a65-a040-df4c14fef6d0"
   },
   "outputs": [
    {
     "data": {
      "text/html": [
       "<div>\n",
       "<style scoped>\n",
       "    .dataframe tbody tr th:only-of-type {\n",
       "        vertical-align: middle;\n",
       "    }\n",
       "\n",
       "    .dataframe tbody tr th {\n",
       "        vertical-align: top;\n",
       "    }\n",
       "\n",
       "    .dataframe thead th {\n",
       "        text-align: right;\n",
       "    }\n",
       "</style>\n",
       "<table border=\"1\" class=\"dataframe\">\n",
       "  <thead>\n",
       "    <tr style=\"text-align: right;\">\n",
       "      <th></th>\n",
       "      <th>label</th>\n",
       "      <th>sentence</th>\n",
       "    </tr>\n",
       "  </thead>\n",
       "  <tbody>\n",
       "    <tr>\n",
       "      <th>8866</th>\n",
       "      <td>4</td>\n",
       "      <td>Good laptop... Initially tooks long time to up...</td>\n",
       "    </tr>\n",
       "    <tr>\n",
       "      <th>54242</th>\n",
       "      <td>4</td>\n",
       "      <td>Awesome</td>\n",
       "    </tr>\n",
       "    <tr>\n",
       "      <th>41767</th>\n",
       "      <td>4</td>\n",
       "      <td>Good product</td>\n",
       "    </tr>\n",
       "    <tr>\n",
       "      <th>52924</th>\n",
       "      <td>2</td>\n",
       "      <td>Had found problems(sudden decrease in volume/l...</td>\n",
       "    </tr>\n",
       "    <tr>\n",
       "      <th>37399</th>\n",
       "      <td>3</td>\n",
       "      <td>Some people gave some negative comments but I ...</td>\n",
       "    </tr>\n",
       "    <tr>\n",
       "      <th>60183</th>\n",
       "      <td>3</td>\n",
       "      <td>Cool product for people who have very minimal ...</td>\n",
       "    </tr>\n",
       "    <tr>\n",
       "      <th>55458</th>\n",
       "      <td>4</td>\n",
       "      <td>This is very good product</td>\n",
       "    </tr>\n",
       "    <tr>\n",
       "      <th>29667</th>\n",
       "      <td>4</td>\n",
       "      <td>Best price range and best features</td>\n",
       "    </tr>\n",
       "    <tr>\n",
       "      <th>43612</th>\n",
       "      <td>4</td>\n",
       "      <td>Awesome headphones 👍. Value for money. Sounds ...</td>\n",
       "    </tr>\n",
       "    <tr>\n",
       "      <th>35439</th>\n",
       "      <td>4</td>\n",
       "      <td>This is one of the most awesome things Amazon ...</td>\n",
       "    </tr>\n",
       "  </tbody>\n",
       "</table>\n",
       "</div>"
      ],
      "text/plain": [
       "       label                                           sentence\n",
       "8866       4  Good laptop... Initially tooks long time to up...\n",
       "54242      4                                            Awesome\n",
       "41767      4                                       Good product\n",
       "52924      2  Had found problems(sudden decrease in volume/l...\n",
       "37399      3  Some people gave some negative comments but I ...\n",
       "60183      3  Cool product for people who have very minimal ...\n",
       "55458      4                          This is very good product\n",
       "29667      4                 Best price range and best features\n",
       "43612      4  Awesome headphones 👍. Value for money. Sounds ...\n",
       "35439      4  This is one of the most awesome things Amazon ..."
      ]
     },
     "execution_count": 8,
     "metadata": {
      "tags": []
     },
     "output_type": "execute_result"
    }
   ],
   "source": [
    "df = data[['Rating','Review_text']].rename(columns={'Rating': 'label', 'Review_text': 'sentence'})\n",
    "df.label = df.label.astype(int)\n",
    "df.label = df.label - 1\n",
    "df = df.dropna()\n",
    "\n",
    "df.sample(10)"
   ]
  },
  {
   "cell_type": "markdown",
   "metadata": {
    "colab_type": "text",
    "id": "SNmg8bZBuYXO"
   },
   "source": [
    "## Hyperparameters values as below\n",
    "1. MAX_LEN = 128\n",
    "2. learning_rate = 2e-5\n",
    "3. batch_size = 32\n",
    "4. epochs = 2\n",
    "\n",
    "##### Select a batch size for training. For fine-tuning on a specific task, recommend batch size is 16 or 32\n",
    "##### Number of training epochs (recommend between 2 and 4)"
   ]
  },
  {
   "cell_type": "code",
   "execution_count": 0,
   "metadata": {
    "colab": {},
    "colab_type": "code",
    "id": "DiO6sbA8uwIb"
   },
   "outputs": [],
   "source": [
    "MAX_LEN = 128\n",
    "learning_rate = 2e-5\n",
    "batch_size = 32\n",
    "epochs = 2"
   ]
  },
  {
   "cell_type": "code",
   "execution_count": 10,
   "metadata": {
    "colab": {
     "base_uri": "https://localhost:8080/",
     "height": 153
    },
    "colab_type": "code",
    "executionInfo": {
     "elapsed": 82374,
     "status": "ok",
     "timestamp": 1575144548653,
     "user": {
      "displayName": "arpana alka",
      "photoUrl": "",
      "userId": "00941466105270682854"
     },
     "user_tz": -330
    },
    "id": "hn7wy-tBoaCM",
    "outputId": "148fc09d-d30d-4a08-d47a-c5699243b177"
   },
   "outputs": [
    {
     "name": "stderr",
     "output_type": "stream",
     "text": [
      "100%|██████████| 231508/231508 [00:00<00:00, 911551.68B/s]\n"
     ]
    },
    {
     "name": "stdout",
     "output_type": "stream",
     "text": [
      "Tokenize the first sentence:\n",
      "['[CLS]', 'i', 'liked', 'it', '[SEP]']\n",
      "total sentences are: 58322\n",
      "Tokenize the first sentence:\n",
      "['[CLS]', 'i', 'liked', 'it', '[SEP]']\n"
     ]
    },
    {
     "name": "stderr",
     "output_type": "stream",
     "text": [
      "100%|██████████| 313/313 [00:00<00:00, 246723.76B/s]\n",
      "100%|██████████| 440473133/440473133 [00:17<00:00, 25143623.14B/s]\n"
     ]
    }
   ],
   "source": [
    "# Create sentence and label lists\n",
    "sentences_actual = df.sentence.values\n",
    "\n",
    "# We need to add special tokens at the beginning and end of each sentence for BERT to work properly\n",
    "sentences_actual = [\"[CLS] \" + sentences_actual + \" [SEP]\" for sentences_actual in sentences_actual]\n",
    "labels_actual = df.label.values\n",
    "\n",
    "tokenizer = BertTokenizer.from_pretrained('bert-base-uncased', do_lower_case=True)\n",
    "tokenized_texts = [tokenizer.tokenize(sent) for sent in sentences_actual]\n",
    "print (\"Tokenize the first sentence:\")\n",
    "print (tokenized_texts[0])\n",
    "\n",
    "index = []\n",
    "for i,x in enumerate(tokenized_texts):\n",
    "    if len(x)<MAX_LEN:\n",
    "        index.append(i)\n",
    "sentences = []\n",
    "labels=[]\n",
    "for i in index:\n",
    "   sentences.append(sentences_actual[i]) \n",
    "   labels.append(labels_actual[i])\n",
    "print('total sentences are:',len(sentences))\n",
    "\n",
    "tokenizer = BertTokenizer.from_pretrained('bert-base-uncased', do_lower_case=True)\n",
    "tokenized_texts = [tokenizer.tokenize(sent) for sent in sentences]\n",
    "print (\"Tokenize the first sentence:\")\n",
    "print (tokenized_texts[0])\n",
    "\n",
    "input_ids = [tokenizer.convert_tokens_to_ids(x) for x in tokenized_texts]\n",
    "# Pad our input tokens\n",
    "input_ids = pad_sequences(input_ids, maxlen=MAX_LEN, dtype=\"long\", truncating=\"post\", padding=\"post\")\n",
    "\n",
    "# Create attention masks\n",
    "attention_masks = []\n",
    "# Create a mask of 1s for each token followed by 0s for padding\n",
    "for seq in input_ids:\n",
    "  seq_mask = [float(i>0) for i in seq]\n",
    "  attention_masks.append(seq_mask)\n",
    "\n",
    "# Use train_test_split to split our data into train and validation sets for training\n",
    "train_inputs, validation_inputs, train_labels, validation_labels = train_test_split(input_ids, labels, \n",
    "                                                            random_state=2018, test_size=0.1)\n",
    "train_masks, validation_masks, _, _ = train_test_split(attention_masks, input_ids,\n",
    "                                             random_state=2018, test_size=0.1)\n",
    "\n",
    "# Convert all of our data into torch tensors, the required datatype for our model\n",
    "train_inputs = torch.tensor(train_inputs)\n",
    "validation_inputs = torch.tensor(validation_inputs)\n",
    "train_labels = torch.tensor(train_labels)\n",
    "validation_labels = torch.tensor(validation_labels)\n",
    "train_masks = torch.tensor(train_masks)\n",
    "validation_masks = torch.tensor(validation_masks)\n",
    "\n",
    "# Create an iterator of our data with torch DataLoader. This helps save on memory during training because, unlike a for loop, \n",
    "# with an iterator the entire dataset does not need to be loaded into memory\n",
    "\n",
    "train_data = TensorDataset(train_inputs, train_masks, train_labels)\n",
    "train_sampler = RandomSampler(train_data)\n",
    "train_dataloader = DataLoader(train_data, sampler=train_sampler, batch_size=batch_size)\n",
    "\n",
    "validation_data = TensorDataset(validation_inputs, validation_masks, validation_labels)\n",
    "validation_sampler = SequentialSampler(validation_data)\n",
    "validation_dataloader = DataLoader(validation_data, sampler=validation_sampler, batch_size=batch_size)\n",
    "\n",
    "\n",
    "# Load BertForSequenceClassification, the pretrained BERT model with a single linear classification layer on top. \n",
    "model = BertForSequenceClassification.from_pretrained(\"bert-base-uncased\", num_labels=5)\n",
    "model.cuda()\n",
    "\n",
    "param_optimizer = list(model.named_parameters())\n",
    "no_decay = ['bias', 'gamma', 'beta']\n",
    "optimizer_grouped_parameters = [\n",
    "    {'params': [p for n, p in param_optimizer if not any(nd in n for nd in no_decay)],\n",
    "     'weight_decay_rate': 0.01},\n",
    "    {'params': [p for n, p in param_optimizer if any(nd in n for nd in no_decay)],\n",
    "     'weight_decay_rate': 0.0}\n",
    "]\n",
    "\n",
    "\n",
    "# This variable contains all of the hyperparemeter information our training loop needs\n",
    "optimizer = AdamW(optimizer_grouped_parameters,\n",
    "                     lr=learning_rate,\n",
    "                     )\n",
    "\n",
    "\n",
    "# Function to calculate the accuracy of our predictions vs labels\n",
    "def flat_accuracy(preds, labels):\n",
    "    pred_flat = np.argmax(preds, axis=1).flatten()\n",
    "    labels_flat = labels.flatten()\n",
    "    return np.sum(pred_flat == labels_flat) / len(labels_flat)"
   ]
  },
  {
   "cell_type": "code",
   "execution_count": 11,
   "metadata": {
    "colab": {
     "base_uri": "https://localhost:8080/",
     "height": 598
    },
    "colab_type": "code",
    "executionInfo": {
     "elapsed": 1478797,
     "status": "ok",
     "timestamp": 1575145945513,
     "user": {
      "displayName": "arpana alka",
      "photoUrl": "",
      "userId": "00941466105270682854"
     },
     "user_tz": -330
    },
    "id": "EVKDWGvYp3T4",
    "outputId": "3273e206-0f19-4af3-d178-b89e4dbadf97"
   },
   "outputs": [
    {
     "name": "stderr",
     "output_type": "stream",
     "text": [
      "\r",
      "Epoch:   0%|          | 0/2 [00:00<?, ?it/s]"
     ]
    },
    {
     "name": "stdout",
     "output_type": "stream",
     "text": [
      "Train loss: 0.8411304950714111\n"
     ]
    },
    {
     "name": "stderr",
     "output_type": "stream",
     "text": [
      "\r",
      "Epoch:  50%|█████     | 1/2 [11:37<11:37, 697.83s/it]"
     ]
    },
    {
     "name": "stdout",
     "output_type": "stream",
     "text": [
      "Validation Accuracy: 0.6881640862173649\n",
      "Train loss: 0.7587902545928955\n"
     ]
    },
    {
     "name": "stderr",
     "output_type": "stream",
     "text": [
      "\r",
      "Epoch: 100%|██████████| 2/2 [23:15<00:00, 697.93s/it]"
     ]
    },
    {
     "name": "stdout",
     "output_type": "stream",
     "text": [
      "Validation Accuracy: 0.6886763812993321\n"
     ]
    },
    {
     "name": "stderr",
     "output_type": "stream",
     "text": [
      "\n"
     ]
    },
    {
     "data": {
      "image/png": "[encoded data removed]",
      "text/plain": [
       "<Figure size 1080x576 with 1 Axes>"
      ]
     },
     "metadata": {
      "tags": []
     },
     "output_type": "display_data"
    }
   ],
   "source": [
    "# Store our loss and accuracy for plotting\n",
    "train_loss_set = []\n",
    "\n",
    "# trange is a tqdm wrapper around the normal python range\n",
    "for _ in trange(epochs, desc=\"Epoch\"):\n",
    "  # Training\n",
    "  \n",
    "  # Set our model to training mode (as opposed to evaluation mode)\n",
    "  model.train()\n",
    "  \n",
    "  # Tracking variables\n",
    "  tr_loss = 0\n",
    "  nb_tr_examples, nb_tr_steps = 0, 0\n",
    "  \n",
    "  # Train the data for one epoch\n",
    "  for step, batch in enumerate(train_dataloader):\n",
    "    # Add batch to GPU\n",
    "    batch = tuple(t.to(device) for t in batch)\n",
    "    # Unpack the inputs from our dataloader\n",
    "    b_input_ids, b_input_mask, b_labels = batch\n",
    "    # Clear out the gradients (by default they accumulate)\n",
    "    optimizer.zero_grad()\n",
    "    # Forward pass\n",
    "    loss = model(b_input_ids,  attention_mask=b_input_mask, labels=b_labels)\n",
    "\n",
    "    train_loss_set.append(loss[0])    \n",
    "    # # Backward pass\n",
    "    loss[0].backward()\n",
    "    # Update parameters and take a step using the computed gradient\n",
    "    optimizer.step()\n",
    "    \n",
    "    \n",
    "    # Update tracking variables\n",
    "    tr_loss += loss[0]\n",
    "    nb_tr_examples += b_input_ids.size(0)\n",
    "    nb_tr_steps += 1\n",
    "\n",
    "  print(\"Train loss: {}\".format(tr_loss/nb_tr_steps))\n",
    "    \n",
    "    \n",
    "  # Validation\n",
    "\n",
    "  # Put model in evaluation mode to evaluate loss on the validation set\n",
    "  model.eval()\n",
    "\n",
    "  # Tracking variables \n",
    "  eval_loss, eval_accuracy = 0, 0\n",
    "  nb_eval_steps, nb_eval_examples = 0, 0\n",
    "\n",
    "  # Evaluate data for one epoch\n",
    "  for batch in validation_dataloader:\n",
    "    # Add batch to GPU\n",
    "    batch = tuple(t.to(device) for t in batch)\n",
    "    # Unpack the inputs from our dataloader\n",
    "    b_input_ids, b_input_mask, b_labels = batch\n",
    "    # Telling the model not to compute or store gradients, saving memory and speeding up validation\n",
    "    with torch.no_grad():\n",
    "      # Forward pass, calculate logit predictions\n",
    "      logits = model(b_input_ids,  attention_mask=b_input_mask)[0]\n",
    "     \n",
    "    # Move logits and labels to CPU\n",
    "    logits = logits.detach().cpu().numpy()\n",
    "    label_ids = b_labels.to('cpu').numpy()\n",
    "\n",
    "    tmp_eval_accuracy = flat_accuracy(logits, label_ids)\n",
    "    \n",
    "    eval_accuracy += tmp_eval_accuracy\n",
    "    nb_eval_steps += 1\n",
    "\n",
    "  print(\"Validation Accuracy: {}\".format(eval_accuracy/nb_eval_steps))\n",
    "\n",
    "plt.figure(figsize=(15,8))\n",
    "plt.title(\"Training loss\")\n",
    "plt.xlabel(\"Batch\")\n",
    "plt.ylabel(\"Loss\")\n",
    "plt.plot(train_loss_set)\n",
    "plt.show()"
   ]
  },
  {
   "cell_type": "markdown",
   "metadata": {
    "colab_type": "text",
    "id": "8Ef8id-1v10c"
   },
   "source": [
    "## Hyperparameters values as below\n",
    "1. MAX_LEN = 128\n",
    "2. learning_rate = 2e-5\n",
    "3. batch_size = 16\n",
    "4. epochs = 3"
   ]
  },
  {
   "cell_type": "code",
   "execution_count": 0,
   "metadata": {
    "colab": {},
    "colab_type": "code",
    "id": "UVNhVXXkvndk"
   },
   "outputs": [],
   "source": [
    "MAX_LEN = 128\n",
    "learning_rate = 2e-5\n",
    "batch_size = 16\n",
    "epochs = 3\n"
   ]
  },
  {
   "cell_type": "code",
   "execution_count": 13,
   "metadata": {
    "colab": {
     "base_uri": "https://localhost:8080/",
     "height": 102
    },
    "colab_type": "code",
    "executionInfo": {
     "elapsed": 1533424,
     "status": "ok",
     "timestamp": 1575146001586,
     "user": {
      "displayName": "arpana alka",
      "photoUrl": "",
      "userId": "00941466105270682854"
     },
     "user_tz": -330
    },
    "id": "7vjGUbKFwG7T",
    "outputId": "692ce2cc-9c25-4be9-8a31-b9bd9a72c0c7"
   },
   "outputs": [
    {
     "name": "stdout",
     "output_type": "stream",
     "text": [
      "Tokenize the first sentence:\n",
      "['[CLS]', 'i', 'liked', 'it', '[SEP]']\n",
      "total sentences are: 58322\n",
      "Tokenize the first sentence:\n",
      "['[CLS]', 'i', 'liked', 'it', '[SEP]']\n"
     ]
    }
   ],
   "source": [
    "# Create sentence and label lists\n",
    "sentences_actual = df.sentence.values\n",
    "\n",
    "# We need to add special tokens at the beginning and end of each sentence for BERT to work properly\n",
    "sentences_actual = [\"[CLS] \" + sentences_actual + \" [SEP]\" for sentences_actual in sentences_actual]\n",
    "labels_actual = df.label.values\n",
    "\n",
    "tokenizer = BertTokenizer.from_pretrained('bert-base-uncased', do_lower_case=True)\n",
    "tokenized_texts = [tokenizer.tokenize(sent) for sent in sentences_actual]\n",
    "print (\"Tokenize the first sentence:\")\n",
    "print (tokenized_texts[0])\n",
    "\n",
    "index = []\n",
    "for i,x in enumerate(tokenized_texts):\n",
    "    if len(x)<MAX_LEN:\n",
    "        index.append(i)\n",
    "sentences = []\n",
    "labels=[]\n",
    "for i in index:\n",
    "   sentences.append(sentences_actual[i]) \n",
    "   labels.append(labels_actual[i])\n",
    "print('total sentences are:',len(sentences))\n",
    "\n",
    "tokenizer = BertTokenizer.from_pretrained('bert-base-uncased', do_lower_case=True)\n",
    "tokenized_texts = [tokenizer.tokenize(sent) for sent in sentences]\n",
    "print (\"Tokenize the first sentence:\")\n",
    "print (tokenized_texts[0])\n",
    "\n",
    "input_ids = [tokenizer.convert_tokens_to_ids(x) for x in tokenized_texts]\n",
    "# Pad our input tokens\n",
    "input_ids = pad_sequences(input_ids, maxlen=MAX_LEN, dtype=\"long\", truncating=\"post\", padding=\"post\")\n",
    "\n",
    "# Create attention masks\n",
    "attention_masks = []\n",
    "# Create a mask of 1s for each token followed by 0s for padding\n",
    "for seq in input_ids:\n",
    "  seq_mask = [float(i>0) for i in seq]\n",
    "  attention_masks.append(seq_mask)\n",
    "\n",
    "# Use train_test_split to split our data into train and validation sets for training\n",
    "train_inputs, validation_inputs, train_labels, validation_labels = train_test_split(input_ids, labels, \n",
    "                                                            random_state=2018, test_size=0.1)\n",
    "train_masks, validation_masks, _, _ = train_test_split(attention_masks, input_ids,\n",
    "                                             random_state=2018, test_size=0.1)\n",
    "\n",
    "# Convert all of our data into torch tensors, the required datatype for our model\n",
    "train_inputs = torch.tensor(train_inputs)\n",
    "validation_inputs = torch.tensor(validation_inputs)\n",
    "train_labels = torch.tensor(train_labels)\n",
    "validation_labels = torch.tensor(validation_labels)\n",
    "train_masks = torch.tensor(train_masks)\n",
    "validation_masks = torch.tensor(validation_masks)\n",
    "\n",
    "# Create an iterator of our data with torch DataLoader. This helps save on memory during training because, unlike a for loop, \n",
    "# with an iterator the entire dataset does not need to be loaded into memory\n",
    "\n",
    "train_data = TensorDataset(train_inputs, train_masks, train_labels)\n",
    "train_sampler = RandomSampler(train_data)\n",
    "train_dataloader = DataLoader(train_data, sampler=train_sampler, batch_size=batch_size)\n",
    "\n",
    "validation_data = TensorDataset(validation_inputs, validation_masks, validation_labels)\n",
    "validation_sampler = SequentialSampler(validation_data)\n",
    "validation_dataloader = DataLoader(validation_data, sampler=validation_sampler, batch_size=batch_size)\n",
    "\n",
    "\n",
    "# Load BertForSequenceClassification, the pretrained BERT model with a single linear classification layer on top. \n",
    "model = BertForSequenceClassification.from_pretrained(\"bert-base-uncased\", num_labels=5)\n",
    "model.cuda()\n",
    "\n",
    "param_optimizer = list(model.named_parameters())\n",
    "no_decay = ['bias', 'gamma', 'beta']\n",
    "optimizer_grouped_parameters = [\n",
    "    {'params': [p for n, p in param_optimizer if not any(nd in n for nd in no_decay)],\n",
    "     'weight_decay_rate': 0.01},\n",
    "    {'params': [p for n, p in param_optimizer if any(nd in n for nd in no_decay)],\n",
    "     'weight_decay_rate': 0.0}\n",
    "]\n",
    "\n",
    "\n",
    "# This variable contains all of the hyperparemeter information our training loop needs\n",
    "optimizer = AdamW(optimizer_grouped_parameters,\n",
    "                     lr=learning_rate,\n",
    "                     )\n",
    "\n",
    "\n",
    "# Function to calculate the accuracy of our predictions vs labels\n",
    "def flat_accuracy(preds, labels):\n",
    "    pred_flat = np.argmax(preds, axis=1).flatten()\n",
    "    labels_flat = labels.flatten()\n",
    "    return np.sum(pred_flat == labels_flat) / len(labels_flat)"
   ]
  },
  {
   "cell_type": "code",
   "execution_count": 14,
   "metadata": {
    "colab": {
     "base_uri": "https://localhost:8080/",
     "height": 632
    },
    "colab_type": "code",
    "executionInfo": {
     "elapsed": 3808539,
     "status": "ok",
     "timestamp": 1575148277147,
     "user": {
      "displayName": "arpana alka",
      "photoUrl": "",
      "userId": "00941466105270682854"
     },
     "user_tz": -330
    },
    "id": "Vo3jkWlHwN0t",
    "outputId": "8e46f3da-035f-4543-8982-fa037927bf41",
    "scrolled": true
   },
   "outputs": [
    {
     "name": "stderr",
     "output_type": "stream",
     "text": [
      "\r",
      "Epoch:   0%|          | 0/3 [00:00<?, ?it/s]"
     ]
    },
    {
     "name": "stdout",
     "output_type": "stream",
     "text": [
      "Train loss: 0.8390404582023621\n"
     ]
    },
    {
     "name": "stderr",
     "output_type": "stream",
     "text": [
      "\r",
      "Epoch:  33%|███▎      | 1/3 [12:38<25:16, 758.12s/it]"
     ]
    },
    {
     "name": "stdout",
     "output_type": "stream",
     "text": [
      "Validation Accuracy: 0.6880517503805175\n",
      "Train loss: 0.7538042068481445\n"
     ]
    },
    {
     "name": "stderr",
     "output_type": "stream",
     "text": [
      "\r",
      "Epoch:  67%|██████▋   | 2/3 [25:15<12:37, 757.98s/it]"
     ]
    },
    {
     "name": "stdout",
     "output_type": "stream",
     "text": [
      "Validation Accuracy: 0.6860350076103501\n",
      "Train loss: 0.6749621033668518\n"
     ]
    },
    {
     "name": "stderr",
     "output_type": "stream",
     "text": [
      "\r",
      "Epoch: 100%|██████████| 3/3 [37:53<00:00, 757.90s/it]"
     ]
    },
    {
     "name": "stdout",
     "output_type": "stream",
     "text": [
      "Validation Accuracy: 0.6790525114155251\n"
     ]
    },
    {
     "name": "stderr",
     "output_type": "stream",
     "text": [
      "\n"
     ]
    },
    {
     "data": {
      "image/png": "[encoded data removed]",
      "text/plain": [
       "<Figure size 1080x576 with 1 Axes>"
      ]
     },
     "metadata": {
      "tags": []
     },
     "output_type": "display_data"
    }
   ],
   "source": [
    "# Store our loss and accuracy for plotting\n",
    "train_loss_set = []\n",
    "\n",
    "# trange is a tqdm wrapper around the normal python range\n",
    "for _ in trange(epochs, desc=\"Epoch\"):\n",
    "  # Training\n",
    "  \n",
    "  # Set our model to training mode (as opposed to evaluation mode)\n",
    "  model.train()\n",
    "  \n",
    "  # Tracking variables\n",
    "  tr_loss = 0\n",
    "  nb_tr_examples, nb_tr_steps = 0, 0\n",
    "  \n",
    "  # Train the data for one epoch\n",
    "  for step, batch in enumerate(train_dataloader):\n",
    "    # Add batch to GPU\n",
    "    batch = tuple(t.to(device) for t in batch)\n",
    "    # Unpack the inputs from our dataloader\n",
    "    b_input_ids, b_input_mask, b_labels = batch\n",
    "    # Clear out the gradients (by default they accumulate)\n",
    "    optimizer.zero_grad()\n",
    "    # Forward pass\n",
    "    loss = model(b_input_ids,  attention_mask=b_input_mask, labels=b_labels)\n",
    "\n",
    "    train_loss_set.append(loss[0])    \n",
    "    # # Backward pass\n",
    "    loss[0].backward()\n",
    "    # Update parameters and take a step using the computed gradient\n",
    "    optimizer.step()\n",
    "    \n",
    "    \n",
    "    # Update tracking variables\n",
    "    tr_loss += loss[0]\n",
    "    nb_tr_examples += b_input_ids.size(0)\n",
    "    nb_tr_steps += 1\n",
    "\n",
    "  print(\"Train loss: {}\".format(tr_loss/nb_tr_steps))\n",
    "    \n",
    "    \n",
    "  # Validation\n",
    "\n",
    "  # Put model in evaluation mode to evaluate loss on the validation set\n",
    "  model.eval()\n",
    "\n",
    "  # Tracking variables \n",
    "  eval_loss, eval_accuracy = 0, 0\n",
    "  nb_eval_steps, nb_eval_examples = 0, 0\n",
    "\n",
    "  # Evaluate data for one epoch\n",
    "  for batch in validation_dataloader:\n",
    "    # Add batch to GPU\n",
    "    batch = tuple(t.to(device) for t in batch)\n",
    "    # Unpack the inputs from our dataloader\n",
    "    b_input_ids, b_input_mask, b_labels = batch\n",
    "    # Telling the model not to compute or store gradients, saving memory and speeding up validation\n",
    "    with torch.no_grad():\n",
    "      # Forward pass, calculate logit predictions\n",
    "      logits = model(b_input_ids, attention_mask=b_input_mask)[0]\n",
    "    \n",
    "    # Move logits and labels to CPU\n",
    "    logits = logits.detach().cpu().numpy()\n",
    "    label_ids = b_labels.to('cpu').numpy()\n",
    "\n",
    "    tmp_eval_accuracy = flat_accuracy(logits, label_ids)\n",
    "    \n",
    "    eval_accuracy += tmp_eval_accuracy\n",
    "    nb_eval_steps += 1\n",
    "\n",
    "  print(\"Validation Accuracy: {}\".format(eval_accuracy/nb_eval_steps))\n",
    "\n",
    "plt.figure(figsize=(15,8))\n",
    "plt.title(\"Training loss\")\n",
    "plt.xlabel(\"Batch\")\n",
    "plt.ylabel(\"Loss\")\n",
    "plt.plot(train_loss_set)\n",
    "plt.show()"
   ]
  },
  {
   "cell_type": "code",
   "execution_count": 0,
   "metadata": {
    "colab": {},
    "colab_type": "code",
    "id": "G7MwOv3LzUem"
   },
   "outputs": [],
   "source": []
  }
 ],
 "metadata": {
  "accelerator": "GPU",
  "colab": {
   "collapsed_sections": [],
   "name": "Bert retraining.ipynb",
   "provenance": [
    {
     "file_id": "14gTSOHd6R3Zf9D7U3yqJAjdmahAVrpzj",
     "timestamp": 1575142917382
    },
    {
     "file_id": "1VvbuWCmHHnOsgwm-1_g_Yw1YuLQ7tw4i",
     "timestamp": 1575125326509
    }
   ]
  },
  "kernelspec": {
   "display_name": "Python 3",
   "language": "python",
   "name": "python3"
  },
  "language_info": {
   "codemirror_mode": {
    "name": "ipython",
    "version": 3
   },
   "file_extension": ".py",
   "mimetype": "text/x-python",
   "name": "python",
   "nbconvert_exporter": "python",
   "pygments_lexer": "ipython3",
   "version": "3.7.3"
  }
 },
 "nbformat": 4,
 "nbformat_minor": 1
}
